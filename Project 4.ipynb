{
 "cells": [
  {
   "cell_type": "code",
   "execution_count": 92,
   "metadata": {
    "ExecuteTime": {
     "end_time": "2017-09-07T04:54:58.268383Z",
     "start_time": "2017-09-07T04:54:58.265101Z"
    },
    "collapsed": true
   },
   "outputs": [],
   "source": [
    "import pandas as pd\n",
    "import numpy as np\n",
    "import seaborn as sns\n",
    "import re"
   ]
  },
  {
   "cell_type": "markdown",
   "metadata": {},
   "source": [
    "# Factors that impact Salary"
   ]
  },
  {
   "cell_type": "markdown",
   "metadata": {},
   "source": [
    "To predict salary, building either a classification or regression model.\n",
    "\n",
    "- Frame this as a regression problem, you will be estimating the listed salary amounts. \n",
    "- Frame this as a classification problem, you will create labels from these salaries (high vs. low salary) according to thresholds (such as median salary).\n",
    "\n",
    "Models that may be useful for this problem:\n",
    "\n",
    "- NLP\n",
    "- Unsupervised learning and dimensionality reduction techniques (PCA, clustering)\n",
    "- Ensemble methods and decision tree models\n",
    "- SVM models\n",
    "\n",
    "Whatever you decide to use, the most important thing is to justify your choices and interpret your results. "
   ]
  },
  {
   "cell_type": "markdown",
   "metadata": {},
   "source": [
    "## Data Cleaning"
   ]
  },
  {
   "cell_type": "markdown",
   "metadata": {},
   "source": [
    "### Drop duplicate and na"
   ]
  },
  {
   "cell_type": "code",
   "execution_count": 70,
   "metadata": {
    "ExecuteTime": {
     "end_time": "2017-09-07T04:43:37.652702Z",
     "start_time": "2017-09-07T04:43:37.611163Z"
    }
   },
   "outputs": [
    {
     "name": "stdout",
     "output_type": "stream",
     "text": [
      "(1241, 7)\n",
      "(1034, 7)\n",
      "(1034, 7)\n"
     ]
    }
   ],
   "source": [
    "# Load data scraping from au.indeed.com (details in Scraping notebook)\n",
    "jobs = pd.read_csv('jobs.csv')\n",
    "jobs.drop('Unnamed: 0', axis=1, inplace=True)\n",
    "print jobs.shape\n",
    "jobs.drop_duplicates(inplace=True)\n",
    "print jobs.shape\n",
    "jobs.dropna(inplace=True)\n",
    "print jobs.shape\n",
    "jobs.columns = ['city', 'title', 'company', 'location', 'description', 'salarytype', 'salary']"
   ]
  },
  {
   "cell_type": "markdown",
   "metadata": {},
   "source": [
    "## Get dummies"
   ]
  },
  {
   "cell_type": "code",
   "execution_count": 72,
   "metadata": {
    "ExecuteTime": {
     "end_time": "2017-09-07T04:43:55.776380Z",
     "start_time": "2017-09-07T04:43:55.769393Z"
    }
   },
   "outputs": [],
   "source": [
    "jobs['state'] = jobs.location.map(lambda x: x.split()[-1])\n",
    "jobs.drop('location', axis=1, inplace=True)\n",
    "\n",
    "state_dummies = pd.get_dummies(jobs.state)\n",
    "jobs = pd.concat([jobs, state_dummies], axis=1)\n",
    "jobs.drop(['state', 'Australia'], axis=1, inplace=True)\n",
    "\n",
    "city_dummies = pd.get_dummies(jobs.city)\n",
    "jobs = pd.concat([jobs, city_dummies], axis=1)\n",
    "jobs.drop(['city', 'Newcastle'], axis=1, inplace=True)\n",
    "\n",
    "type_dummies = pd.get_dummies(jobs.salarytype)\n",
    "jobs = pd.concat([jobs, type_dummies], axis=1)\n",
    "jobs.drop(['salarytype', 'month'], axis=1, inplace=True)"
   ]
  },
  {
   "cell_type": "code",
   "execution_count": 107,
   "metadata": {
    "ExecuteTime": {
     "end_time": "2017-09-07T05:25:58.809986Z",
     "start_time": "2017-09-07T05:25:58.798539Z"
    }
   },
   "outputs": [
    {
     "data": {
      "text/plain": [
       "0                   Research Scientist - Machine Learning\n",
       "1                                          Data Scientist\n",
       "2                                          Data Scientist\n",
       "3         Data Analyst/Jr. Data Scientist - Perm - Sydney\n",
       "4                        Data Scientist Sydney, Australia\n",
       "5       Data Scientist - Machine Learning - Validated ...\n",
       "6                        Data Scientist - Top ASX company\n",
       "7          Customer Data Scientist - Insights & Analytics\n",
       "8              Research Scientist - Theoretical Physicist\n",
       "9       Principal Consultant, Artificial Intelligence ...\n",
       "10                  Data Scientist / Statistical Modeller\n",
       "11                                  Senior Data Scientist\n",
       "12                         Data Scientist - Perm - Sydney\n",
       "13      Data Scientist/Biostatistician - Medicine Insi...\n",
       "14                               Administrative Assistant\n",
       "15           Business Intelligence Lead Sydney, Australia\n",
       "16      BI, DW and Data IT Recruitment Consultant - Sy...\n",
       "17                Environmental Scientist - Water Quality\n",
       "18                                 Senior Data Scientist \n",
       "19                             Science Operations Manager\n",
       "20                                  Senior Data Scientist\n",
       "21                                    Senior Data Science\n",
       "22               Casual Pilot Plant Operations Technician\n",
       "23                Environmental Scientist - Water Quality\n",
       "24                     Creative Web Developer - Marketing\n",
       "25                                           Data Analyst\n",
       "26                                           Data Analyst\n",
       "27                             Technical Business Analyst\n",
       "28           Analyst/Economist - Budget Strategy Division\n",
       "29                                       Campaign Analyst\n",
       "                              ...                        \n",
       "1198             Mid-level Business Intelligence Analyst \n",
       "1199             Mid-level Business Intelligence Analyst \n",
       "1200                                       Policy Officer\n",
       "1201               Associate Director - BI / DW - Defence\n",
       "1202                  Project Manager - BI / Cyber focus \n",
       "1203                  Project Manager - BI / Cyber focus \n",
       "1204    Cloud Solution Architect | AWS/Azure platforms...\n",
       "1205                                   E-Commerce Manager\n",
       "1206    APS Gazetted Vacancy - APS 5 - Departmental Of...\n",
       "1207                      Electronics Engineer Submariner\n",
       "1209                                Geospatial Technician\n",
       "1210                    APS 5 - ICT Systems Test Engineer\n",
       "1211                            Senior IT System Engineer\n",
       "1212    Java Software Engineers & Firmware Systems Eng...\n",
       "1213    Senior Presales Consultant ' SAP/Cloud' $180-2...\n",
       "1214           Presales Consultant 'SaaS / Cloud' $200 k+\n",
       "1215                                     Business Analyst\n",
       "1216                        APS 5 - ICT Business Analyst \n",
       "1219                     DHA Level 5 - Analyst/Programmer\n",
       "1222                                    Financial Analyst\n",
       "1225                Senior Business Objects/ETL Developer\n",
       "1229                 Business Analyst  $800 per day + GST\n",
       "1231          Cyber Security resources needed in Canberra\n",
       "1233    APS Gazetted Vacancy - APS 6 - Fraud Analyst -...\n",
       "1234             APS 4, APS 5, APS 6 - Software Developer\n",
       "1235                    Big Data / Information Architect \n",
       "1236                    Big Data / Information Architect \n",
       "1237                             Data Storage Team Leader\n",
       "1238                       Program Lead - Cloudera Hadoop\n",
       "1239                             Senior Building Surveyor\n",
       "Name: title, Length: 1034, dtype: object"
      ]
     },
     "execution_count": 107,
     "metadata": {},
     "output_type": "execute_result"
    }
   ],
   "source": [
    "def f(x):\n",
    "    x = re.sub(r'\\([^)]*\\)', '', x)\n",
    "    return x\n",
    "\n",
    "jobs.title.map(f)"
   ]
  },
  {
   "cell_type": "code",
   "execution_count": null,
   "metadata": {
    "collapsed": true
   },
   "outputs": [],
   "source": []
  },
  {
   "cell_type": "code",
   "execution_count": null,
   "metadata": {
    "collapsed": true
   },
   "outputs": [],
   "source": []
  },
  {
   "cell_type": "code",
   "execution_count": null,
   "metadata": {
    "collapsed": true
   },
   "outputs": [],
   "source": []
  },
  {
   "cell_type": "code",
   "execution_count": null,
   "metadata": {
    "collapsed": true
   },
   "outputs": [],
   "source": []
  },
  {
   "cell_type": "code",
   "execution_count": null,
   "metadata": {
    "collapsed": true
   },
   "outputs": [],
   "source": []
  },
  {
   "cell_type": "code",
   "execution_count": null,
   "metadata": {
    "collapsed": true
   },
   "outputs": [],
   "source": []
  },
  {
   "cell_type": "code",
   "execution_count": null,
   "metadata": {
    "collapsed": true
   },
   "outputs": [],
   "source": []
  },
  {
   "cell_type": "markdown",
   "metadata": {
    "collapsed": true
   },
   "source": [
    "# Factors that distinguish job category"
   ]
  },
  {
   "cell_type": "markdown",
   "metadata": {},
   "source": [
    "Identify features in the data related to job postings that can distinguish job titles from each other. \n",
    "\n",
    "There are a variety of interesting ways you can frame the target variable, for example:\n",
    "\n",
    "- What components of a job posting distinguish data scientists from other data jobs?\n",
    "- What features are important for distinguishing junior vs. senior positions?\n",
    "- Do the requirements for titles vary significantly with industry (e.g. healthcare vs. government)?\n",
    "\n",
    "You may end up making multiple classification models to tackle different questions. \n",
    "\n",
    "Be sure to clearly explain your hypotheses and framing, any feature engineering, and what your target variables are. \n",
    "\n",
    "The type of classification model you choose is up to you. \n",
    "\n",
    "Be sure to interpret your results and evaluate your models' performance."
   ]
  },
  {
   "cell_type": "markdown",
   "metadata": {},
   "source": [
    "# ROC"
   ]
  },
  {
   "cell_type": "markdown",
   "metadata": {},
   "source": [
    "Your boss would rather tell a client incorrectly that they would get a lower salary job than tell a client incorrectly that they would get a high salary job. Adjust one of your models to ease his mind, and explain what it is doing and any tradeoffs. Plot the ROC curve."
   ]
  },
  {
   "cell_type": "markdown",
   "metadata": {},
   "source": [
    "# Requirement"
   ]
  },
  {
   "cell_type": "markdown",
   "metadata": {},
   "source": [
    "- Scrape and prepare your own data.\n",
    "\n",
    "\n",
    "- Create and compare at least two models for each section. One of the two models should be a decision tree or ensemble model. The other can be a classifier or regression of your choosing (e.g. Ridge, logistic regression, KNN, SVM, etc).\n",
    "\n",
    "    - Section 1: Job Salary Trends\n",
    "    - Section 2: Job Category Factors\n",
    "\n",
    "\n",
    "- Prepare a polished Jupyter Notebook with your analysis for a peer audience of data scientists.\n",
    "\n",
    "    - Make sure to clearly describe and label each section.\n",
    "    - Comment on your code so that others could, in theory, replicate your work.\n",
    "    \n",
    "    \n",
    "- A brief writeup in an executive summary, written for a non-technical audience.\n",
    "\n",
    "    - Writeups should be at least 500-1000 words, defining any technical terms, explaining your approach, as well as any risks and limitations.\n",
    "    \n",
    "\n",
    "- Answer the salary discussion by using your model to explain the tradeoffs between detecting high vs low salary positions.\n",
    "\n",
    "\n",
    "- Convert your executive summary into a public blog post of at least 500 words, in which you document your approach in a tutorial for other aspiring data scientists. Link to this in your notebook.\n"
   ]
  },
  {
   "cell_type": "code",
   "execution_count": null,
   "metadata": {
    "collapsed": true
   },
   "outputs": [],
   "source": []
  }
 ],
 "metadata": {
  "anaconda-cloud": {},
  "kernelspec": {
   "display_name": "Python [default]",
   "language": "python",
   "name": "python2"
  },
  "language_info": {
   "codemirror_mode": {
    "name": "ipython",
    "version": 2
   },
   "file_extension": ".py",
   "mimetype": "text/x-python",
   "name": "python",
   "nbconvert_exporter": "python",
   "pygments_lexer": "ipython2",
   "version": "2.7.13"
  },
  "toc": {
   "colors": {
    "hover_highlight": "#DAA520",
    "navigate_num": "#000000",
    "navigate_text": "#333333",
    "running_highlight": "#FF0000",
    "selected_highlight": "#FFD700",
    "sidebar_border": "#EEEEEE",
    "wrapper_background": "#FFFFFF"
   },
   "moveMenuLeft": true,
   "nav_menu": {
    "height": "12px",
    "width": "252px"
   },
   "navigate_menu": true,
   "number_sections": true,
   "sideBar": true,
   "threshold": 4,
   "toc_cell": false,
   "toc_section_display": "block",
   "toc_window_display": true,
   "widenNotebook": false
  }
 },
 "nbformat": 4,
 "nbformat_minor": 2
}
