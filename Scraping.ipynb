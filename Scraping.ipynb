{
 "cells": [
  {
   "cell_type": "code",
   "execution_count": 1,
   "metadata": {
    "ExecuteTime": {
     "end_time": "2017-09-07T04:04:23.472632Z",
     "start_time": "2017-09-07T04:04:22.730297Z"
    },
    "collapsed": true
   },
   "outputs": [],
   "source": [
    "from bs4 import BeautifulSoup\n",
    "import requests\n",
    "import pandas as pd\n",
    "import time\n",
    "import csv\n",
    "import random"
   ]
  },
  {
   "cell_type": "markdown",
   "metadata": {},
   "source": [
    "# Scrap data"
   ]
  },
  {
   "cell_type": "markdown",
   "metadata": {},
   "source": [
    "## Scrap data related job from indeed"
   ]
  },
  {
   "cell_type": "markdown",
   "metadata": {},
   "source": [
    "To limit the scope, focusing on data-related job postings, e.g. data scientist, data analyst, research scientist, business intelligence, and some others. \n",
    "\n",
    "Also decreasing the scope by limiting your search to Australia.\n"
   ]
  },
  {
   "cell_type": "code",
   "execution_count": null,
   "metadata": {
    "ExecuteTime": {
     "end_time": "2017-09-05T04:30:08.596950Z",
     "start_time": "2017-09-05T04:30:08.592409Z"
    },
    "collapsed": true
   },
   "outputs": [],
   "source": [
    "# URL example:\n",
    "url = 'https://au.indeed.com/jobs? \\\n",
    "    q=data%20scientist%20 \\\n",
    "    %2480%2C000& \\\n",
    "    l=melbourne& \\\n",
    "    start=10& \\\n",
    "    pp=AAoAAAFcPnYSNwAAAAEZ_sq1AQAyMo7IxDIsyedp6BS6'"
   ]
  },
  {
   "cell_type": "markdown",
   "metadata": {},
   "source": [
    "About the way the URL is structured:\n",
    "- note “q=” begins the string for the “what” field on the page, separating search terms with “%20” (i.e. searching for “data%20scientist” jobs)\n",
    "- when specifying salary, it will parse by commas in the salary figure, so the beginning of the salary will be preceded by %24 and then the number before the first comma, it will then be broken by %2C and continue with the rest of the number (i.e. %2420%2C000 = $20,000)\n",
    "- note “&l=” begins the string for city of interest, separating search terms with “+” if city is more than one word (i.e. “New+York”) ['%20' also can be separator]\n",
    "- note “&start=” notes the search result where you want to begin (i.e., start by looking at the 10th result)"
   ]
  },
  {
   "cell_type": "markdown",
   "metadata": {},
   "source": [
    "Set up initial condition:\n",
    "\n",
    "- Cities\n",
    "- Job titles\n",
    "- Features"
   ]
  },
  {
   "cell_type": "code",
   "execution_count": null,
   "metadata": {
    "ExecuteTime": {
     "end_time": "2017-09-05T05:13:08.237950Z",
     "start_time": "2017-09-05T05:13:08.232001Z"
    },
    "collapsed": true
   },
   "outputs": [],
   "source": [
    "cities = ['Sydney', 'Melbourne', 'Brisbane', 'Adelaide', 'Perth', \n",
    "          'Gold%20Coast', 'Newcastle', 'Canberra']\n",
    "\n",
    "jobtitles = ['data%20scientist', 'data%20analyst', 'research%20scientist', \n",
    "             'business%20intelligence', 'data%20engineer', 'business%20analyst',\n",
    "             'big%20data']\n",
    "\n",
    "columns = ['city', 'job_title', 'job_link', 'company_name', 'location', 'summary', 'salary']"
   ]
  },
  {
   "cell_type": "code",
   "execution_count": null,
   "metadata": {
    "ExecuteTime": {
     "end_time": "2017-09-06T23:51:35.120492Z",
     "start_time": "2017-09-06T23:51:35.050728Z"
    },
    "collapsed": true
   },
   "outputs": [],
   "source": [
    "def scraping(cities, jobtitles, columns, output):\n",
    "    filename = output + '-output.csv'\n",
    "    with open(filename,'wb') as resultFile:\n",
    "        wr = csv.writer(resultFile, dialect='excel')\n",
    "        wr.writerow(columns)\n",
    "\n",
    "        for city in cities:\n",
    "            for job in jobtitles:\n",
    "                maxResult = 0\n",
    "                url = 'http://au.indeed.com/jobs?q=' + str(job) + '&l=' + str(city)\n",
    "                resp = requests.get(url)\n",
    "                sou = BeautifulSoup(resp.text, 'lxml')\n",
    "                l = sou.find('div', id='searchCount')\n",
    "                if l != None:\n",
    "                    jobCount = l.text.split(' ')[-1]\n",
    "                    jobCount = int(jobCount.replace(',',''))\n",
    "                    if jobCount > 1000:\n",
    "                        jobCount = 1000\n",
    "\n",
    "                    for start in range(0, jobCount, 10):\n",
    "                        url = 'http://au.indeed.com/jobs?q=' + str(job) + '&l=' + str(city) + '&start=' + str(start)\n",
    "                        page = requests.get(url)\n",
    "                        print url\n",
    "\n",
    "                        time.sleep(1) \n",
    "                        home_url = 'https://au.indeed.com'\n",
    "                        soup = BeautifulSoup(page.text, 'lxml')\n",
    "\n",
    "                        for div in soup.find_all(name='div', attrs={'class':'row'}): \n",
    "                            job_post = [] \n",
    "                            job_post.append(city) \n",
    "\n",
    "                            for a in div.find_all(name='a', attrs={'data-tn-element':'jobTitle'}):\n",
    "                                job_post.append(a['title'])\n",
    "                                jobLink = home_url + a['href']\n",
    "                                job_post.append(jobLink)\n",
    "                            print jobLink\n",
    "\n",
    "                            company = div.find_all(name='span', attrs={'class':'company'}) \n",
    "                            if len(company) > 0: \n",
    "                                for b in company:\n",
    "                                    try:\n",
    "                                        job_post.append(b.text.strip()) \n",
    "                                    except:\n",
    "                                        job_post.append(b.text)\n",
    "                            else: \n",
    "                                sec_try = div.find_all(name='span', attrs={'class':'result-link-source'})\n",
    "                                for span in sec_try:\n",
    "                                    job_post.append(span.text) \n",
    "\n",
    "                            c = div.findAll('span', attrs={'class': 'location'}) \n",
    "                            for span in c: \n",
    "                                job_post.append(span.text)\n",
    "\n",
    "                            d = div.findAll('span', attrs={'class': 'summary'}) \n",
    "                            for span in d:\n",
    "                                job_post.append(span.text.strip()) \n",
    "\n",
    "                            try:\n",
    "                                job_post.append(div.find('span', attrs={'class':'no-wrap'}).text) \n",
    "                            except:\n",
    "                                try:\n",
    "                                    div_two = div.find(name='div', attrs={'class':'sjcl'}) \n",
    "                                    div_three = div_two.find('div') \n",
    "                                    job_post.append(div_three.text.strip())\n",
    "                                except:\n",
    "                                    job_post.append('Nothing_found') \n",
    "\n",
    "                            try:\n",
    "                                wr.writerow(job_post)\n",
    "                            except: #some post has no company name\n",
    "                                continue"
   ]
  },
  {
   "cell_type": "code",
   "execution_count": null,
   "metadata": {
    "collapsed": true
   },
   "outputs": [],
   "source": [
    "scraping(cities, jobtitles, columns, 'data_job')"
   ]
  },
  {
   "cell_type": "markdown",
   "metadata": {},
   "source": [
    "## Scrap developer job"
   ]
  },
  {
   "cell_type": "code",
   "execution_count": null,
   "metadata": {
    "ExecuteTime": {
     "end_time": "2017-09-07T00:29:06.327271Z",
     "start_time": "2017-09-06T23:57:44.039280Z"
    },
    "collapsed": true
   },
   "outputs": [],
   "source": [
    "import csv, requests, time\n",
    "from bs4 import BeautifulSoup\n",
    "\n",
    "cities = ['Sydney', 'Melbourne', 'Brisbane', 'Adelaide', 'Perth', 'Gold%20Coast', 'Newcastle', 'Canberra']\n",
    "\n",
    "columns = ['city', 'job_title', 'job_link', 'company_name', 'location', 'summary', 'salary']\n",
    "\n",
    "jobtitles2 = ['java', 'python', 'C++', 'ruby', 'php', 'javascript', 'sql', '.net']\n",
    "\n",
    "scraping(cities, jobtitles2, columns, 'developer_job')"
   ]
  },
  {
   "cell_type": "markdown",
   "metadata": {},
   "source": [
    "# Preprocess data-related job data"
   ]
  },
  {
   "cell_type": "markdown",
   "metadata": {},
   "source": [
    "## Add description"
   ]
  },
  {
   "cell_type": "code",
   "execution_count": null,
   "metadata": {
    "ExecuteTime": {
     "end_time": "2017-09-06T00:02:32.816701Z",
     "start_time": "2017-09-06T00:02:32.172830Z"
    },
    "collapsed": true
   },
   "outputs": [],
   "source": [
    "import pandas as pd\n",
    "import time\n",
    "jobs = pd.read_csv('output.csv')\n",
    "\n",
    "df = jobs.drop_duplicates()\n",
    "df.shape"
   ]
  },
  {
   "cell_type": "code",
   "execution_count": null,
   "metadata": {
    "ExecuteTime": {
     "end_time": "2017-09-06T00:02:32.824455Z",
     "start_time": "2017-09-06T00:02:32.818331Z"
    },
    "collapsed": true
   },
   "outputs": [],
   "source": [
    "df = df[df.salary != 'Nothing_found']\n",
    "df.shape"
   ]
  },
  {
   "cell_type": "code",
   "execution_count": 5,
   "metadata": {
    "ExecuteTime": {
     "end_time": "2017-09-07T04:06:38.271923Z",
     "start_time": "2017-09-07T04:06:38.266430Z"
    },
    "collapsed": true
   },
   "outputs": [],
   "source": [
    "def link2descrip(link):\n",
    "    try:\n",
    "        response = requests.get(link)\n",
    "        soup = BeautifulSoup(response.text, 'lxml')\n",
    "\n",
    "        job_description = []\n",
    "        for li in soup.find_all(name='li'):\n",
    "            job_description.append(li.text.strip())\n",
    "\n",
    "        print link\n",
    "        time.sleep(1)\n",
    "        return job_description\n",
    "    except:\n",
    "        return None\n"
   ]
  },
  {
   "cell_type": "code",
   "execution_count": null,
   "metadata": {
    "ExecuteTime": {
     "end_time": "2017-09-06T01:32:10.743034Z",
     "start_time": "2017-09-06T00:02:45.611571Z"
    },
    "collapsed": true,
    "scrolled": false
   },
   "outputs": [],
   "source": [
    "df['description'] = df.job_link.map(link2descrip)"
   ]
  },
  {
   "cell_type": "code",
   "execution_count": null,
   "metadata": {
    "ExecuteTime": {
     "end_time": "2017-09-06T01:32:10.907725Z",
     "start_time": "2017-09-06T01:32:10.744526Z"
    },
    "collapsed": true
   },
   "outputs": [],
   "source": [
    "df.to_csv('output_add_descrip.csv')"
   ]
  },
  {
   "cell_type": "markdown",
   "metadata": {},
   "source": [
    "## Checking duplication"
   ]
  },
  {
   "cell_type": "code",
   "execution_count": null,
   "metadata": {
    "ExecuteTime": {
     "end_time": "2017-09-06T23:20:44.924723Z",
     "start_time": "2017-09-06T23:20:44.862071Z"
    },
    "collapsed": true
   },
   "outputs": [],
   "source": [
    "fix = pd.read_csv('output_add_descrip.csv')\n",
    "fix.drop(['Unnamed: 0', 'job_link'], axis=1, inplace=True)\n",
    "fix.shape"
   ]
  },
  {
   "cell_type": "code",
   "execution_count": null,
   "metadata": {
    "ExecuteTime": {
     "end_time": "2017-09-06T23:20:45.191269Z",
     "start_time": "2017-09-06T23:20:45.179861Z"
    },
    "collapsed": true
   },
   "outputs": [],
   "source": [
    "a = fix.drop_duplicates()\n",
    "a.reset_index(inplace=True)\n",
    "a.shape"
   ]
  },
  {
   "cell_type": "markdown",
   "metadata": {},
   "source": [
    "## Process salary"
   ]
  },
  {
   "cell_type": "code",
   "execution_count": null,
   "metadata": {
    "ExecuteTime": {
     "end_time": "2017-09-06T23:20:45.881539Z",
     "start_time": "2017-09-06T23:20:45.819883Z"
    },
    "collapsed": true
   },
   "outputs": [],
   "source": [
    "a.drop(['summary', 'index'], axis=1, inplace=True)\n",
    "print a.shape\n",
    "a = a.dropna()\n",
    "print a.shape\n",
    "\n",
    "def salaryCountType(x):\n",
    "    listsplit = str(x).split(' ')\n",
    "    return listsplit[-1]\n",
    "\n",
    "a['salaryCountType'] = a.salary.map(salaryCountType)"
   ]
  },
  {
   "cell_type": "code",
   "execution_count": null,
   "metadata": {
    "ExecuteTime": {
     "end_time": "2017-09-06T23:20:46.390791Z",
     "start_time": "2017-09-06T23:20:46.348117Z"
    },
    "collapsed": true
   },
   "outputs": [],
   "source": [
    "def formatSalary(x):\n",
    "    listsplit = str(x).split(' ')\n",
    "    salarytype = listsplit[-1]\n",
    "    \n",
    "    num = []\n",
    "    for e in listsplit:\n",
    "        try:\n",
    "            num.append(float(e.replace('$','').replace(',','')))\n",
    "        except:\n",
    "            continue\n",
    "                \n",
    "    if salarytype == 'year':\n",
    "        return np.mean(num)\n",
    "    elif salarytype == 'month':\n",
    "        return (np.mean(num) * 12)\n",
    "    elif salarytype == 'week':\n",
    "        return (np.mean(num) * 52)\n",
    "    elif salarytype == 'day':\n",
    "        return (np.mean(num) * 260)\n",
    "    else: # pay by hour\n",
    "        return (np.mean(num) * 7.5 * 260)\n",
    "\n",
    "a['salaryAmount'] = a.salary.map(formatSalary)\n",
    "\n",
    "a.drop('salary', axis=1, inplace=True)"
   ]
  },
  {
   "cell_type": "markdown",
   "metadata": {},
   "source": [
    "## Process description"
   ]
  },
  {
   "cell_type": "code",
   "execution_count": null,
   "metadata": {
    "ExecuteTime": {
     "end_time": "2017-09-06T23:20:48.154219Z",
     "start_time": "2017-09-06T23:20:48.045161Z"
    },
    "collapsed": true
   },
   "outputs": [],
   "source": [
    "def formatDes(x):\n",
    "    strl = x.split('\\', u\\'')\n",
    "    for i,s in enumerate(strl):\n",
    "        if s.startswith('u') or s.startswith('['):\n",
    "            strl[i] = s[2:]\n",
    "            \n",
    "    strl = [x for x in strl if len(x.split(' ')) > 1 and len(x) < 200]\n",
    "    return strl\n",
    "\n",
    "a.description = a.description.map(formatDes)\n",
    "a.head()"
   ]
  },
  {
   "cell_type": "code",
   "execution_count": null,
   "metadata": {
    "ExecuteTime": {
     "end_time": "2017-09-06T23:20:51.907656Z",
     "start_time": "2017-09-06T23:20:51.475631Z"
    },
    "collapsed": true
   },
   "outputs": [],
   "source": [
    "import re\n",
    "import string\n",
    "\n",
    "def split2words(x):\n",
    "    words = []\n",
    "    for e in x:\n",
    "        regex = re.compile('[%s]' % re.escape(string.punctuation))\n",
    "        text = regex.sub('', e)\n",
    "        words += text.split()\n",
    "    return words\n",
    "\n",
    "a.description = a.description.map(split2words)"
   ]
  },
  {
   "cell_type": "code",
   "execution_count": null,
   "metadata": {
    "ExecuteTime": {
     "end_time": "2017-09-06T23:20:52.284314Z",
     "start_time": "2017-09-06T23:20:52.213491Z"
    },
    "collapsed": true
   },
   "outputs": [],
   "source": [
    "a.to_csv('jobs.csv')"
   ]
  },
  {
   "cell_type": "markdown",
   "metadata": {
    "collapsed": true
   },
   "source": [
    "## Process for developer job"
   ]
  },
  {
   "cell_type": "code",
   "execution_count": 3,
   "metadata": {
    "ExecuteTime": {
     "end_time": "2017-09-07T04:06:07.612023Z",
     "start_time": "2017-09-07T04:06:07.426517Z"
    }
   },
   "outputs": [
    {
     "name": "stdout",
     "output_type": "stream",
     "text": [
      "(18731, 7)\n",
      "(14694, 7)\n",
      "(14593, 7)\n"
     ]
    },
    {
     "name": "stderr",
     "output_type": "stream",
     "text": [
      "/Users/alex/anaconda2/lib/python2.7/site-packages/ipykernel/__main__.py:7: SettingWithCopyWarning: \n",
      "A value is trying to be set on a copy of a slice from a DataFrame\n",
      "\n",
      "See the caveats in the documentation: http://pandas.pydata.org/pandas-docs/stable/indexing.html#indexing-view-versus-copy\n"
     ]
    },
    {
     "data": {
      "text/plain": [
       "(3210, 7)"
      ]
     },
     "execution_count": 3,
     "metadata": {},
     "output_type": "execute_result"
    }
   ],
   "source": [
    "jobs = pd.read_csv('developer_job-output.csv')\n",
    "print jobs.shape\n",
    "\n",
    "df = jobs.drop_duplicates()\n",
    "print df.shape\n",
    "\n",
    "df.dropna(inplace=True)\n",
    "print df.shape\n",
    "\n",
    "df = df[df.salary != 'Nothing_found']\n",
    "df.shape"
   ]
  },
  {
   "cell_type": "code",
   "execution_count": null,
   "metadata": {
    "ExecuteTime": {
     "start_time": "2017-09-07T04:06:48.824Z"
    }
   },
   "outputs": [
    {
     "name": "stdout",
     "output_type": "stream",
     "text": [
      "https://au.indeed.com/pagead/clk?mo=r&ad=-6NYlbfkN0AZLQvL0eTbPFT73Wkr_fTZ6lAUxbA2JeVsEs5B33cdgms0xSE7SUh7ufOBM5QvjQRjaalDaJSBCCbRy5crR8M5Qx2qAc9AeUUNCb8m9bvdWHguhBUkUMDXSxku3F_MQE5KlTAwnlEkFAm7NumssKHntbZ2vlmNFNPyUNQhqmJbbtx1qD6_CoxLbAeV3CJu4fk0mqrU6uEkzsiqssVTvTMqGr2NSydivXOXtu1AUDRU-h6pC8VSvZhxOblNsj7MQCOEWldl_ozPwp2cKZqwaEALIxzhl4EbDOOFu9nOO0zLLU16Zd1THx39FMi3na89A3TWg886HRymmJi3YmrhHjIf159wJGZvBza6Uo9VBQC3rqANi_nQX2JvgqZ0X7f9dLyFyiDlMvU75KsYiYF7ZX2njI5b6pJW5Oz5BePR-XVe7A==&p=1&sk=&fvj=1\n",
      "https://au.indeed.com/pagead/clk?mo=r&ad=-6NYlbfkN0AZLQvL0eTbPFT73Wkr_fTZ6lAUxbA2JeVsEs5B33cdgms0xSE7SUh7ufOBM5QvjQRjaalDaJSBCCbRy5crR8M5Qx2qAc9AeUUNCb8m9bvdWHguhBUkUMDXSxku3F_MQE5KlTAwnlEkFAm7NumssKHntbZ2vlmNFNOI5mXCKmSea7h8xCJilPIzvGa6XYk8XlX00MbVLw1oRzPQlLuQiPM8OJBdBQyvFCkNvM6vCKJCgoIAanw8SiFyAtFA6VI8JRoeGnL6CpaiyTRcPw8EDpaYf909tn1N2yTKsfIVL9QHipwerB7mb5eOlNoTX-eDs91IbvsDUNONdodD0iCcj2YTycsjyWLOyPuLTyWoSUyTvuW9LCCVX_kR02PEqwg4Cw06uXMM6j_6d4C8heKoDv963c47p2HhHPWDMtNL0ksSZw==&p=7&sk=&fvj=1\n",
      "https://au.indeed.com/pagead/clk?mo=r&ad=-6NYlbfkN0AZLQvL0eTbPFT73Wkr_fTZ6lAUxbA2JeVsEs5B33cdgms0xSE7SUh7ufOBM5QvjQRjaalDaJSBCCbRy5crR8M5Qx2qAc9AeUUNCb8m9bvdWHguhBUkUMDXSxku3F_MQE5KlTAwnlEkFAm7NumssKHntbZ2vlmNFNMsmTzxHUzKjU2SJBA0Sc8NbYbwiAC58dNmaG9PqsOhRGrmt7hrOGa8c5zuyNiIkv4k-8ulKyAkMTT4zy5EeIUMUc-TLSKA9WeuyojjVTusA-v-mduVWbalEJ-mZcR2e0FunAW5JXKht3HhrVnPDLNFGqAFA2MgaB9vDUMUlHkCX-dy8NcBlUwzCUW_msAdgUUX1gAngdr5gm4dzChdb44mQko8eYdrCkjD6A55E_GfQFabj7upr6LGiGb_nxFx4LEAD2bPpJF0BQ==&p=4&sk=&fvj=1\n",
      "https://au.indeed.com/company/Algorithmic-Trading-Strategies/jobs/Efx-Java-Developer-070740430c11acac?fccid=36e1f95c57a5520b\n",
      "https://au.indeed.com/pagead/clk?mo=r&ad=-6NYlbfkN0AZLQvL0eTbPFT73Wkr_fTZ6lAUxbA2JeVsEs5B33cdgms0xSE7SUh7ufOBM5QvjQRjaalDaJSBCCbRy5crR8M5Qx2qAc9AeUUNCb8m9bvdWHguhBUkUMDXSxku3F_MQE5KlTAwnlEkFAm7NumssKHntbZ2vlmNFNPrq6HPTvyp6s-25qF46DMMQzcSuFvWemDheV-3CDanA4DccvlpRhwpoghYXj-uvm1dNZSbr5bZ-uY1ro1k9Q7PgUvla0ScV1iKgih0p8FEmCr9RCGdB0GbyjnR6Bpf8VlM0DwnQR7YgSleeLBxzR8ESzWv3n8LDVKh4suiDRtst1sfs01643GjnR9ijKVZgv79hPKJYovN2peM6WzBUxJUiOs7ZFd8riBPdDyJxhb4kFiJKk--yPfZMfzrKNuRA3IXZ6dypy-afw==&p=5&sk=&fvj=1\n",
      "https://au.indeed.com/company/Globalmind-Technologies/jobs/Senior-Java-Developer-2bb8912afa8a8395?fccid=cc3c401d4f84352b\n",
      "https://au.indeed.com/pagead/clk?mo=r&ad=-6NYlbfkN0AZLQvL0eTbPFT73Wkr_fTZ6lAUxbA2JeVsEs5B33cdgms0xSE7SUh7ufOBM5QvjQRjaalDaJSBCCbRy5crR8M5Qx2qAc9AeUUNCb8m9bvdWHguhBUkUMDXSxku3F_MQE5KlTAwnlEkFAm7NumssKHntbZ2vlmNFNP_qdcW70SMsmgUVob4mXuin5TnK0zuX8ji8q9k7PkX4AfRDFBacBQGzI4E3kS4gT9IzHkxV5VeNe8er4D-MwIxIxcYFoMbTCUwqtUrgjHG_2fnir_xMzu370akigCeojoadGi1NBuCkMVUKb7s2Hs7EqbeEy7dbM6S2419h_Hgg5YvGW-de-5rAyS1KwfFnT0OUrL98pxiyS_wgjaNiT_mX-5NLyCppIlhckjLNgi9Q0V5sGexca7aQa1ifH_ot_0O6mOmGAOp7Q==&p=6&sk=&fvj=1\n",
      "https://au.indeed.com/company/Foodbomb/jobs/Full-Stack-Developer-e123d289f0987d87?fccid=791675edca6eb54c\n",
      "https://au.indeed.com/pagead/clk?mo=r&ad=-6NYlbfkN0AZLQvL0eTbPFT73Wkr_fTZ6lAUxbA2JeVsEs5B33cdgms0xSE7SUh7ufOBM5QvjQRjaalDaJSBCCbRy5crR8M5Qx2qAc9AeUUNCb8m9bvdWHguhBUkUMDXSxku3F_MQE5KlTAwnlEkFAm7NumssKHntbZ2vlmNFNO5o11sZaQn5Hcd7KQ9Zb9Rxx5gYVBfGurrHHPHmL6CEZyW4JiG8eJQYrZ0JEW7y6x7nK5kXIiALkg8wgoemLsH1UyA8NOC0rwCwBpIcphHF2n22D3D1rIFan6hzDWcRuZjTpirIIeLSt091joX1VpaOzwyJwsMdmWWsQ87e3ave1b7SdmzX2ZXt9fh9hKW130c0WvZFglG2QRN7mIP2WqJh5pTfDNNFEwY0vk9zdS3hdJ-CKlZgyTbD0C7diQ9dL4mhRwpGZk35Q==&p=7&sk=&fvj=1\n",
      "https://au.indeed.com/company/Secure-Code-Warrior/jobs/Full-Stack-Developer-9fd8569b441cba08?fccid=7fca95f9e8657a90\n",
      "https://au.indeed.com/pagead/clk?mo=r&ad=-6NYlbfkN0AZLQvL0eTbPFT73Wkr_fTZ6lAUxbA2JeVsEs5B33cdgms0xSE7SUh7ufOBM5QvjQRjaalDaJSBCCbRy5crR8M5Qx2qAc9AeUUNCb8m9bvdWHguhBUkUMDXSxku3F_MQE5KlTAwnlEkFAm7NumssKHntbZ2vlmNFNP2MuypNHoYQ5_HCtQGcGFxtbr9gMzw38OwtvkoqzIK1nFGhpC7ZE2poftlrpfn3qPfGJHCnl19OYKUGo4NJ9D5UNo_M7ZlNcjEvkXoQHTWUB_JuYmpHZyJpyQ7-QTxrIe3GbtZhOUL2Jrb6H8uF9xExNeoTE23yNhI49-0QwMRpeWUL8NXi41BEYd-7BV6ZZvjp5tbcz6XbcT3bsMJpXHWWiigTWjD2Mkvd2eOf0RmaGOuzyFU75hI6UWm9O_ctRr9nhMUFxl4Aw==&p=4&sk=&fvj=1\n",
      "https://au.indeed.com/pagead/clk?mo=r&ad=-6NYlbfkN0AZLQvL0eTbPFT73Wkr_fTZ6lAUxbA2JeVsEs5B33cdgms0xSE7SUh7ufOBM5QvjQRjaalDaJSBCCbRy5crR8M5Qx2qAc9AeUUNCb8m9bvdWHguhBUkUMDXSxku3F_MQE5KlTAwnlEkFAm7NumssKHntbZ2vlmNFNOYyLdNYG32X7CO2BL0yoomsKscCnf5zFljN5fNANVJAV3J-0FyXKNFKXEmvMlxmHV0xaxxpZ-Rm9PbCCaTUVaDZsBQBCC8zYjpi02y4w4sergJ_PwOt66pN46yZRBGTYaSs31t4_8T1gWgXja_oxR3VOw86I3WHNGyvej2Lz_yy7Ej0W-6FjQNFBVqCOON7Glklv1n-yCugijmiXRaP028Yffoqet2i-CTf1aUpXHBT25YPNxRqhsd27Hymkole5X13TOWBVlalA==&p=6&sk=&fvj=1\n",
      "https://au.indeed.com/rc/clk?jk=acec2ece1068dc0f&fccid=3cbbb5c29ca9bd3a\n",
      "https://au.indeed.com/pagead/clk?mo=r&ad=-6NYlbfkN0AZLQvL0eTbPFT73Wkr_fTZ6lAUxbA2JeVsEs5B33cdgms0xSE7SUh7ufOBM5QvjQRjaalDaJSBCCbRy5crR8M5Qx2qAc9AeUUNCb8m9bvdWHguhBUkUMDXSxku3F_MQE5KlTAwnlEkFAm7NumssKHntbZ2vlmNFNN7RN0y1hFDoiRUX5Kke89pNHbGLjfOML2p4NTR35z1Eb_RI-B6ZS86iANTp0apiwvvtRmpMxiIKPxVS_PMcvA_1cJoo6qp_Vm59meL7Ova5792NRp9bF53nhdIGl5EoZzMYkX1yed5U_0DFvVtwDna0PGoJxksvu9foF5aiL3XdftOppLCrtWA96sTambz4eaJlvV_10HQnERNmI9ICxyPg_zgwSgOvGTXcCnYTcu_vgk_TZeCfkxUSuqR65nPTxU0pSGjdLHuew==&p=5&sk=&fvj=1\n",
      "https://au.indeed.com/pagead/clk?mo=r&ad=-6NYlbfkN0AZLQvL0eTbPFT73Wkr_fTZ6lAUxbA2JeVsEs5B33cdgms0xSE7SUh7ufOBM5QvjQRjaalDaJSBCCbRy5crR8M5Qx2qAc9AeUUNCb8m9bvdWHguhBUkUMDXSxku3F_MQE5KlTAwnlEkFAm7NumssKHntbZ2vlmNFNMC6RblAnSPs89hWKIX9p4zUUEoQPh5JUfz0PRmwQZ180sUFGLey9_UtY9d2ecEXhfxqdMWnCuOBF6wW6WjTpeF-SjvMMNr-EV2LUq9IJfZa4ZE2XK2qDk1xjEn7iTEjvFKVKsP5Ifu92Fh3f6ncIOgcaQXB0FAsZFODHy_BZgU8_2vQcy5ZeMx4YgSOihv_3IPDs_Ku3ns1PriG4FriG2PpGLUkQTYUXLYR4rHq3sx8W0uZsfUKH_ucM1pV9pZJgjCSDaCzeL7qQ==&p=4&sk=&fvj=1\n",
      "https://au.indeed.com/rc/clk?jk=74f0405118e26156&fccid=c70fbb69945c84e0\n",
      "https://au.indeed.com/rc/clk?jk=706c96bda03dd27f&fccid=0d3a3c9e16872169\n",
      "https://au.indeed.com/pagead/clk?mo=r&ad=-6NYlbfkN0AZLQvL0eTbPFT73Wkr_fTZ6lAUxbA2JeVsEs5B33cdgms0xSE7SUh7ufOBM5QvjQRjaalDaJSBCCbRy5crR8M5Qx2qAc9AeUUNCb8m9bvdWHguhBUkUMDXSxku3F_MQE5KlTAwnlEkFAm7NumssKHntbZ2vlmNFNPbCoYTCJpqmNs1um3U_E0WziRQs3adwkwHxAS7UDAr73JGeYMlspgZClReL9--PUcH8C50c17LWQbGmAU3QfRkDUHUXq6bdBDeBjvopc-TU2Z96Rk6_fgyJ0CfhR9a_D45q-rKPNho5Rf36Omc4g-4p_i8VJgQdqjTU0Fjyt2LUccvadXAH3mi20cMckm_-OdS6IxHCQiYxbKFH3_3JsEGWsf545-yZJ6BLxIM-6d7SqS-Zc04Jnj6TpdNfZxi5Z0C9DMYeLe5Bw==&p=6&sk=&fvj=1\n",
      "https://au.indeed.com/company/PeppaCode/jobs/PHP-Developer-1ffb68f7e0345d02?fccid=9ff0cb7816dad8b0\n",
      "https://au.indeed.com/rc/clk?jk=cbcc0a798990e4cc&fccid=087fdafe1fd631b1\n",
      "https://au.indeed.com/pagead/clk?mo=r&ad=-6NYlbfkN0AZLQvL0eTbPFT73Wkr_fTZ6lAUxbA2JeVsEs5B33cdgms0xSE7SUh7ufOBM5QvjQRjaalDaJSBCCbRy5crR8M5Qx2qAc9AeUUNCb8m9bvdWHguhBUkUMDXSxku3F_MQE5KlTAwnlEkFAm7NumssKHntbZ2vlmNFNN4vMvDhouACBVZLVtl350DBiBMg90piwZ2Oi6T7mwzwBFFlgj9Y69KrH7lw7BBEZTQwD-Nxv9hFZIygnZsvDYmxLwYSXpmb-xkZtJqWlD4f-OTib_wdlMO78Ywvw1QTS6MPfk2mex3elSxF0hDu2dWClqVJlhyGiceCkcV7iNQ4w_0dLWwCrTtaTNPsNGV-DPPiGkCwtyPlLQbdTBf7yglg2h-Wln9ETql73o5ttR-xj6ccry-Tvwbm19IXIZnCP455o-7cxNWcw==&p=6&sk=&fvj=1\n",
      "https://au.indeed.com/pagead/clk?mo=r&ad=-6NYlbfkN0AZLQvL0eTbPFT73Wkr_fTZ6lAUxbA2JeVsEs5B33cdgms0xSE7SUh7ufOBM5QvjQRjaalDaJSBCCbRy5crR8M5Qx2qAc9AeUUNCb8m9bvdWHguhBUkUMDXSxku3F_MQE5KlTAwnlEkFAm7NumssKHntbZ2vlmNFNPyHT9y7tpqXVtclcJ2v3KXkl4Uj4_cxrCcwrYt5jK_obXkaGTMFlbVMkZlFfN0io49LeQ0rB4kmxfuMLII07a_Qi6I5Rhwqt4XVZgUsOD8NqGOG3NRN4W_sjOtkARaZsYxc59Az_dGiPMU2y_JSD60ePgQvqYpLnIJO2hYanlB7LJ08-6gDWoDSkxFGe68cHdt5IwbU0HCB5CC5OMcNspd4qWoPvYHuthwGckIZ19voTlsGY_CmpaFePQPvYqcEguiZptBjVfZbA==&p=6&sk=&fvj=1\n",
      "https://au.indeed.com/company/Whisk-Media-Group/jobs/Junior-Graphic-Designer-13ae0cd3bc40a619?fccid=86a694c6deddcc3b\n",
      "https://au.indeed.com/pagead/clk?mo=r&ad=-6NYlbfkN0AZLQvL0eTbPFT73Wkr_fTZ6lAUxbA2JeVsEs5B33cdgms0xSE7SUh7ufOBM5QvjQRjaalDaJSBCCbRy5crR8M5Qx2qAc9AeUUNCb8m9bvdWHguhBUkUMDXSxku3F_MQE5KlTAwnlEkFAm7NumssKHntbZ2vlmNFNNzZ-babGQlk6V9SU9e3wJYooB845_ewUeP5PAHYtZgeLoUGqYtHGhYPtupWXBGLksuWUMiihv8wSbTMmxnMNYrhjDn2DjAmK5ipYZ0ihIWeq2Ut9Jbcd87d8smm1IuHVagNEdH-ozowmEgge-XpW_D9VDXwG2sv7DmE4mOzEpIruoexMzuGp4zYhls-H5TZHvdjfM7M5SqPoD4PGdml-kRzaph2Hq9pMDIaCIdWgcyGIv_jGs-IIYfwCGFV2sjqhWST9UL8Oq2gg==&p=5&sk=&fvj=1\n",
      "https://au.indeed.com/company/IBC-Recruitment/jobs/Graduate-IT-Developer-e99371de6de73d22?fccid=53eba97fd8cf0beb\n",
      "https://au.indeed.com/pagead/clk?mo=r&ad=-6NYlbfkN0AZLQvL0eTbPFT73Wkr_fTZ6lAUxbA2JeVsEs5B33cdgms0xSE7SUh7ufOBM5QvjQRjaalDaJSBCCbRy5crR8M5Qx2qAc9AeUUNCb8m9bvdWHguhBUkUMDXSxku3F_MQE5KlTAwnlEkFAm7NumssKHntbZ2vlmNFNMShV5h2aqIIxKAm3xmDCZk4rEERfhHXK1Za3c5GsC8HJTG6nEttMM9c41z2j6n4u7RuufdKXrqUH9fdYKsrgN8o8d9tWbeH49wmBRc1fm77z1AaTxAFdtvr2O40ec4twa-4zv_Tal8h8_j05TSb01RgTbsnI-RHqzpp8I0qnTtmi8rUJtOsOqWDcfm7H1sHlynJ28jjsE14SqVMTTawUm64XygmS7JTg8W5iPM-5YGpd8QqcIhk8VhKClcdYeBQGT5K8tjRO8vOw==&p=6&sk=&fvj=1\n"
     ]
    },
    {
     "name": "stdout",
     "output_type": "stream",
     "text": [
      "https://au.indeed.com/pagead/clk?mo=r&ad=-6NYlbfkN0AZLQvL0eTbPFT73Wkr_fTZ6lAUxbA2JeVsEs5B33cdgms0xSE7SUh7ufOBM5QvjQRjaalDaJSBCCbRy5crR8M5Qx2qAc9AeUUNCb8m9bvdWHguhBUkUMDXSxku3F_MQE5KlTAwnlEkFAm7NumssKHntbZ2vlmNFNPcf6AJ_zq9kg-OKFbmkzEHug0jOcppiUXhyQb6rAkL_H4cIdmsES5_QdTCoVL2cWpkCWedsbZSf0ZUGOzoUrUj-4009WMvxTbQ_shuakfejIgzVt1GtgGdp7OB8zwMlFDgZj8Lhqhp5ggZEXtzq2dNV1CKf-dkc0pkjfuBKy_Hr98Nk71TvL2od9xVVnOHQhPWvrZZhdnjuPOcpzmiByBDzwVEICyP2PYRRPqi3cIL-qexzXrbWxLLvpWW8BUTbxZYySaiEMp-lg==&p=6&sk=&fvj=1\n",
      "https://au.indeed.com/rc/clk?jk=fbce8e43aa1bc063&fccid=06921d11c91c117f\n",
      "https://au.indeed.com/rc/clk?jk=72ea40778cd797ff&fccid=86fd58bb45436ba3\n",
      "https://au.indeed.com/pagead/clk?mo=r&ad=-6NYlbfkN0AZLQvL0eTbPFT73Wkr_fTZ6lAUxbA2JeVsEs5B33cdgms0xSE7SUh7ufOBM5QvjQRjaalDaJSBCCbRy5crR8M5Qx2qAc9AeUUNCb8m9bvdWHguhBUkUMDXSxku3F_MQE5KlTAwnlEkFAm7NumssKHntbZ2vlmNFNMl6vu_NOZTlhZi6N8seo2uNnsppf0FdHArzJ16KlnbL6EF1Oyjlm7epUGXS3grB_qzT67wEeqfamPusgYsuhBHuRpF1CXh0rlOdM3mi0OQLn5HIUam5FhkVjcIIuueXtw32wsZf5qv0cG3yCyUDNf1Qln5P9tuEFddUGmudz1FIV1T8MB3EqeTIl_A7NBBWvJXFITYK64GF1dKMZlf4sc-Dv5RkjlwZUHCJ0YbFkDyV-_WpbCoYTg8V4pkLZYDjJJnmonRolgeqQ==&p=6&sk=&fvj=1\n",
      "https://au.indeed.com/pagead/clk?mo=r&ad=-6NYlbfkN0AZLQvL0eTbPFT73Wkr_fTZ6lAUxbA2JeVsEs5B33cdgms0xSE7SUh7ufOBM5QvjQRjaalDaJSBCCbRy5crR8M5Qx2qAc9AeUUNCb8m9bvdWHguhBUkUMDXSxku3F_MQE5KlTAwnlEkFAm7NumssKHntbZ2vlmNFNPzeDUO8cEEdj7_lJBqtGyjllNGHQTDOVBcIf-mnsUhF7fO2cTppGjAaD4M991AsW90DMYHNNlcz7kJj7qzcymlTRjWNMStZc5sOWKVn9slT_z_EL0e8n8eHrgxtkaOenReBo38Zcc8_8Dwc768OSYnylwI5ZhNhxKKhQEQ1kIK5Q2uts_HPys53moY3O6bn5YcbXDWqFZrlhBPm6TNOGx9vzFvDLqabA4n3OydrRTt9XCgdj_Z3qVjvLoKIDvO8WFF1DaIA-JMKw==&p=6&sk=&fvj=1\n",
      "https://au.indeed.com/rc/clk?jk=720e1132d4afeaf1&fccid=dc74152593865f5e\n",
      "https://au.indeed.com/pagead/clk?mo=r&ad=-6NYlbfkN0AZLQvL0eTbPFT73Wkr_fTZ6lAUxbA2JeVsEs5B33cdgms0xSE7SUh7ufOBM5QvjQRjaalDaJSBCCbRy5crR8M5Qx2qAc9AeUUNCb8m9bvdWHguhBUkUMDXSxku3F_MQE5KlTAwnlEkFAm7NumssKHntbZ2vlmNFNNy7-Fo2190GJCEOKFzd6rdgNsmPxsErbx_curM4FHzX2upGciTk3c4jao2sQYPts36s8VyTRKkqZESXCGvuW87L1FycftSYYP_J0-bBGVZhLI2S-lPbt1uaZ8EhFNHbI4w5uByqw1B7uIMX5-TsXc82cmUN6_HMvCF0U6Yyw1VyLvHScc0gsZtsfiFcXYqr0Jqx5sCiwMh-CUPv0g1ft7i8-sjTn4BBFXyzIdsMyvSvGYi3rpSV8OdMSeyiU2l4a1GRjiaPSzSjA==&p=4&sk=&fvj=1\n",
      "https://au.indeed.com/company/Summit-Digital/jobs/Senior-Web-Developer-06a44c2ea7c129db?fccid=9ed2ded8b37422e9\n",
      "https://au.indeed.com/rc/clk?jk=dfb125213b28a86f&fccid=0d3a3c9e16872169\n",
      "https://au.indeed.com/pagead/clk?mo=r&ad=-6NYlbfkN0AZLQvL0eTbPFT73Wkr_fTZ6lAUxbA2JeVsEs5B33cdgms0xSE7SUh7ufOBM5QvjQRjaalDaJSBCCbRy5crR8M5Qx2qAc9AeUUNCb8m9bvdWHguhBUkUMDXSxku3F_MQE5KlTAwnlEkFAm7NumssKHntbZ2vlmNFNO66nt46MwF5h1NHh5NjYvEcAInYklifTyDaYHsnIgUi28nAYkIXQCWXN88qBEJfk_ogqm9GaoxaglHA9bhxjcV7YgZYPoBTWUz-IbG-Gb5EHppgYfdHHi2-1fMvQoZU5oTghqvmz8hjlnd34qf3FXoOIIquKCoQFrtDHBHeMBHbCgxr-PR4hmX0_tCP3DRrqFtRiHJgAoC2sEzIbLg1reZJ-8LDjyeOq2F0FGB91i2jz_fvxmFev7pQxEb87LZCVKYoA4HNC3f2Q==&p=5&sk=&fvj=1\n",
      "https://au.indeed.com/pagead/clk?mo=r&ad=-6NYlbfkN0AZLQvL0eTbPFT73Wkr_fTZ6lAUxbA2JeVsEs5B33cdgms0xSE7SUh7ufOBM5QvjQRjaalDaJSBCCbRy5crR8M5Qx2qAc9AeUUNCb8m9bvdWHguhBUkUMDXSxku3F_MQE5KlTAwnlEkFAm7NumssKHntbZ2vlmNFNNDGD0SJE70gp06glyxl5Abp7gdlWBnw524vH905ua6PD7QNq7Cj5Gel2ekj8I_rHnHBiwBgHDOiLLEi-ABk-y23yy-0xxIl7GOdIcCdOXX2wMh20GFcW9jNPX54MOrI3X3SycPhQ8i-HxFU-retRj0UrIzyKryapQo36-sxtajgRprNv3p-X1ah2KPIMZ-wTazcFUoYjOU-IQSmjxPoEFMWgVsH862zqrUOHmibgncL-zwRbXH5a_Xe7D4gKSqByLn_Iztw4K_qA==&p=6&sk=&fvj=1\n",
      "https://au.indeed.com/rc/clk?jk=505935594be6f1b6&fccid=0d3a3c9e16872169\n",
      "https://au.indeed.com/pagead/clk?mo=r&ad=-6NYlbfkN0AZLQvL0eTbPFT73Wkr_fTZ6lAUxbA2JeVsEs5B33cdgms0xSE7SUh7ufOBM5QvjQRjaalDaJSBCCbRy5crR8M5Qx2qAc9AeUUNCb8m9bvdWHguhBUkUMDXSxku3F_MQE5KlTAwnlEkFAm7NumssKHntbZ2vlmNFNN7IBgb9MgxpXh160Om9eu9IpwVf5iJ6xJjkopjmcQa89fX2XCEg2eYGX0sCooe3GlcYyBo4Zu9RFi8vtPpvATLYQG7YEH5gPFE9XKLkxkjtKzLewGIWKTnB46wkhzCx-JWuKa_NZisJsRNqCLiKgnacdkFnYZoMcBhrKHbJV1skCGz2N1ULumYNYUrtsXvIr0762LoyXE24ORmg3v1wU7ZLogIgzCoEY5PH5jGm0lS-XlWe6kq73aAyccDJ_wqdElWyDIkijUOQw==&p=6&sk=&fvj=1\n",
      "https://au.indeed.com/company/Medius-Health/jobs/Backend-Web-Developer-403f327c86a33137?fccid=fad2caca64fd7d27\n",
      "https://au.indeed.com/rc/clk?jk=03934c358369a0c9&fccid=0d3a3c9e16872169\n",
      "https://au.indeed.com/pagead/clk?mo=r&ad=-6NYlbfkN0AZLQvL0eTbPFT73Wkr_fTZ6lAUxbA2JeVsEs5B33cdgms0xSE7SUh7ufOBM5QvjQRjaalDaJSBCCbRy5crR8M5Qx2qAc9AeUUNCb8m9bvdWHguhBUkUMDXSxku3F_MQE5KlTAwnlEkFAm7NumssKHntbZ2vlmNFNNr5gde4uNXpZdFpwjAXuE7xKvr4Awq0sV8xS4yGvAhuLIpxhlt8hZxhW_yHzwXAicTrvy7YM437uWyiLfP4Wsa6QiwV48_1IdaF61d-RoCQ_utNUrQhz_Z54sH9Szq0dnFOkgjOk4qSNJ7Uv4SCH1FQWGezmpAHAZmnXWelIUBh91pnY2QSEFKn7L_uwJ1HncZ9AGa-vAH3KO2LcL7UOLdHOWJKWj0ybtS7GiZ6x5qhswNCf_mj4HgarBr00oZH49M9oXSrM0DAQ==&p=6&sk=&fvj=1\n",
      "https://au.indeed.com/rc/clk?jk=7b0f392bb61e0132&fccid=f01c2f55ec3054bf\n",
      "https://au.indeed.com/pagead/clk?mo=r&ad=-6NYlbfkN0AZLQvL0eTbPFT73Wkr_fTZ6lAUxbA2JeVsEs5B33cdgms0xSE7SUh7ufOBM5QvjQRjaalDaJSBCCbRy5crR8M5Qx2qAc9AeUUNCb8m9bvdWHguhBUkUMDXSxku3F_MQE5KlTAwnlEkFAm7NumssKHntbZ2vlmNFNO4-6AMCCPzmLnJBl1zb5eB5hwOrzkf_-7qMWeoH_ZutavxgbLR0qMs-r1lX2bMWrwpij4Er57gAWj-nbG8KxApnEAhjOnJIFqwne6JJL9ION2nFj7ZX2GktsxhNsEAAef2UXhRwZK1WvtODEd9qsV7_4B4RxBLJ0dmRxZcgX4d0iZqAKZVlCOFBO-DZmkSH-l9GBxYqgxAQZt4LvcYxOnMMP9EnKZb4VT1A1cGvjiew0h6p2j0LiL_w-aezyxhbzlILpyp0gD2wA==&p=4&sk=&fvj=1\n",
      "https://au.indeed.com/pagead/clk?mo=r&ad=-6NYlbfkN0AZLQvL0eTbPFT73Wkr_fTZ6lAUxbA2JeVsEs5B33cdgms0xSE7SUh7ufOBM5QvjQRjaalDaJSBCCbRy5crR8M5Qx2qAc9AeUUNCb8m9bvdWHguhBUkUMDXSxku3F_MQE5KlTAwnlEkFAm7NumssKHntbZ2vlmNFNN0vXk9xlCIw0PUk0C0eciQXi3zUzMx2gVRBir3rlJyT60Lb_9jpdLiT-ZZLptNq3I8ZNiFzpwFLazs4r_4R3VC9PTc3WNwy3lIXIALMYnXHrVVs5HVoSdfkqVVqfgZkK2SrLeFnqciHwYB-ertamEASnJIhEWqUwodauAVC87iGnylbKQPv1i4jPMDpFjcIT0-AbWdlHRjFfpZN5lRWWlslBVNMfOLTtT2JYgnt6GXIHYwkY-7Vr9zHW_4Ai1Hochw5lj5QpyRNQ==&p=6&sk=&fvj=1\n",
      "https://au.indeed.com/company/Shoolin-Consultancy/jobs/Devop-Engineer-4683a69ee96cfe89?fccid=fcbb1115b726a2a6\n",
      "https://au.indeed.com/pagead/clk?mo=r&ad=-6NYlbfkN0AZLQvL0eTbPFT73Wkr_fTZ6lAUxbA2JeVsEs5B33cdgms0xSE7SUh7ufOBM5QvjQRjaalDaJSBCCbRy5crR8M5Qx2qAc9AeUUNCb8m9bvdWHguhBUkUMDXSxku3F_MQE5KlTAwnlEkFAm7NumssKHntbZ2vlmNFNNOpoPwuxU5scah4XSUm32kGWjtFW3coMbh5FHo8ov7YZ1zPqgDqd1c5-3SVDa8kegKEjQjRqv0BxVQhpKt12sVZfHtsAzzLk7Dqz_wwuGp0f7nhza-lSUlYyW8QZIwrhw4TtqUgl90ZN3wnkSPUpdvekuZTpSenrA5PYTkeh4wPAZzEqWTlCjIGhnyCgZ8sZCbfs28iMrVXefhXWcyAR5FHQOBQ1xSbbK26QCvGkLPDLADBDZDu8yMDT-1gk3ifJIoPZrrDjoDSA==&p=4&sk=&fvj=1\n",
      "https://au.indeed.com/pagead/clk?mo=r&ad=-6NYlbfkN0AZLQvL0eTbPFT73Wkr_fTZ6lAUxbA2JeVsEs5B33cdgms0xSE7SUh7ufOBM5QvjQRjaalDaJSBCCbRy5crR8M5Qx2qAc9AeUUNCb8m9bvdWHguhBUkUMDXSxku3F_MQE5KlTAwnlEkFAm7NumssKHntbZ2vlmNFNP1oyzlbUWyjL12d40xr6nRvuQa_2EWk7i-nrpwk_FXRRLTsCyA67f6G7Kt1fcoy01NppAjW8HXfUzq2jzLYqfxZAMajoUaCv039-DSDk3dbLe1Tth-bWX3Qc86skD9f1toJqVRhNrMq1YzOO0z8ozTPrZ6sFQBkCorzpGDwE0yMdIVNLiDT5uPkIlJybTsr6tmX288-hVXrxXGmYUnlKkdmX25s6c5RDCmzmDjgL29tcVNHZkzdOI_IMOOvUPM3qarsnBqBUPkjA==&p=2&sk=&fvj=1\n",
      "https://au.indeed.com/rc/clk?jk=9e4f115232c37e91&fccid=1f129dad7c6d035f\n",
      "https://au.indeed.com/pagead/clk?mo=r&ad=-6NYlbfkN0AZLQvL0eTbPFT73Wkr_fTZ6lAUxbA2JeVsEs5B33cdgms0xSE7SUh7ufOBM5QvjQRjaalDaJSBCCbRy5crR8M5Qx2qAc9AeUUNCb8m9bvdWHguhBUkUMDXSxku3F_MQE5KlTAwnlEkFAm7NumssKHnfuR3FdDpxdDsLJJAkJuKeAHDaqfgFbZ293dGEyEoNwDLdVAiop9rqZQ5NiPnfnusn25aF99xK-EIMgYtVwjDKn7lsPbLc00-y347Y2WKg4nbrnotzr9PRAt8ONJ6PFeeB_RQ1ADVuwnerNmK8GLgCHRkj153fwWzJhsfp-MNpmeJ4rdMpuYRLv0hhY2fUG8QOrhhF92h1gIoMgZ5lk0miT_gXK0MoJhJrotEdAZ2eTt_rLtZKhgfrpxJgQ9Oymd4dwYwfEm9l50a0fXO2WXwQQ==&p=1&sk=&fvj=1\n",
      "https://au.indeed.com/pagead/clk?mo=r&ad=-6NYlbfkN0AZLQvL0eTbPFT73Wkr_fTZ6lAUxbA2JeVsEs5B33cdgms0xSE7SUh7ufOBM5QvjQRjaalDaJSBCCbRy5crR8M5Qx2qAc9AeUUNCb8m9bvdWHguhBUkUMDXSxku3F_MQE5KlTAwnlEkFAm7NumssKHnfuR3FdDpxdAmwY_3Qjqtw2K-DUFusGyHymCj4uTGOIL4UpRtmeg574BDokkVDqH2FsC3pjOSHDV2MCE4HtJmKRomj44HW8K5ZW5m45stq41LotntwA34pam7ZVHX4zv29pdDv_ohAtD88WDVOpdJWbb3FYd1DQU7uceenEqT5E6ZPJN4rGKcM5wGlr4ywkRVaQOPbIsLHe-mV_bTRB4aTQq_JV2QmRGslDU_HGqCfjVtFHWLr10KRB_nHhz5AK2KZ49A0ONhkaql7KrWW-tpXw==&p=1&sk=&fvj=1\n",
      "https://au.indeed.com/rc/clk?jk=a01c7c8ea6638e99&fccid=587a90c72514ac83\n",
      "https://au.indeed.com/rc/clk?jk=f0038a8851f4795b&fccid=e8c7513b49627f7a\n",
      "https://au.indeed.com/pagead/clk?mo=r&ad=-6NYlbfkN0AZLQvL0eTbPFT73Wkr_fTZ6lAUxbA2JeVsEs5B33cdgms0xSE7SUh7ufOBM5QvjQRjaalDaJSBCCbRy5crR8M5Qx2qAc9AeUUNCb8m9bvdWHguhBUkUMDXSxku3F_MQE5KlTAwnlEkFAm7NumssKHnfuR3FdDpxdAit86XboTrlkNt-tKZUPInVkfd8pi__O78MsaQH_8jneZyf6qduvHYcT-DYt-8jRkzNcUgZa_ZWeMJm1H0ekXrqty3taiFZuL5Cpc0_mmg24COrSqIScaV3fPMr5bCL1v4ZcaoLS6G4eMemrWC0Bfdzw6a8i-L0DpgJpWr70Jj6ZpuHkIcMez3wYBsFrcsOMIEYulgSmyTmz-O6OxisCDa5RBiAZA9FOIY62jrgdwt_7rsM8AknaLlh23x0tcQ6GZqWP2oCq5ANQ==&p=6&sk=&fvj=1\n"
     ]
    },
    {
     "name": "stdout",
     "output_type": "stream",
     "text": [
      "https://au.indeed.com/pagead/clk?mo=r&ad=-6NYlbfkN0AZLQvL0eTbPFT73Wkr_fTZ6lAUxbA2JeVsEs5B33cdgms0xSE7SUh7ufOBM5QvjQRjaalDaJSBCCbRy5crR8M5Qx2qAc9AeUUNCb8m9bvdWHguhBUkUMDXSxku3F_MQE5KlTAwnlEkFAm7NumssKHnfuR3FdDpxdD25GLRyGaCpkYw-cMDBBPyrBaePgB13uC7FkgzdBKEVc2pdbene5MS2YpGj0YyP_HPxE-CbHInq0VT-FBpiZbFv1v9DQJz8yWd087IpDBd93wOZcweHNDSsUHEJvk1fsxCfWQ8CdkxCAVNNSzphmEfKjQiUreQBjhklxF8l3uaLZOKZPS1ICddRRNtVKhi7b-Lstwredza0qLXP8B3jBZi-s7Lidz7nj4rQ44FephcAjmyxIIeLTK5ws7QkBmN_KzgfYMVbLQKmg==&p=2&sk=&fvj=1\n",
      "https://au.indeed.com/rc/clk?jk=bed8e97384d854a9&fccid=c9831d9e5a2d4cdc\n",
      "https://au.indeed.com/rc/clk?jk=7e152605d725e865&fccid=087fdafe1fd631b1\n",
      "https://au.indeed.com/rc/clk?jk=3c08b12f143e2b4c&fccid=c9831d9e5a2d4cdc\n",
      "https://au.indeed.com/pagead/clk?mo=r&ad=-6NYlbfkN0AZLQvL0eTbPFT73Wkr_fTZ6lAUxbA2JeVsEs5B33cdgms0xSE7SUh7ufOBM5QvjQRjaalDaJSBCCbRy5crR8M5Qx2qAc9AeUUNCb8m9bvdWHguhBUkUMDXSxku3F_MQE5KlTAwnlEkFAm7NumssKHnfuR3FdDpxdBHxhV5ncAR-3IFQf_5C7BaF2Nm_ymTk6IUkfVftOFnFlrvhneRrxk3GFSWYUrmrHH28o4Vvr7QecuMC6YmMzmT7Cku9oub1KfJiAvLXKOmZv2AbPtcKZrvL_KD4xzTpVrslNUfWvSou0vDDg2gTMBhyMdXp9NKzsFrJNZKkPe-NZj0wHNcC5fmMZMeIDh-VfjJAR0hlrSW1mku7WA3kusZKCcchdXNdbouTaLnjAWW7UNEtHrN6fCo4pHpM93EnSYPsn6FmsDciQ==&p=2&sk=&fvj=1\n",
      "https://au.indeed.com/rc/clk?jk=72f5611f6052d12b&fccid=c90e6a0b151f749d\n",
      "https://au.indeed.com/rc/clk?jk=6f321c05f2df66d5&fccid=c70fbb69945c84e0\n",
      "https://au.indeed.com/rc/clk?jk=9355119eaf053f1a&fccid=c70fbb69945c84e0\n",
      "https://au.indeed.com/pagead/clk?mo=r&ad=-6NYlbfkN0AZLQvL0eTbPFT73Wkr_fTZ6lAUxbA2JeVsEs5B33cdgms0xSE7SUh7ufOBM5QvjQRjaalDaJSBCCbRy5crR8M5Qx2qAc9AeUUNCb8m9bvdWHguhBUkUMDXSxku3F_MQE5KlTAwnlEkFAm7NumssKHnfuR3FdDpxdDKwo6aaJDPtWJS2uLq0GMkAQKq9vBMo80P4aWvcNkdLLGIZSj07Qbw-jtVQMB8-gXWDlbSG5POGn0G8lUDrEf6a1xbCTCFrco73muGf5dRZpAM-EajogXXs_5K3_EKWud_uAN6RxnrBtyMXArqJW3yFBzuCc0eHgARDQ2vz9W_VyAUiQC4Aidi7dAcYwvFDljcnL-qr2iVhFC-0U_mPNkUZbmL1tcd-wZPO79dFAbRBovXhz0InAu-0TfOqdcq9O0oUhiJNfiktw==&p=6&sk=&fvj=1\n",
      "https://au.indeed.com/rc/clk?jk=cc3f117659fe81ec&fccid=190c5c1acebb6ca1\n",
      "https://au.indeed.com/rc/clk?jk=c4f7015e7f319311&fccid=0d3a3c9e16872169\n",
      "https://au.indeed.com/rc/clk?jk=9ac9b660a51cd26e&fccid=edbcc543f126f97b\n",
      "https://au.indeed.com/rc/clk?jk=8aaf3be1d6236c53&fccid=52ab4e240fc35a6e\n",
      "https://au.indeed.com/rc/clk?jk=a15c0fb1fdf5d8df&fccid=e7a933cf888bdc68\n",
      "https://au.indeed.com/pagead/clk?mo=r&ad=-6NYlbfkN0AZLQvL0eTbPFT73Wkr_fTZ6lAUxbA2JeVsEs5B33cdgms0xSE7SUh7ufOBM5QvjQRjaalDaJSBCCbRy5crR8M5Qx2qAc9AeUUNCb8m9bvdWHguhBUkUMDXSxku3F_MQE5KlTAwnlEkFAm7NumssKHnfuR3FdDpxdAOnET-XZMxum2Jq5qEVBY3gNsdki7ywGe0HWSPjBkHFjcn95O8LJzXjiRjmeMmqX844ZlkF7aeEIMvadNvjP9XFrn9lWg2sK7oPOfwcGd800wSk0ZxwsGfV22Gcwa7-SOdz9Pac87_do3E_JBBIaq_cU61JG36N3vsbQ3hTxhEgHplKcSEu0Y-RxP24VsdTm02pKryQI6ItcqJDCjZtoNNkmc9zjKaPYlL1dofL78lmKfF6gbkx7UHjateqAUcMqq4SElvF8_YkQ==&p=6&sk=&fvj=1\n",
      "https://au.indeed.com/pagead/clk?mo=r&ad=-6NYlbfkN0AZLQvL0eTbPFT73Wkr_fTZ6lAUxbA2JeVsEs5B33cdgms0xSE7SUh7ufOBM5QvjQRjaalDaJSBCCbRy5crR8M5Qx2qAc9AeUUNCb8m9bvdWHguhBUkUMDXSxku3F_MQE5KlTAwnlEkFAm7NumssKHnfuR3FdDpxdDaqusa8lk6HbbGMGFGvdYEBpy3bELN0IuZIiZKYTD2Ogo1HH6NBfEuW7haQNd9kFCcVPQHQaOIStRwvz4wRCFFilG7hWJrh0Xcbb4qnHOrr4f9qQYj4pNd9YHYXyWNw_otULXf_MeIUfXEIvcK22jiHYFMgZW7J6DgcU6WgDyLwZ2rgvM0HcqHLs8NH0l5UqwqzPBeJg1NHFt2TpkhTNh3lKNFif_FopBB-aQkmY9Hz7c2lmNqJQYt7EIoayIkygKYQ6kpCzbu_A==&p=2&sk=&fvj=1\n",
      "https://au.indeed.com/rc/clk?jk=a5eb4987049f51f0&fccid=407ea6d32ec79eeb\n",
      "https://au.indeed.com/rc/clk?jk=880f48232af586f4&fccid=508107c76180694c\n",
      "https://au.indeed.com/pagead/clk?mo=r&ad=-6NYlbfkN0AZLQvL0eTbPFT73Wkr_fTZ6lAUxbA2JeVsEs5B33cdgms0xSE7SUh7ufOBM5QvjQRjaalDaJSBCCbRy5crR8M5Qx2qAc9AeUUNCb8m9bvdWHguhBUkUMDXSxku3F_MQE5KlTAwnlEkFAm7NumssKHnfuR3FdDpxdCUUirNz9w_LFl6KbUoG499KqE5m_wGc4VzwY59_dG8SZKKgzrDlpOps0pac9-jlVmYzW4sWP8eopg8gvGoaPDZhIKjXc3Gpn55-7Fp4XXoGN8EOAhUOyyWwZOb_SB0qzYvgBGNNXZOFmbeb0_FiuQWpG24uOLYpivoCHtOraNxCJuyk6AHRDr-jmTQaFKISzzYrh_Eg7IRbzS-BV4U6TUUsvNl6Dv47LbTibLu2J8-2Y_DI9pIzNdPanMA_6HP7p6qLtEcMTAZDQ==&p=1&sk=&fvj=1\n",
      "https://au.indeed.com/rc/clk?jk=3fd6f1fa5d5fb1e7&fccid=52ab4e240fc35a6e\n",
      "https://au.indeed.com/rc/clk?jk=223e4a94ef76f0dd&fccid=e7a933cf888bdc68\n",
      "https://au.indeed.com/rc/clk?jk=dc7555d79e8914c8&fccid=e8e73efb8504b651\n",
      "https://au.indeed.com/rc/clk?jk=8fc9a93d6225224e&fccid=221d09f11bbfa2d8\n",
      "https://au.indeed.com/rc/clk?jk=dd47a0244cee0b49&fccid=c9831d9e5a2d4cdc\n",
      "https://au.indeed.com/pagead/clk?mo=r&ad=-6NYlbfkN0AZLQvL0eTbPFT73Wkr_fTZ6lAUxbA2JeVsEs5B33cdgms0xSE7SUh7ufOBM5QvjQRjaalDaJSBCCbRy5crR8M5Qx2qAc9AeUUNCb8m9bvdWHguhBUkUMDXSxku3F_MQE5KlTAwnlEkFAm7NumssKHnfuR3FdDpxdAbQy732RdiFO03pXrZCJ30mbQt6VaiDYksaV22x7TUxuKsLY9Wl9StSmpm42mpKhKfIYad-bZO1Ai5ocQllaUneOlIf9BqR6oz77pMNS6CCdgqwwzRSGQVgHIHA9eRix0ZedA5sA2qeHzjq83zdF9rZsiSufAjz1a3WOMt_pkSbZwTntGJj5r2h2w6Vpk-4LHor29ICZ7NGbg985Yu_GY2kGnNlqXQqDrWvqEqAUyPEVY1R2GLGTfEwvqA-gDbSzH1MQFuwEa5tA==&p=3&sk=&fvj=1\n",
      "https://au.indeed.com/pagead/clk?mo=r&ad=-6NYlbfkN0AZLQvL0eTbPFT73Wkr_fTZ6lAUxbA2JeVsEs5B33cdgms0xSE7SUh7ufOBM5QvjQRjaalDaJSBCCbRy5crR8M5Qx2qAc9AeUUNCb8m9bvdWHguhBUkUMDXSxku3F_MQE5KlTAwnlEkFAm7NumssKHnfuR3FdDpxdCIAd1WWneodv2pxBlnEIrNsELtJG1PdN6Ae-0G78fNGkQ5MCBQ6SjC1wH3iJMTril8KVydmtoXYNpbKdKt6Kz-NlXkVpmN3wVDvpiZQ0dXe-CGR99cpNkdpEaVjfdTpa38FnRuhLw7iBnXYbh4Pikmr4xYsJDsJjWOJ-J_k34CmK8It5K0dz3wPI2_8Sg09-FVVQPb5ORRGOYguioeLCdGzRZYqIWtGpkjsB5w9LNNKiFy4fgASFUK00tjDTEVQ5lQRNsZLqXAQQ==&p=3&sk=&fvj=1\n",
      "https://au.indeed.com/company/Vouch-For-Pty-Ltd/jobs/Fullstack-Engineer-18a450eced9ffa86?fccid=45f1ab11cdcb618f\n",
      "https://au.indeed.com/pagead/clk?mo=r&ad=-6NYlbfkN0AZLQvL0eTbPFT73Wkr_fTZ6lAUxbA2JeVsEs5B33cdgms0xSE7SUh7ufOBM5QvjQRjaalDaJSBCCbRy5crR8M5Qx2qAc9AeUUNCb8m9bvdWHguhBUkUMDXSxku3F_MQE5KlTAwnlEkFAm7NumssKHnfuR3FdDpxdBifI5XUqLsqUphH4fOmTrrtpqjFxLXHNpxUzHIm9MQkAiQvA8svAkW1o1B8jnG_-Ndp8TVPZxAVGNMNbyaoPQ2C8alqiZoZJWRiWK8v2dI-ZhTIIYsAOOwIqmy5NwajY9cwRKjvLi2KKuxeLpVk5sVywgMopTk5KFHjDiDzL9kpScbebzqgsznD9PyRLwdLmwcK-PD8bo2qNiZTL98epB-911GYA6yC1o17K2XGOJPbMUO2PPfbmC81MxFnSjJgWfl4E_lYaQogA==&p=3&sk=&fvj=1\n",
      "https://au.indeed.com/rc/clk?jk=e03ca2e263b8c62d&fccid=085760c105545d7c\n",
      "https://au.indeed.com/rc/clk?jk=3b298a65e03fdb51&fccid=b9f976816cee2263\n",
      "https://au.indeed.com/pagead/clk?mo=r&ad=-6NYlbfkN0AZLQvL0eTbPFT73Wkr_fTZ6lAUxbA2JeVsEs5B33cdgms0xSE7SUh7ufOBM5QvjQRjaalDaJSBCCbRy5crR8M5Qx2qAc9AeUUNCb8m9bvdWHguhBUkUMDXSxku3F_MQE5KlTAwnlEkFAm7NumssKHnfuR3FdDpxdD4yjC0ZTP8tMvD6fh0LbYByoFhiZF0kvuoggTpbTHPjiWSF2VmR_e15JZNcJgFQi72E5mpRuOIsJ5PROzeOMNb8Ly-RSlRXNtliPHuivXytLLRjOO2fAGwQC2k3bAFohrr7ShNSDcausZYCJCe7QJdsQR8mxab81hYz6LIq3vVdT1p1HDSE8eu6gl2xhyL-0OOVfGf0Uozg4xKIpg89ru2C4dyX5nI3h46BfGHx_TJNbo5dldmEkWpIYp-qNPNokw1ZLemDy6X-g==&p=1&sk=&fvj=1\n",
      "https://au.indeed.com/rc/clk?jk=4dd2b01e5bc7c8e3&fccid=f63ded28dd6ab0aa\n",
      "https://au.indeed.com/pagead/clk?mo=r&ad=-6NYlbfkN0AZLQvL0eTbPFT73Wkr_fTZ6lAUxbA2JeVsEs5B33cdgms0xSE7SUh7ufOBM5QvjQRjaalDaJSBCCbRy5crR8M5Qx2qAc9AeUUNCb8m9bvdWHguhBUkUMDXSxku3F_MQE5KlTAwnlEkFAm7NumssKHnfuR3FdDpxdDPgKXNqvnqGeuxiZxGVm5GwlhcEywo6qFiskh5pE5_BB5zqPdhohC9XpSAbRKR1RBbdJaDTjop_pIjo8m5CCZxVhCcVJhkoluggW4ogIBKAqn5BfprcA1QYM6YI98ksZrARBVrcKCTlgCa38zNaHAJkqNYdm1gnsJhqQeNLm10ST_58sWGLnPFs03Rcd9ueVxYicvrs7RQCt_m2RzgxQtliaDwf8OvhrwFqk2tNO04RSsZ1K-iOUapVO_YGdsDx92Xkphll3Jqrw==&p=3&sk=&fvj=1\n",
      "https://au.indeed.com/rc/clk?jk=ff0158baf90015f3&fccid=22e6782d3766aa04\n",
      "https://au.indeed.com/company/Resource-Corner-Pty-Ltd/jobs/Qliksense-Consultant-f695f277beaa06c8?fccid=4dc5194cced6ab8f\n",
      "https://au.indeed.com/rc/clk?jk=a6708a58ab1d385c&fccid=331341a561cbfd66\n",
      "https://au.indeed.com/pagead/clk?mo=r&ad=-6NYlbfkN0AZLQvL0eTbPFT73Wkr_fTZ6lAUxbA2JeVsEs5B33cdgms0xSE7SUh7ufOBM5QvjQRjaalDaJSBCCbRy5crR8M5Qx2qAc9AeUUNCb8m9bvdWHguhBUkUMDXSxku3F_MQE5KlTAwnlEkFAm7NumssKHnfuR3FdDpxdCmdXDKW4qMAsGQs0GbkURDkeguZglFUUaMxQYFkGIhmspo9C5o_vaiA4AKqG2uo7Arf_HV8lgmEWdT7G2azdrUJkCSF5ilxsZtanb8iZEjDsqOpj52B7HgXurPrSyU28FI6KLRvYfsnIaENoD0tbPEmwZ4KCVfTESH6Oye_CND9752KzwQ9udVADcp1gs3DCX7drZZKFwvKk8I42EAjWRT5UhNhs1K__ZIdGojVkhVQB4n_sYsddyssVlI3Of_VthUxt7WUuBGyQ==&p=3&sk=&fvj=1\n",
      "https://au.indeed.com/rc/clk?jk=7d36cd0c0a624185&fccid=0d3a3c9e16872169\n",
      "https://au.indeed.com/pagead/clk?mo=r&ad=-6NYlbfkN0AZLQvL0eTbPFT73Wkr_fTZ6lAUxbA2JeVsEs5B33cdgms0xSE7SUh7ufOBM5QvjQRjaalDaJSBCCbRy5crR8M5Qx2qAc9AeUUNCb8m9bvdWHguhBUkUMDXSxku3F_MQE5KlTAwnlEkFAm7NumssKHnfuR3FdDpxdAnP_eqZq0TkSvGTon0qUgxbtTNBGt-bMVqBH6va8TJ7ain39jq2xW5I_5C6BlJNH-x1kvu6Dz9obYueOFAsDMeZi4qQSKTRAF_QmnPx8MT06nGkZWRmpKILAUQR2AwKcRwbs-3KavHlek7SLgIGxLlBYrdG_EwWEhZkNXJs6WoDa-BNvP_Uk-lsGGFEASe50mvlvud-Di-FNCQ2lUn-5Fa-1Gw-ZJb0ighr1i6RTbKUHKXj_rLJ2D4XpwWGlKf4pXbJQmDjiRz4w==&p=1&sk=&fvj=1\n"
     ]
    },
    {
     "name": "stdout",
     "output_type": "stream",
     "text": [
      "https://au.indeed.com/rc/clk?jk=cf4e30c32071e7c6&fccid=c70fbb69945c84e0\n",
      "https://au.indeed.com/pagead/clk?mo=r&ad=-6NYlbfkN0AZLQvL0eTbPFT73Wkr_fTZ6lAUxbA2JeVsEs5B33cdgms0xSE7SUh7ufOBM5QvjQRjaalDaJSBCCbRy5crR8M5Qx2qAc9AeUUNCb8m9bvdWHguhBUkUMDXSxku3F_MQE5KlTAwnlEkFAm7NumssKHnfuR3FdDpxdCI2LdGw6Hh3thMgeLpt8y7miTvqA3bIbon-4yrTuhAwD6R9y1dyAO-y9OmxBFozXlNAsYltHl8ID2Y24w6JaKSCp60pV_h_6QEkxjE7VJh24bUCFgHMeec4u-Ed2BjkfdsM1rcQ4pS9ciiN9nwm645au8-0MxAYGj_YRKex7B7OTJBp0Qsa0evhwBQbCr3o5SbEps6of5NSUI6kZFaQAuL6rNhqfzb52i87g3VJWRATbOtEAAj5qOtXap3Sq3IoxY43gLNZCeO6w==&p=6&sk=&fvj=1\n",
      "https://au.indeed.com/pagead/clk?mo=r&ad=-6NYlbfkN0AZLQvL0eTbPFT73Wkr_fTZ6lAUxbA2JeVsEs5B33cdgms0xSE7SUh7ufOBM5QvjQRjaalDaJSBCCbRy5crR8M5Qx2qAc9AeUUNCb8m9bvdWHguhBUkUMDXSxku3F_MQE5KlTAwnlEkFAm7NumssKHnfuR3FdDpxdAAC2B3l9MEyvNwyuI57rkD3S3zcJo0hRZSXVopHXz1DRg_jNhRFCpFO8r4n0aw2DQwwedBfsIVfyU1dTXMRD0yxlOy1bIP4vnKDixKZSvZYsTQi3CsY_8cCXN_fCz0mzFhFh55rhQXQEQ630nPGDFMJU1ABLKv4lfQbdFrT_vmbYWgNhY9fmQUfN9im-U8P008WhK99c5im8-U0mpberq0P9qhnL-dVEZPWwM_6cfOgJeJHpunna-x43SLkKZtZlgx08R1LyqQ7g==&p=1&sk=&fvj=1\n",
      "https://au.indeed.com/rc/clk?jk=2a8cbbb1b5c27fec&fccid=251eba8a83187770\n",
      "https://au.indeed.com/pagead/clk?mo=r&ad=-6NYlbfkN0AZLQvL0eTbPFT73Wkr_fTZ6lAUxbA2JeVsEs5B33cdgms0xSE7SUh7ufOBM5QvjQRjaalDaJSBCCbRy5crR8M5Qx2qAc9AeUUNCb8m9bvdWHguhBUkUMDXSxku3F_MQE5KlTAwnlEkFAm7NumssKHnfuR3FdDpxdAAl8Xs263xxfU8LrqxBd6AqGWYzwLnE2K3_J_pDY-QFvMj8dXTp-4ftVIwyY9Q83Mobu9_m0jedJJsN8e8JrHSr9Qg58T08eGs0bVlsDRz3QIij1XF24VAQOviFjGEnj78lJ_mq3tvlm6QmENIOEucLVH3jpbxlN3B9pV1WfongC2zXEAAaFy9LXWdfCJGiru9ZqQJPUBRE8VkD8aFw_Unu49oBks7FhWGrgb0I98-JgsSyI1ZHUC1tkOtsD3wtZFUUzCRq025nA==&p=3&sk=&fvj=1\n",
      "https://au.indeed.com/rc/clk?jk=2cb4d8c10c7b2797&fccid=ce1396e5b88f438b\n",
      "https://au.indeed.com/rc/clk?jk=c7487828e33b223f&fccid=251eba8a83187770\n",
      "https://au.indeed.com/rc/clk?jk=cea5753bf102f877&fccid=407ea6d32ec79eeb\n",
      "https://au.indeed.com/pagead/clk?mo=r&ad=-6NYlbfkN0AZLQvL0eTbPFT73Wkr_fTZ6lAUxbA2JeVsEs5B33cdgms0xSE7SUh7ufOBM5QvjQRjaalDaJSBCCbRy5crR8M5Qx2qAc9AeUUNCb8m9bvdWHguhBUkUMDXSxku3F_MQE5KlTAwnlEkFAm7NumssKHnfuR3FdDpxdBj760qV6LMIXmkEf5yrFSmc3pQj-8qhJAZ_XWJHaiJjnrWDcpafDQTZKIQdcNVSxd2AQbmRL0gWMrV7OY3bmisB2_4FvDOS1IKtERV9EZ-DqEkcA_QLiXK585YxPGJTYx2Tyg91_Wm5FImGGrBBzJvipK93mSxsaGnsdzU2odKIrwRvGxXGlmvv-WoDFVFudUCqxamHG-nELfEgigFDHgjdouCXoU4RU1pwj63KV8Tbe3JJN0xGlrZkRGpYS2lycRA7LsmmLmdJQ==&p=1&sk=&fvj=1\n",
      "https://au.indeed.com/rc/clk?jk=4cd19abbaa35cb0c&fccid=087fdafe1fd631b1\n",
      "https://au.indeed.com/rc/clk?jk=781f482cf938ff0a&fccid=0d3a3c9e16872169\n",
      "https://au.indeed.com/rc/clk?jk=3741087e1089ff68&fccid=587a90c72514ac83\n",
      "https://au.indeed.com/pagead/clk?mo=r&ad=-6NYlbfkN0AZLQvL0eTbPFT73Wkr_fTZ6lAUxbA2JeVsEs5B33cdgms0xSE7SUh7ufOBM5QvjQRjaalDaJSBCCbRy5crR8M5Qx2qAc9AeUUNCb8m9bvdWHguhBUkUMDXSxku3F_MQE5KlTAwnlEkFAm7NumssKHnfuR3FdDpxdCN_nLSxGMjUSfyFqWKJXqd6-vRFlqumaqoMnjhBaavExafLyBYOYIJx40od_MXtgK8nheHu5BBQH3WvUyPhyUzavyDFWTDp09BIrujoU4gJNGe92S3x4H2Ecp7WhcicVZyMAUS4AwX78IxxJLjA74VtnEsw-ViWy9HWivHV-6P5RKWmDFreABssONBpXyuU8ohnJIJ004MZWsPnfBLi1Bw8u-ZZijI4DSYYUq1f9Cmd35a3lZHg6KmMWj5oMTEvSFu4XYFc67ZRA==&p=3&sk=&fvj=1\n",
      "https://au.indeed.com/rc/clk?jk=f295cc45433d026c&fccid=9f624360ccbdfaf9\n",
      "https://au.indeed.com/rc/clk?jk=587c9c09ef8ee675&fccid=542e555dfd32e297\n",
      "https://au.indeed.com/rc/clk?jk=bd930a720cf41741&fccid=1292d4144c045586\n",
      "https://au.indeed.com/pagead/clk?mo=r&ad=-6NYlbfkN0AZLQvL0eTbPFT73Wkr_fTZ6lAUxbA2JeVsEs5B33cdgms0xSE7SUh7ufOBM5QvjQRjaalDaJSBCCbRy5crR8M5Qx2qAc9AeUUNCb8m9bvdWHguhBUkUMDXSxku3F_MQE5KlTAwnlEkFAm7NumssKHnfuR3FdDpxdCEE1HAB28a0I14x3clXPkpdmwEcIUVXJiAM05Ia_5c50kvHC2amt7rYRzUdi-4zzH3Wg9v3B7vgIAtCIY6AON-mt9j335RqSSmhbLJgJcTZiGb888cfr7-zbh9T0qWN6uQqSamO0BYusUEmXWcld1wDkL-BJiVXol61G0cTpj-dvDo5eLkD9CeAVhn_yGurXKhrSI3GngdC2NaM3GpAiryXh-RGj0naT46v18cWi1vJHGTt_ylPCVfoXRqD9IC-4v2n0IgzlSa5w==&p=3&sk=&fvj=1\n",
      "https://au.indeed.com/rc/clk?jk=211bc784a6a10f7f&fccid=0d3a3c9e16872169\n",
      "https://au.indeed.com/rc/clk?jk=a3097f2c9fcb65a5&fccid=0d3a3c9e16872169\n",
      "https://au.indeed.com/rc/clk?jk=0ec54e76c4bf81e5&fccid=dc74152593865f5e\n",
      "https://au.indeed.com/rc/clk?jk=73c160da9ca002b9&fccid=5d1d48d3b4342a6a\n",
      "https://au.indeed.com/pagead/clk?mo=r&ad=-6NYlbfkN0AZLQvL0eTbPFT73Wkr_fTZ6lAUxbA2JeVsEs5B33cdgms0xSE7SUh7ufOBM5QvjQRjaalDaJSBCCbRy5crR8M5Qx2qAc9AeUUNCb8m9bvdWHguhBUkUMDXSxku3F_MQE5KlTAwnlEkFAm7NumssKHnfuR3FdDpxdC_4794LGLmRcUg477Zx_z_ZDOeVbRLsxGa9F7SELOyeSSo73nGZyASwZI7q0rqlNxFV1-3IUxD-Y91YZMoT98DasTRMkIg4_hhtlldJ4zgDchyd4_ABLgOy4ZOAfQMZmr-I0rEdCzm5km7M4d1Oq4OsodEP2C8fNPU2lElQd7RyLgbTxzWXHEMeJVXawokSKk8tFLeaGcoc0ysadi1MAJZvv8fMDiYgXtdFlkURZiF-3yFfc5OKUwEG5ZE6kIkYTRtYWsBA27yeA==&p=1&sk=&fvj=1\n",
      "https://au.indeed.com/rc/clk?jk=809f1a577cea4f32&fccid=c9831d9e5a2d4cdc\n",
      "https://au.indeed.com/pagead/clk?mo=r&ad=-6NYlbfkN0AZLQvL0eTbPFT73Wkr_fTZ6lAUxbA2JeVsEs5B33cdgms0xSE7SUh7ufOBM5QvjQRjaalDaJSBCCbRy5crR8M5Qx2qAc9AeUUNCb8m9bvdWHguhBUkUMDXSxku3F_MQE5KlTAwnlEkFAm7NumssKHnfuR3FdDpxdBcjpsVzD9xdqhdNonb6weA7iZR2DspvDz2zqgheKVuttnhjvhAHYKshFrEfRH4--F5qu2yYiCn-wIkURpWL2OFSZwvNu1iincbuVlLEc3oSGjCfsyufkrOEU0lZ8SbJnUVtPPHGYphM3gSeVACl5kxuWgpULErnX7cCC304VFFMVSeK2oEvSY0wSUn2Prq_cBwKyVUqrO0-NOgwqCq6FDwqIxTh5MC0INyzrcSAfq1KC3mwk_TxI4rr3uX6Xtn7tkMmRKmsOP1yA==&p=3&sk=&fvj=1\n",
      "https://au.indeed.com/rc/clk?jk=d5e4133e74fb9ae7&fccid=331341a561cbfd66\n",
      "https://au.indeed.com/rc/clk?jk=6eb40ecb10c58dee&fccid=407ea6d32ec79eeb\n",
      "https://au.indeed.com/rc/clk?jk=710abdb745a21c0c&fccid=407ea6d32ec79eeb\n",
      "https://au.indeed.com/rc/clk?jk=8b88b52128e87174&fccid=407ea6d32ec79eeb\n",
      "https://au.indeed.com/rc/clk?jk=8e8b3acc3b0c2548&fccid=587a90c72514ac83\n",
      "https://au.indeed.com/rc/clk?jk=5a902a47ccf9b47c&fccid=0d3a3c9e16872169\n",
      "https://au.indeed.com/rc/clk?jk=b1a4a17f82545182&fccid=dc74152593865f5e\n",
      "https://au.indeed.com/pagead/clk?mo=r&ad=-6NYlbfkN0AZLQvL0eTbPFT73Wkr_fTZ6lAUxbA2JeVsEs5B33cdgms0xSE7SUh7ufOBM5QvjQRjaalDaJSBCCbRy5crR8M5Qx2qAc9AeUUNCb8m9bvdWHguhBUkUMDXSxku3F_MQE5KlTAwnlEkFAm7NumssKHnfuR3FdDpxdAJzzQBMYk2xxmdC71Lz5cOUyaa0KOEzsE0eIMwIy_7Dkr9PxB7-h8rCm66fBNl-hXBDddQwYQRC6JKmCqkrFM1crjFdhTSk2h0MpXfxHvgty9R-fgYXRK0z-bW0YqF_PdcqQz3lzWCrfyRk0hU3ZAVGLYDoja6NOVO-vjM6hlS-xtcUAx-I_54jZDVufCJukil5YnEyM0ML_hLV2QOhUtN2mvY4kdorcOM_IpnNgj2AbW2mAKhF6-PYzH1G88L4MXod1jYkxhBag==&p=3&sk=&fvj=1\n",
      "https://au.indeed.com/rc/clk?jk=2adf0ec6ef671b3d&fccid=331341a561cbfd66\n",
      "https://au.indeed.com/rc/clk?jk=f4055bbb405fd798&fccid=ce1396e5b88f438b\n",
      "https://au.indeed.com/pagead/clk?mo=r&ad=-6NYlbfkN0AZLQvL0eTbPFT73Wkr_fTZ6lAUxbA2JeVsEs5B33cdgms0xSE7SUh7ufOBM5QvjQRjaalDaJSBCCbRy5crR8M5Qx2qAc9AeUUNCb8m9bvdWHguhBUkUMDXSxku3F_MQE5KlTAwnlEkFAm7NumssKHnfuR3FdDpxdD6mMZaF9p8z6kZqZYLugA5oJhbUi0pA9w9ZPfcAnN2FZ0417a5QOArAxd4sozQVJy8yVZHxD1jnqMfsOWYgUeZ_XrspAErTYwZicqw1HhLK_RykaYAnnD-yS02p-9giN5cGT5qbd2roP8kldSin37fBtQc6KaM4l9YQJJMpyy0ENcfvpg2QiO33TM4Ksu_Su4N3wUK_leo_Bu-8itUCeQY0UCxypf3ZMT8KOYfZNVwdVVGmgvhWIlO0Z0sVUl7Pa3awAq6pGQ-dw==&p=1&sk=&fvj=1\n",
      "https://au.indeed.com/rc/clk?jk=c35ebdf71ae62793&fccid=587a90c72514ac83\n",
      "https://au.indeed.com/rc/clk?jk=2352a2f85160ef0a&fccid=331341a561cbfd66\n",
      "https://au.indeed.com/rc/clk?jk=40b22080d222c642&fccid=587a90c72514ac83\n",
      "https://au.indeed.com/pagead/clk?mo=r&ad=-6NYlbfkN0AZLQvL0eTbPFT73Wkr_fTZ6lAUxbA2JeVsEs5B33cdgms0xSE7SUh7ufOBM5QvjQRjaalDaJSBCCbRy5crR8M5Qx2qAc9AeUUNCb8m9bvdWHguhBUkUMDXSxku3F_MQE5KlTAwnlEkFAm7NumssKHnfuR3FdDpxdCobQImAsA1bKAJfsV7AQiEd7svqJ3TpVJMKUp3GkJv1RfiJOSd0JL_iXnejJ-0pkXDsa3GrmRsNYlEx3tFSe4lklwnpbl0qMEeSXEz0kjMrVvfYprbr-MdPG4Yoms2bkzUKgJYvwIcEIsm-PEeFZvcxoSuNhRBC0GkjrHQXKc33_wOJ8WmPuRKPcCcuHjJTIxMw8kEoRZe1NCL6shVPA6v2S5aLhBl0RKQKYfJ9EQ9iRq05hBkSJSTGFcExGelliQL_TdJ60uojg==&p=3&sk=&fvj=1\n",
      "https://au.indeed.com/rc/clk?jk=b40db952f8cd298d&fccid=407ea6d32ec79eeb\n",
      "https://au.indeed.com/rc/clk?jk=a8995624d731b5ba&fccid=587a90c72514ac83\n",
      "https://au.indeed.com/pagead/clk?mo=r&ad=-6NYlbfkN0AZLQvL0eTbPFT73Wkr_fTZ6lAUxbA2JeVsEs5B33cdgms0xSE7SUh7ufOBM5QvjQRjaalDaJSBCCbRy5crR8M5Qx2qAc9AeUUNCb8m9bvdWHguhBUkUMDXSxku3F_MQE5KlTAwnlEkFAm7NumssKHnfuR3FdDpxdBbJGS-NEmzsBarqMreqmX4zICSiLjOOaG2DvHcwXneGYfPMHcRgt2U8-tgSEjH-t3r5y761YDqS13xNTAksrcxi_Wqgvp4i2u4RXusEB7mVgk68Tzp2yIs3zxooXFWSmgGfBEJxmwDA563bXZBI1T2cL7y3Jz64gWiuOxSeeumTYvJi1jPS1Jwi-2972gFXdkrio3moXyyk6e62cdUrI1iRuUn6OMw8S8m7185yOgJ-Q1UTrIz6ooT_41qJ2cRjrNtOh6ZbNNLBw==&p=2&sk=&fvj=1\n",
      "https://au.indeed.com/rc/clk?jk=dff9c4ef81acb7aa&fccid=3c9bc1385272ea26\n",
      "https://au.indeed.com/pagead/clk?mo=r&ad=-6NYlbfkN0AZLQvL0eTbPFT73Wkr_fTZ6lAUxbA2JeVsEs5B33cdgms0xSE7SUh7ufOBM5QvjQRjaalDaJSBCCbRy5crR8M5Qx2qAc9AeUUNCb8m9bvdWHguhBUkUMDXSxku3F_MQE5KlTAwnlEkFAm7NumssKHnfuR3FdDpxdA6sC8NVWWHtwGRlCMPDNcEhgeZ7I50151ET8UlIzG-RxAIMNU1rGBhawVtD7kYO4vPneQAjKTlM0q68CiT2JxpkUOuHjeXvUrSnRF6p-l1wxBpXFj58gr3UWTPQftMGYm-blBUVfSEV7brRCB9GOAFVIhaxqMIcLoXYAsxx_P3SK8RMafS8tSgHZ2dv5pMr1eWCCZtDjy0ubwDjqIs_bvPUiCFI9nJI6gZqqJZdRPuRA_nXOehCpXye89w35h2fZaCBu184PwX5w==&p=5&sk=&fvj=1\n"
     ]
    },
    {
     "name": "stdout",
     "output_type": "stream",
     "text": [
      "https://au.indeed.com/rc/clk?jk=f0533d7f9b6ee270&fccid=77087bd1709a8148\n",
      "https://au.indeed.com/pagead/clk?mo=r&ad=-6NYlbfkN0AZLQvL0eTbPFT73Wkr_fTZ6lAUxbA2JeVsEs5B33cdgms0xSE7SUh7ufOBM5QvjQRjaalDaJSBCCbRy5crR8M5Qx2qAc9AeUUNCb8m9bvdWHguhBUkUMDXSxku3F_MQE5KlTAwnlEkFAm7NumssKHnfuR3FdDpxdBlWLH8sHHOprLCyYjI7bhB3b-xle3KLWWFKdfFXsCLLU77Gncj3QoFrkdLdYqcsEQjM63ZQaGgDLQdi2PvlAFbAthYe8KFWgZR8T31RAxDPCvTCqDOCksTgFJB2CXNczfabrvtFjytiBdGUijlp_dashAal8go9gdR0c3umBX_BBSd5IiprR8UKzgTJpU16vNcPmbYNPUUnHFFYzDdLvZzrvh5ObZ3dKFbQWXmajtsBiefF9paeY4Widi_WUw1w6FMizxN1S4dsw==&p=5&sk=&fvj=1\n",
      "https://au.indeed.com/rc/clk?jk=6e0ece7f59ff797b&fccid=958b2d6b9afc05bb\n",
      "https://au.indeed.com/rc/clk?jk=b8106c08d5e8380f&fccid=f63ded28dd6ab0aa\n",
      "https://au.indeed.com/rc/clk?jk=786fba4a33fbe8ca&fccid=86b33657c5f56739\n",
      "https://au.indeed.com/pagead/clk?mo=r&ad=-6NYlbfkN0AZLQvL0eTbPFT73Wkr_fTZ6lAUxbA2JeVsEs5B33cdgms0xSE7SUh7ufOBM5QvjQRjaalDaJSBCCbRy5crR8M5Qx2qAc9AeUUNCb8m9bvdWHguhBUkUMDXSxku3F_MQE5KlTAwnlEkFAm7NumssKHnfuR3FdDpxdDMJJbO414CDVez2nKdXjWzQbW_vkprnyfDKLDx7bmzoAoCKjWIsBuqVyyman90OhH9I3PeCsdwMU8cpnB-nyTYIq2hJ1X8VMY902ZwWXM0skwgbfvp-ILJQqSxNlDIzwKy-5YOuza8Q_nis9JIqs7WhFHyAXgnU9YCKG-AMgGjW8wBGF0tSLncVX2q6x-H0A54ec9CdWnrrvuJTKR7xcOvUUm0JnNXYwGrPwXzNsmKWNOd4x9kZ5zgNYp7JMXc-BJtT0GDkKZpeQ==&p=5&sk=&fvj=1\n",
      "https://au.indeed.com/rc/clk?jk=f00f300bc76a2b9d&fccid=d35f6b081e467c24\n",
      "https://au.indeed.com/rc/clk?jk=fd34e2855ac694de&fccid=f01c2f55ec3054bf\n",
      "https://au.indeed.com/pagead/clk?mo=r&ad=-6NYlbfkN0AZLQvL0eTbPFT73Wkr_fTZ6lAUxbA2JeVsEs5B33cdgms0xSE7SUh7ufOBM5QvjQRjaalDaJSBCCbRy5crR8M5Qx2qAc9AeUUNCb8m9bvdWHguhBUkUMDXSxku3F_MQE5KlTAwnlEkFAm7NumssKHnfuR3FdDpxdCHeH7_nTPOge3XDhktrBbnfMyRYJ-iYIuJnsHZiEoQVD8k1eC-OrWsKMGGDoYo7Nbr3POig4I4sRy61iYQfp5zBbFy_myriOVAd0ZPmBC2uzG1I5YCk6yJmCyxY7e2hdqMvvAG2_XuBdBLKKWwwD35cL1gSJUaTTRE9VNYAOzR4zoJhdtihBHFUm51alH2sFYpf2QEKyT6YfRsCep3WXz3Y_7hvSfv4A1ynUZnSshO916UoFA-Xf2veCgZG3R2N1m0W_12iBy-UQ==&p=5&sk=&fvj=1\n",
      "https://au.indeed.com/pagead/clk?mo=r&ad=-6NYlbfkN0AZLQvL0eTbPFT73Wkr_fTZ6lAUxbA2JeVsEs5B33cdgms0xSE7SUh7ufOBM5QvjQRjaalDaJSBCCbRy5crR8M5Qx2qAc9AeUUNCb8m9bvdWHguhBUkUMDXSxku3F_MQE5KlTAwnlEkFAm7NumssKHnfuR3FdDpxdCodFNp7Fdk8DmHNLO-T60g5GCFC5Ke14SqZkgP_jfxU3Y12ybmXpXQ20iNqN3XbIqPEP5WnkfGfK5NnUJ5UrbO-1LLIGh9A8X9ULSyP6lS8lEni0Hj7pEZK08RWalxsf30qKcGzvaM1asujCw2hqATxrU52sYwfbsu1bIeYy7knMmy0Nmd7JsxUkYwu_Q8N_A-S42bUKhXwcxIqUr1iZ4pDHxhzccp7_bJif_8wIuLtrEJYJPB1C0n9Fg79tC5dN3Nwszfy1H4XA==&p=2&sk=&fvj=1\n",
      "https://au.indeed.com/rc/clk?jk=ed0d5a855b03921b&fccid=9f624360ccbdfaf9\n",
      "https://au.indeed.com/rc/clk?jk=b5280b5504020ec8&fccid=251eba8a83187770\n",
      "https://au.indeed.com/rc/clk?jk=c04db1237c927a28&fccid=331341a561cbfd66\n",
      "https://au.indeed.com/rc/clk?jk=4491cc90623df7ce&fccid=f01c2f55ec3054bf\n",
      "https://au.indeed.com/pagead/clk?mo=r&ad=-6NYlbfkN0AZLQvL0eTbPFT73Wkr_fTZ6lAUxbA2JeVsEs5B33cdgms0xSE7SUh7ufOBM5QvjQRjaalDaJSBCCbRy5crR8M5Qx2qAc9AeUUNCb8m9bvdWHguhBUkUMDXSxku3F_MQE5KlTAwnlEkFAm7NumssKHnfuR3FdDpxdCNPMY2oeGAcXDtsMHR4zsvtxAf7q1ErSVBQbXSYuQR3gPyZbJHlg7MXXoLN3wg0hYEJKTDhGHG6n-5lClAyWOTkTU1vVewXgHNhySyMfjjz8RaJza3JVqsBpd-_9XQk2qhRwrGKVb9chtQiFnlUKJkZDqZ6xj7U35t2Ns7kxTkjpPGURMOlOSoib2De2UGvintdq1wdx2lO4b48iu2drMP6GDjrZ_4WjHHb5xiypJpVBlYiS_ZEyJuT75r5HSUgNmT-3djfx4Npg==&p=5&sk=&fvj=1\n",
      "https://au.indeed.com/pagead/clk?mo=r&ad=-6NYlbfkN0AZLQvL0eTbPFT73Wkr_fTZ6lAUxbA2JeVsEs5B33cdgms0xSE7SUh7ufOBM5QvjQRjaalDaJSBCCbRy5crR8M5Qx2qAc9AeUUNCb8m9bvdWHguhBUkUMDXSxku3F_MQE5KlTAwnlEkFAm7NumssKHnfuR3FdDpxdCXE2iMztqF2HmG-seLqp9o3qQefRLiG2XTSXxLgAbU6i_1AKTpIbBoBSPETfIVW5hRrTemsl8YTUDjFgx0nkTYiM2YuwFUC46_9LtsqbBkWcv4F4nTAMPRI57B1Z0_eX6pvnomXPB9RkrhDkasLDksro5JrV38BunNNfaUAYFDTPrL_NJ_5SBoPQH9Ci1Lonvp25QXsD4-D6vhfBfGjWrSAbAaoMCH9aDas0M5HdVXnYyysG3AwpvGwFt8v_7Ql61oT-DeeBWxeQ==&p=4&sk=&fvj=1\n",
      "https://au.indeed.com/pagead/clk?mo=r&ad=-6NYlbfkN0AZLQvL0eTbPFT73Wkr_fTZ6lAUxbA2JeVsEs5B33cdgms0xSE7SUh7ufOBM5QvjQRjaalDaJSBCCbRy5crR8M5Qx2qAc9AeUUNCb8m9bvdWHguhBUkUMDXSxku3F_MQE5KlTAwnlEkFAm7NumssKHnfuR3FdDpxdAGsOvQg6IzuQOdk6cTj6zN23LfHbvTFydMNMx-Cobb2entUNU1BiR8Id8wql7ltT5Oxq202J7qBtEpz2jasjjoJt-zxsPbSiT8VF0x5RE0xu5gcphej_6FXUFB1Z7_G4xWXFx5m-ShhABjgTP0XwiJ4f_DHjx6F04WbhCPBjaJFgqGOY5Yu_iJ3nLovbRTtd2TIuM9rgznwLJpRM6Am7JwxB7Mx8rqwnb40Td1hMYDK6QZFuk8kYGNRWjNtDforuULHYJiqPqd2g==&p=1&sk=&fvj=1\n",
      "https://au.indeed.com/pagead/clk?mo=r&ad=-6NYlbfkN0AZLQvL0eTbPFT73Wkr_fTZ6lAUxbA2JeVsEs5B33cdgms0xSE7SUh7ufOBM5QvjQRjaalDaJSBCCbRy5crR8M5Qx2qAc9AeUUNCb8m9bvdWHguhBUkUMDXSxku3F_MQE5KlTAwnlEkFAm7NumssKHnfuR3FdDpxdCRa2d5os2dshM8pq_mf3QUau8yEnjudxT7NbMepbn_uZqG-zMkKsndiAuQ9yitDemj0ozqb7UKw-bzCwksu5cGH4D6nT3arWSaPm1V5fTQtlG3vlpSgv-wQG7aSjTPX-yxf3gXb3qCvgdytQhdDdjjzp4KVFj1PIoq0YqjV7-v7SucyO23-NiVAzqYgLrPWSF2PwdzBEON_-TJNjfMRShWfI6FH5pJmbS1oK6EXZ_C35n_Gvp277h5BB_Yx7vE7MK4E3wi8QYMFg==&p=4&sk=&fvj=1\n",
      "https://au.indeed.com/pagead/clk?mo=r&ad=-6NYlbfkN0AZLQvL0eTbPFT73Wkr_fTZ6lAUxbA2JeVsEs5B33cdgms0xSE7SUh7ufOBM5QvjQRjaalDaJSBCCbRy5crR8M5Qx2qAc9AeUUNCb8m9bvdWHguhBUkUMDXSxku3F_MQE5KlTAwnlEkFAm7NumssKHnfuR3FdDpxdBjpMxBmjQlLFUYm8W1-ys3zk-LbzF1C2DacuHtNHxKqVckLZFMLLM4r3qaHhofLGrtwHwcJ-DrhLHZt-mvEGUC_Vh7BKQIHSYDjTwG4cNnEVIWDemFdCj5PKsA4sENkke1mUcVvDcwgqydHVPNnAAGaIAerymWwQUayvRXDzBXpezHOh4vDA7zh5QFq5m0oYdCL5n1szZBZmoJ4gygkPCuZsJZpIrXXPmsoqujGUKuvh_8FFaoDGxUwwWi4Rdo8tylD5NjX2OCtg==&p=1&sk=&fvj=1\n",
      "https://au.indeed.com/pagead/clk?mo=r&ad=-6NYlbfkN0AZLQvL0eTbPFT73Wkr_fTZ6lAUxbA2JeVsEs5B33cdgms0xSE7SUh7ufOBM5QvjQRjaalDaJSBCCbRy5crR8M5Qx2qAc9AeUUNCb8m9bvdWHguhBUkUMDXSxku3F_MQE5KlTAwnlEkFAm7NumssKHnfuR3FdDpxdDt8fGlfSyhoBT5r-Nps3HVtdK97Ge1eya3uACucbyPWxjUVY20X01dgtZyEJmwKXNuG00pamvVRep2-aNJF2qFZ4W29_zDLR6qdq67gcqOFPMVPa8emKxJBW1wMpZgMYWskwa775fX0RSBpD1IwQnRcvuNROK05IGHz2rIDHpWDqj5DoL2fyR_v2WNCr3wy08YtDr3Pa3N-FR15DiH5kr1CelyTNMePMTbBsebGu7UBudLTXZOrolmUwTBlCn-offM33ji43GZ6Q==&p=1&sk=&fvj=1\n",
      "https://au.indeed.com/rc/clk?jk=b5995e8f001b7b40&fccid=2cc803336f95091d\n",
      "https://au.indeed.com/rc/clk?jk=cdfdedb9c0e499ac&fccid=f01c2f55ec3054bf\n",
      "https://au.indeed.com/rc/clk?jk=b2c5474ee7f9edf1&fccid=414e3518d9d6b338\n",
      "https://au.indeed.com/rc/clk?jk=04dae446e30e44d3&fccid=d35f6b081e467c24\n",
      "https://au.indeed.com/pagead/clk?mo=r&ad=-6NYlbfkN0AZLQvL0eTbPFT73Wkr_fTZ6lAUxbA2JeVsEs5B33cdgms0xSE7SUh7ufOBM5QvjQRjaalDaJSBCCbRy5crR8M5Qx2qAc9AeUUNCb8m9bvdWHguhBUkUMDXSxku3F_MQE5KlTAwnlEkFAm7NumssKHnfuR3FdDpxdAVq-Wv9xeauKlcSPG3OtTYBNF3CZR3CjLs5ms3YYCdeHi6G0oV6zPXnK3eJvkv6MLVLSo6Ktr27cPHadF_f1mP7NkSab-X66-VdpCgL-QTl3mA45pbq7DQ83skHOKkxvq4chqSoCfowGvK48GZFM1osn4FeBN_0Nyr975_MLgrWqiwyKm_ii_KLRqH_W5HsCT5VCYPp0j9YDuOf0ii7pckYrM2S6lwqLfrIE3rSf0gwQ0Oz-W2AtRMUn5mzbnM8ZguQhu8m-fi7g==&p=7&sk=&fvj=1\n",
      "https://au.indeed.com/pagead/clk?mo=r&ad=-6NYlbfkN0AZLQvL0eTbPFT73Wkr_fTZ6lAUxbA2JeVsEs5B33cdgms0xSE7SUh7ufOBM5QvjQRjaalDaJSBCCbRy5crR8M5Qx2qAc9AeUUNCb8m9bvdWHguhBUkUMDXSxku3F_MQE5KlTAwnlEkFAm7NumssKHnfuR3FdDpxdACZ2oMNmeQGj9xD9cOLUgqXsMhjHLkHlm4YoiJoMtZcWGsBu0d4srzq2h850FW1NRoWR2ory-EuX0DFkmLn3sb_1WdS44Y9TZ2uVkB_KaW-gw18lRdrkqbeezPQeUcwLoY-U1dixTAt_aISJdAmUfTBfJiMbK78FfNupVLbvir8M1lY51ZGlI4WxPB49EH8CJoyazdif7Slqt1vwXbIMCwlWWHrn3VyKOFyTE1W6_9BrVjuKpTKWsayFMJiaTWW5rpyiIHrXZJYw==&p=3&sk=&fvj=1\n",
      "https://au.indeed.com/rc/clk?jk=79554361deb60548&fccid=0d3a3c9e16872169\n",
      "https://au.indeed.com/pagead/clk?mo=r&ad=-6NYlbfkN0AZLQvL0eTbPFT73Wkr_fTZ6lAUxbA2JeVsEs5B33cdgms0xSE7SUh7ufOBM5QvjQRjaalDaJSBCCbRy5crR8M5Qx2qAc9AeUUNCb8m9bvdWHguhBUkUMDXSxku3F_MQE5KlTAwnlEkFAm7NumssKHnfuR3FdDpxdDYU-wPqngsaGquJhnd_W4kGIc5g8YkDboyyIU8xriKzkoNeUi6N80fhqC94_PX5O4kYJwKT3OG2Jp8dY8J-TKA8_8wJZYumamssnEEAiTKPizInOYrkcP8g71woLCWTcZ7OHQsykdFWVG7aONIxCbCOLGvyNT8kO_iMVSi_aUj22scT50u8D_aju-QRhUWdgh2P_cNHEr8czejB3tZVjV-bmT99MtWp_kO_q-fH-TOhC3rHCaPbRukCkIXQhb4uu36b58Ex1qNuA==&p=1&sk=&fvj=1\n",
      "https://au.indeed.com/rc/clk?jk=3baf9dae8ac356db&fccid=31670bef3ae6497b\n",
      "https://au.indeed.com/rc/clk?jk=db27d96df0d01476&fccid=86fd58bb45436ba3\n",
      "https://au.indeed.com/pagead/clk?mo=r&ad=-6NYlbfkN0AZLQvL0eTbPFT73Wkr_fTZ6lAUxbA2JeVsEs5B33cdgms0xSE7SUh7ufOBM5QvjQRjaalDaJSBCCbRy5crR8M5Qx2qAc9AeUUNCb8m9bvdWHguhBUkUMDXSxku3F_MQE5KlTAwnlEkFAm7NumssKHnfuR3FdDpxdCE-MqblFe9vjKZooExz7BhKKvNk6AvjxP72R2m2wgnk-S8XaUHnKbQfOwnw_7HC3MQC-fGQKRGm6NWO6Ef8--jPs3Uz5PS7Vt_kJLFjLc17_0Di8gxCOy5GrQkimDHRD20iJ0k3e7kZ0ncn30DI7B1XEXH3SO1HOJV9N3v0ZpBcahH1DDyNtIs0MI0QgmeLbgqs2LuyGpqAIcWJuCbmXRZcO7Fet2tubGLBFBGqzR_12w3R6u97_-H9myf1aoK2jc94KLY_zCF8g==&p=3&sk=&fvj=1\n",
      "https://au.indeed.com/rc/clk?jk=1e8b0f3972bd2614&fccid=f23308cafac7f4e6\n"
     ]
    },
    {
     "name": "stdout",
     "output_type": "stream",
     "text": [
      "https://au.indeed.com/rc/clk?jk=bfa9401dc4b5c982&fccid=f23308cafac7f4e6\n",
      "https://au.indeed.com/pagead/clk?mo=r&ad=-6NYlbfkN0AZLQvL0eTbPFT73Wkr_fTZ6lAUxbA2JeVsEs5B33cdgms0xSE7SUh7ufOBM5QvjQRjaalDaJSBCCbRy5crR8M5Qx2qAc9AeUUNCb8m9bvdWHguhBUkUMDXSxku3F_MQE5KlTAwnlEkFAm7NumssKHnfuR3FdDpxdCgtItxLOnZb4vUpXCq0P0LKqzC2gVI2LM48Czd0AE-wuGVXVxXl6A6ZlJMXYvfW9JoOZw-RiyATt6F5MqXN7eDyTYP4mG8IuGpTOmGE3449SpI_QU2KRGwSnxDFopqjslpatEAOIkoQw9R9BAlIAjwX44YDFIj9MrNKv3sh_mwPmSvO-jkcAc8f98GDQ1tRrFctGWuQdUj4CjERh_dfK1dApiv0Lz0vyJySfH_I3t5miVzZK5Y9CSSQV_3CB8ZSgCnWu09kIet6g==&p=2&sk=&fvj=1\n",
      "https://au.indeed.com/rc/clk?jk=8b98f905f5cdf9f7&fccid=17a48b7e52f0d901\n",
      "https://au.indeed.com/rc/clk?jk=abba8794f3082468&fccid=12f7a39cc73d333f\n",
      "https://au.indeed.com/pagead/clk?mo=r&ad=-6NYlbfkN0AZLQvL0eTbPFT73Wkr_fTZ6lAUxbA2JeVsEs5B33cdgms0xSE7SUh7ufOBM5QvjQRjaalDaJSBCCbRy5crR8M5Qx2qAc9AeUUNCb8m9bvdWHguhBUkUMDXSxku3F_MQE5KlTAwnlEkFAm7NumssKHnfuR3FdDpxdCPhXXbzxsD4r49_TwXro1OVa0iBnVOwMFgr7eaYHi5XpzZ2I7R1_b89WiybjtCSG31w6mlzGYynmS860_PGWKCFYShXgwZBuHL3smzFYNdDAX1fPqjwlr7w_iumZkRjZ8Ax8SEYXtj_OE4tUX_haO0t4WOrHVQXlO3lAiX_0edhcIJNG35FSYuGkFWN_XaYRQFusIA-aVSoc1ObqlmcW5hO-c6dttOAiyFctLdPvCnxj-_rKygc7kpaSlPXU4LdLhtM-A7EpMfNA==&p=2&sk=&fvj=1\n",
      "https://au.indeed.com/rc/clk?jk=1900a9a5002491cc&fccid=9544fabf7bdbf160\n",
      "https://au.indeed.com/rc/clk?jk=43d1542c2f24f2e6&fccid=0d3a3c9e16872169\n",
      "https://au.indeed.com/rc/clk?jk=32199e8b5f2ba238&fccid=6beda7772d06c5b6\n",
      "https://au.indeed.com/pagead/clk?mo=r&ad=-6NYlbfkN0AZLQvL0eTbPFT73Wkr_fTZ6lAUxbA2JeVsEs5B33cdgms0xSE7SUh7ufOBM5QvjQRjaalDaJSBCCbRy5crR8M5Qx2qAc9AeUUNCb8m9bvdWHguhBUkUMDXSxku3F_MQE5KlTAwnlEkFAm7NumssKHnfuR3FdDpxdDuZQ5LSa-MWCmw8PJIs3y_aG3uceH4OGlsn2rrJV58QXKp1W_USJPXFp6_w0niPBmV62IYazScoTBAvzR3Gp1EsUD_S0jlFqXcOJ-Z4F0rvAkVzf7qfQRSKEp0uDWz8_2wnVLpGgUDSYgSMu_Yh3njaRVnswYNTSvddKPb8_7pF7H2AF8w9puoMHbYAn9rOmQV49flbrLb_XoMRb4oG4F_HGKLU_dC_huNHwnKDV47iwxfrUtMF5rGhkqShkGC8AiMCE7tfh2aFg==&p=2&sk=&fvj=1\n",
      "https://au.indeed.com/rc/clk?jk=f8fb1ed5cf4a683b&fccid=085760c105545d7c\n",
      "https://au.indeed.com/rc/clk?jk=f6f7e2b6a67f09e0&fccid=9b1b0d5d0a964d32\n",
      "https://au.indeed.com/rc/clk?jk=697ef38cdf6a663b&fccid=9544fabf7bdbf160\n",
      "https://au.indeed.com/rc/clk?jk=7408cf57c539bdb7&fccid=251eba8a83187770\n",
      "https://au.indeed.com/pagead/clk?mo=r&ad=-6NYlbfkN0AZLQvL0eTbPFT73Wkr_fTZ6lAUxbA2JeVsEs5B33cdgms0xSE7SUh7ufOBM5QvjQRjaalDaJSBCCbRy5crR8M5Qx2qAc9AeUUNCb8m9bvdWHguhBUkUMDXSxku3F_MQE5KlTAwnlEkFAm7NumssKHnfuR3FdDpxdA27uR5aeBPTm-MLFflOhesklHQM30QhRlFmKItqNNLB2C6LT8mHiDybr8ks7qdU-ZGx2jIaOoeEQqcE6P1g0Ec0YyvWkZAuNjR6p8IjLw0vZXtVSBIdNx9-SvP_zD8tqFrVUMmhjz01_KQqyHZ5haBP9TzvnQW-PYDo-6l0Koeo7n_847noTY8UuC6ZuFs8p06KFfPqiyjmvzAUzU07LH9uA9Uax3G_Eqwn0m_Drvm4M0AyC0Ks8UgJpLZupetePTtxr9VIiEfug==&p=2&sk=&fvj=1\n",
      "https://au.indeed.com/rc/clk?jk=4db2c2e7f4cf7060&fccid=9544fabf7bdbf160\n",
      "https://au.indeed.com/pagead/clk?mo=r&ad=-6NYlbfkN0AZLQvL0eTbPFT73Wkr_fTZ6lAUxbA2JeVsEs5B33cdgms0xSE7SUh7ufOBM5QvjQRjaalDaJSBCCbRy5crR8M5Qx2qAc9AeUUNCb8m9bvdWHguhBUkUMDXSxku3F_MQE5KlTAwnlEkFAm7NumssKHnfuR3FdDpxdCSY45BYETQVi4BIp-vI0sQ6w3_o-6y1UZ-kdf7KQBHwAzqASsf87_GXOQddiSaIfso2B8D6Sg8XLrAd3ujhNhRTrwViuTBMrhnEQtR5N1KjYVSQD-N8jnThqwt-PDMMfcvI6YMRzjoB0-qX-RzOtiC5UhinYgFojKA5y-Hxrcq0NGdSV9aD47z9wIE5Ec5CQgYETDJdvRLpSZb4RQXcSp-rqyM2AEPqz6er-WnPeQxRAThTifRnot3ZxqVUqzUOY7LJ0oWtiJMRA==&p=3&sk=&fvj=1\n",
      "https://au.indeed.com/rc/clk?jk=0b49e37c2563dc3d&fccid=fff2d2ed103acb8c\n",
      "https://au.indeed.com/rc/clk?jk=a662658ac3ee23f9&fccid=0d3a3c9e16872169\n",
      "https://au.indeed.com/rc/clk?jk=af1df20182f51488&fccid=0d3a3c9e16872169\n",
      "https://au.indeed.com/rc/clk?jk=ba901c3eb2baee7c&fccid=085760c105545d7c\n",
      "https://au.indeed.com/rc/clk?jk=fd4a4e57d3d3e48d&fccid=a7700731b3d1495c\n",
      "https://au.indeed.com/pagead/clk?mo=r&ad=-6NYlbfkN0AZLQvL0eTbPFT73Wkr_fTZ6lAUxbA2JeVsEs5B33cdgms0xSE7SUh7ufOBM5QvjQRjaalDaJSBCCbRy5crR8M5Qx2qAc9AeUUNCb8m9bvdWHguhBUkUMDXSxku3F_MQE5KlTAwnlEkFAm7NumssKHnfuR3FdDpxdC2tfUd7eILwahIz8i-EqgaRw53O-ljB8hvJoviURGN81L4FVu9SuU2ZbrVAuAjzhAPU5AaNXR0v35AUJwL3p0skqw3qQ9rVMLacIuw-iq58b-oWBMsDqPhOBmMQPi3aSO-7Wng62Nb962pX2XyHkh5VPibCbmUUn43GZVE2UUB-4EDoZgFyGIDA7OBGVzoXAl1fMtEkNowjQ_DaMzUHiNXyWH6ahN_SpiDdH-opqixMc6hdSOZZmEICgb-RYUVM57Pm-tBcRY25Q==&p=3&sk=&fvj=1\n",
      "https://au.indeed.com/pagead/clk?mo=r&ad=-6NYlbfkN0AZLQvL0eTbPFT73Wkr_fTZ6lAUxbA2JeVsEs5B33cdgms0xSE7SUh7ufOBM5QvjQRjaalDaJSBCCbRy5crR8M5Qx2qAc9AeUUNCb8m9bvdWHguhBUkUMDXSxku3F_MQE5KlTAwnlEkFAm7NumssKHnfuR3FdDpxdAiB9TdRGV6MAPm-N-P97dFkOXOE-d9RN4lHA36MVz-OWdMBoiGNVU1kCz_dfv8U2RDQokf4PrAO6XmKtS_MbFzvPFv-HOSiT-EnJtwonGjntcdl9cA9ujvHKmmF6foVe3KhOVYPTdnfAvTuI4SEvqOWIBJ1nQkMJ5OCzsWc-rtj_xKbuUTqfSZhaUkcOX4tEcS_rfdbcwQBEf3RCm4IATug48P06IMRGlN93ufjpWmkK4Qqf4GChVNCySXqhdjBMp_UrXnSkyr1g==&p=1&sk=&fvj=1\n",
      "https://au.indeed.com/rc/clk?jk=375342937ab61695&fccid=0d3a3c9e16872169\n",
      "https://au.indeed.com/rc/clk?jk=1c955f310a0ae2bf&fccid=9544fabf7bdbf160\n",
      "https://au.indeed.com/rc/clk?jk=00bd8592a546be63&fccid=0d3a3c9e16872169\n",
      "https://au.indeed.com/rc/clk?jk=83893591c43d6bc9&fccid=0d3a3c9e16872169\n",
      "https://au.indeed.com/pagead/clk?mo=r&ad=-6NYlbfkN0AZLQvL0eTbPFT73Wkr_fTZ6lAUxbA2JeVsEs5B33cdgms0xSE7SUh7ufOBM5QvjQRjaalDaJSBCCbRy5crR8M5Qx2qAc9AeUUNCb8m9bvdWHguhBUkUMDXSxku3F_MQE5KlTAwnlEkFAm7NumssKHnfuR3FdDpxdANZK5lRhCRh0ZDAWknH6YvyW7tj5x5TwWpyx62Tulw8xgyAZP4m_fu6auVcIouK8_-a8xzD1RNtZ98i8uzRFKx9iMRjBA0NccA9MpW39hmhc4VmSybKLEN-Zsfs0n9bIKihpREsNjNSOgueiG3O3W8W5Uo6Y5y1aqkjvSR1iXZypyU9EKCmzPGcAWxn2FX9_w6xdX-D2sf5jgEpLHhEUqm8N4w-ymOQT48-aDUBh7IZaaJVn5gIYYIRUDRALrf0xe2yLgqOGtYJA==&p=3&sk=&fvj=1\n",
      "https://au.indeed.com/pagead/clk?mo=r&ad=-6NYlbfkN0AZLQvL0eTbPFT73Wkr_fTZ6lAUxbA2JeVsEs5B33cdgms0xSE7SUh7ufOBM5QvjQRjaalDaJSBCCbRy5crR8M5Qx2qAc9AeUUNCb8m9bvdWHguhBUkUMDXSxku3F_MQE5KlTAwnlEkFAm7NumssKHnfuR3FdDpxdASsPOwKO1g_j03bTL0zEyEHVXp9g3QmHnP7_eSA7UkuFhuBJvqB6FZ3XmDyOLGfiHHr9zpmJRsxKw_a_yqoqtWZp2FUG_z7_18MCdV7z3FrtoLGzJ2lLwekJLYpvZ2685vIxEAVPF1WsnQV5nyMPHAYJ1N-w9WQh1jD4gRkWcePw_cte-UA7ZIXwdoTbi6hnopo9zCnaLkGgzpl-ByzQqoSitnUH2RnNj40WQpw54TkA21mzBBB3vZgAJjXTYOLOiedpvJyf6cdg==&p=3&sk=&fvj=1\n",
      "https://au.indeed.com/pagead/clk?mo=r&ad=-6NYlbfkN0AZLQvL0eTbPFT73Wkr_fTZ6lAUxbA2JeVsEs5B33cdgms0xSE7SUh7ufOBM5QvjQRjaalDaJSBCCbRy5crR8M5Qx2qAc9AeUUNCb8m9bvdWHguhBUkUMDXSxku3F_MQE5KlTAwnlEkFAm7NumssKHnfuR3FdDpxdCjVWeofAGpbDCBwdeAGkqiLTsr1yvrmjmYPLcaCHUTbWBthn3ks6jQN11-7cCH-HmiVVw_O8vYrgjXaR9_T9qQnIi_emwKtJ3Iwr76ux5XmElshHOn2eWyW8H7Ag1kYsSDeWY2k47h164kNRY5fy7Xi08aPZf7HqxBPiH2n3RNWoXKyXZDM_EQlDpS4928cPe-k1d8dLssfAbK2TUmN8KH7jhyS30KmT9UoQWdcfqmGKpXM1ZjCuMns3WGeV2DuLvIIgbVXiPGBg==&p=1&sk=&fvj=1\n",
      "https://au.indeed.com/rc/clk?jk=c8666e0caf3702c7&fccid=0d3a3c9e16872169\n",
      "https://au.indeed.com/pagead/clk?mo=r&ad=-6NYlbfkN0AZLQvL0eTbPFT73Wkr_fTZ6lAUxbA2JeVsEs5B33cdgms0xSE7SUh7ufOBM5QvjQRjaalDaJSBCCbRy5crR8M5Qx2qAc9AeUUNCb8m9bvdWHguhBUkUMDXSxku3F_MQE5KlTAwnlEkFAm7NumssKHnfuR3FdDpxdDIQk4dyum1sLJdRhGCaqXsNwPHX5Q3uM5TmOTNesSkLdWpt0dw6YmNNVEl-4M5lXz2YMkV8hixnwUZuLId1E7fusQB9zFtIl52ptYf-5akfOZa4CHIMI12-SjtyvpcDklz34ABHcCqNJr3Uzn1nEgACqwgXPUnQzPL8BmJpKd1cscvWKlh7aShBEqPyTGUAQePmxn1eb3H6ZzC7sa9PWScq1d5MB1VJVkEkPaAvhDKWzVL9l9JBG3BHvvuDK4cBeovEl2lS2rLIg==&p=2&sk=&fvj=1\n",
      "https://au.indeed.com/pagead/clk?mo=r&ad=-6NYlbfkN0AZLQvL0eTbPFT73Wkr_fTZ6lAUxbA2JeVsEs5B33cdgms0xSE7SUh7ufOBM5QvjQRjaalDaJSBCCbRy5crR8M5Qx2qAc9AeUUNCb8m9bvdWHguhBUkUMDXSxku3F_MQE5KlTAwnlEkFAm7NumssKHnfuR3FdDpxdDvxNFi5APrShBJmkQ71giGC_wtFVCs9e8ToX44N_5IYs-OHyDokrj8sBrK5GsYEzqNkqp_RyT5q1jcZn2mmhxmjk0atEfmRxDF2I47QYlntIp48-DoQpFEUSx-OxQSZM-u3AZ6B7xnUbmb8z4WFt9YII3pD2_Cb697EdqvwtZB5XFz2WAiDKzr0bhOXy5EcHMGId2zbscKc-u-4yz-MrvmmouD_30MHV5k6K09rK0dkjqSttuzdtKP8c_ax0DOCs67_07pBt0nTQ==&p=2&sk=&fvj=1\n",
      "https://au.indeed.com/pagead/clk?mo=r&ad=-6NYlbfkN0AZLQvL0eTbPFT73Wkr_fTZ6lAUxbA2JeVsEs5B33cdgms0xSE7SUh7ufOBM5QvjQRjaalDaJSBCCbRy5crR8M5Qx2qAc9AeUUNCb8m9bvdWHguhBUkUMDXSxku3F_MQE5KlTAwnlEkFAm7NumssKHnfuR3FdDpxdDFvBpmW54HBS9rVJwRsG5nVPdeSR45bamIq_SiXTCjbZ2LA9_T0VhIgRoOgV3zwIzuNxGqXObWEnJyBikY_MdD1vMwFH3gRB0Yw-E7krE9ddFOf4RsKdJtmwuMkeYiF_RKOl_McLdl_aor0FQCUgkH_47A1bpszYcbqJOC7LJeRE9bKRnKbKyOd2FBXDdCWYzBDacXFeuaOc3K7CBSZpa98vE5RImu7_g_KyY0M4CuE3BF7r2LVZLZ0xikI9-YT7RBJzZg1gFB5A==&p=2&sk=&fvj=1\n",
      "https://au.indeed.com/pagead/clk?mo=r&ad=-6NYlbfkN0AZLQvL0eTbPFT73Wkr_fTZ6lAUxbA2JeVsEs5B33cdgms0xSE7SUh7ufOBM5QvjQRjaalDaJSBCCbRy5crR8M5Qx2qAc9AeUUNCb8m9bvdWHguhBUkUMDXSxku3F_MQE5KlTAwnlEkFAm7NumssKHnfuR3FdDpxdBt3E8gvv1GTrnN1rp6ZMvAxpRx43jOTaVRRe1mZ4Ny4GyteE8zz5790g1YUmn16gUureAHIpLOi3uDlOXrQeeeQfyXEHuuRLcu65aWNTG83-x6C0cGfdZV1T4DW29r7coMFaImLnM8a80ymmdC-gDQ9GDDtZjAL58-ANCB8oEqWy2jAL89HNKGhgbjAgwfcx6zGQVcGeBMFGUQ4nX_WZ6mXCllFT-RV0nlZMzjKKK2DT6WOddofappNPNvKau_QTIEN3Zsht0wuw==&p=2&sk=&fvj=1\n"
     ]
    },
    {
     "name": "stdout",
     "output_type": "stream",
     "text": [
      "https://au.indeed.com/pagead/clk?mo=r&ad=-6NYlbfkN0AZLQvL0eTbPFT73Wkr_fTZ6lAUxbA2JeVsEs5B33cdgms0xSE7SUh7ufOBM5QvjQRjaalDaJSBCCbRy5crR8M5Qx2qAc9AeUUNCb8m9bvdWHguhBUkUMDXSxku3F_MQE5KlTAwnlEkFAm7NumssKHnfuR3FdDpxdDSNb-WDlBlwx20duqYV_-azLZbM-lGOUrvpWlj3m0eGYWZAw-WEz8oEPkfkNRsu_hWEMTSAHbMHYe0KACbz57Q3fjvVSgRtPdmwynxutj3y0dSIdxP8x3OFFDs7vS3gHYJSe6yHiACBpgjwI_8jbo4sB6n-575kBvogcKD9_Re-7h9VKYDqF904j1LzaTBHi8iYr8kpQ1OHgRSTCtyqq0EZCJd33RiU1zKjzEe68rE1g9xkJyEKFn4qy9kzvq0hRNskEA7el0d3Q==&p=2&sk=&fvj=1\n",
      "https://au.indeed.com/pagead/clk?mo=r&ad=-6NYlbfkN0AZLQvL0eTbPFT73Wkr_fTZ6lAUxbA2JeVsEs5B33cdgms0xSE7SUh7ufOBM5QvjQRjaalDaJSBCCbRy5crR8M5Qx2qAc9AeUUNCb8m9bvdWHguhBUkUMDXSxku3F_MQE5KlTAwnlEkFAm7NumssKHnfuR3FdDpxdCUGYOpWpiYelKuTnkz-oqLeuRz_HrNKhVlYsK8mQbghqvyeBeKfI8Sbb6xUg2t6NXDNyUwhk5QxD2AuIqPerWAESZw0fKybxTfos_MDsRMZ3WOwFde8Zz-D-F0jY0zrNMfmB48VissiAj5UdoLwhiicRELU03JwAQQLCwdGSfD3MOG_X8IbWA__7PBJVLVcomvtpbum8rFnX_Z-yvMoa2Q9Vt5jsDl_0EElPhFJ_nS5LqzeWjX_OxGiZz9iH2xkcnJzs7JGB8FEw==&p=2&sk=&fvj=1\n",
      "https://au.indeed.com/pagead/clk?mo=r&ad=-6NYlbfkN0AZLQvL0eTbPFT73Wkr_fTZ6lAUxbA2JeVsEs5B33cdgms0xSE7SUh7ufOBM5QvjQRjaalDaJSBCCbRy5crR8M5Qx2qAc9AeUUNCb8m9bvdWHguhBUkUMDXSxku3F_MQE5KlTAwnlEkFAm7NumssKHnfuR3FdDpxdDNqALbhX9nG4MTUMkAXQuC4ZD8DZUH6SBonwIeDH-cAp9F1L-AQmR71kbzGIGn_lKIeORdF5a-Jinfrz3aQr8bj8dOkpDu1HSVsIjv2YsMz-MJ72NG9ZmKtdILfPUDuRYyD0FRp7b1D0pXqoYRyr70vPWJaCMCaWS90RNeLM8rcZ7ivCK7dtrgRXZ0pcnAj0YN71ODxx6XKBQEmLt4Hsf5GF28jL9zMKdODtH8c4M__-o23rHRhR9fE8-WBm3TG7UF6sK3IPUr8Q==&p=2&sk=&fvj=1\n",
      "https://au.indeed.com/pagead/clk?mo=r&ad=-6NYlbfkN0AZLQvL0eTbPFT73Wkr_fTZ6lAUxbA2JeVsEs5B33cdgms0xSE7SUh7ufOBM5QvjQRjaalDaJSBCCbRy5crR8M5Qx2qAc9AeUUNCb8m9bvdWHguhBUkUMDXSxku3F_MQE5KlTAwnlEkFAm7NumssKHnfuR3FdDpxdCIH08Y1Que_-cNYDNd2k-We-FH6uLVBJoaTYQ9IkP4s31ypj8QgNBB1BZGa3higGAnOCYZf0YbZ5MQdbKW-h2bZFND_h3o1rB_Sexyuo8tBishwScREE8iXl-HVshC8bTYWDM0CBkKDfoU6-AqMglgFPP5L3Em6o8_aN0-QolMT7uHg7-qQMoU3vJbky6-Zeh4dWU7lQG95V63mC6eCytbhlL5tRSTpgT5CeqpNycVsB_gZdKB9FjE-dZ0akMMUasqWrkd_TfnWQ==&p=3&sk=&fvj=1\n",
      "https://au.indeed.com/pagead/clk?mo=r&ad=-6NYlbfkN0AZLQvL0eTbPFT73Wkr_fTZ6lAUxbA2JeVsEs5B33cdgms0xSE7SUh7ufOBM5QvjQRjaalDaJSBCCbRy5crR8M5Qx2qAc9AeUUNCb8m9bvdWHguhBUkUMDXSxku3F_MQE5KlTAwnlEkFAm7NumssKHnfuR3FdDpxdBOVvzW-RwutXwCyPRWRpYoQPj9xN8W64K1mMN1A76cgbhwsMgIM-qSBsNW56HVqHT1gJwCuT4bwTyYzuObjDdQdHhhc_Qd4M-KOjrvYBVk_QQ6eMem1WmMRZOrXvYZ1W9dRV57T--1SrUACLLxwCbF38x-SCZTfVpr6eIX_i1DzRzCh51jexz1RG4JBIimFc6DDQDQOQtt5a6v4DYDF-FFcA4MNByhYoBvYM5QNXOom7LR36bgo6ECNNqTFpZm_b_hpc6XfQN0xg==&p=1&sk=&fvj=1\n",
      "https://au.indeed.com/pagead/clk?mo=r&ad=-6NYlbfkN0AZLQvL0eTbPFT73Wkr_fTZ6lAUxbA2JeVsEs5B33cdgms0xSE7SUh7ufOBM5QvjQRjaalDaJSBCCbRy5crR8M5Qx2qAc9AeUUNCb8m9bvdWHguhBUkUMDXSxku3F_MQE5KlTAwnlEkFAm7NumssKHnfuR3FdDpxdCH1qXQd0FjGKOf6KKxyPCcpMEBdjvHMhOfs4uBm61XW5YA6HGEFHno3CPTIw1NRZZX7ueBZlOwIFeNaPpbohbCfRNsiMJINnit-DimNVYF3qn02Q_98DJiz696bxAy-MrvSFZp0hS99_s_V-IA2ZLQweCWLqDnbT3WhoSio94geKO6DqHRHifRVSYfWUKXM1yDgO4jpc2LBx8QqJNcvxlaf6LppNpZfwbf1ZV2mhtY3Cro6wfniWx2BEKaKK5Y0cpyBBB28d1-DQ==&p=1&sk=&fvj=1\n",
      "https://au.indeed.com/pagead/clk?mo=r&ad=-6NYlbfkN0AZLQvL0eTbPFT73Wkr_fTZ6lAUxbA2JeVsEs5B33cdgms0xSE7SUh7ufOBM5QvjQRjaalDaJSBCCbRy5crR8M5Qx2qAc9AeUUNCb8m9bvdWHguhBUkUMDXSxku3F_MQE5KlTAwnlEkFAm7NumssKHnfuR3FdDpxdBunXkUm2cJ5Uw2jfcadv6MU9P2aaZoY4AmSFTMnSVOZAaeBvgrSSbw8SN88_RGmWrd6-FX7mLEmfJ4qGkfCkZLzfpEEBfWvUsURQcTvD7NW1ejxyfro4ev8-_fTYw69Yy4A9vzhLe9dKg7eh_ibSJQuXPdTZcpqjOFlBhgNeQYjNlUfUnBAxVKKW8qiqkWdwdE0cK7Ax3efPcovgYWvqZWzWnpIA1-_wjQH4Vh3j_6e8a4DF8tGm0OM2Po9kaUq133DJYypJagxw==&p=2&sk=&fvj=1\n",
      "https://au.indeed.com/pagead/clk?mo=r&ad=-6NYlbfkN0AZLQvL0eTbPFT73Wkr_fTZ6lAUxbA2JeVsEs5B33cdgms0xSE7SUh7ufOBM5QvjQRjaalDaJSBCCbRy5crR8M5Qx2qAc9AeUUNCb8m9bvdWHguhBUkUMDXSxku3F_MQE5KlTAwnlEkFAm7NumssKHnfuR3FdDpxdB-PlzwWDVutBjAMD7NKjQix8WFBSJL0dj1zTz2dBRPbd7ZmKhD9d0uOlMqbNn6UVsFfpUhuMLSEjdhSezkezhdzpMXyZ79y56-0fiR_jll9V6PRB3wpT3rBJJpcIGakgILHnDN1xaATv23aqH7FNgOlkaFT6jsN71IVqzR0Z5PG-ANABn92YKpWY1UfLaLY5lYB8uHUc2sZiJZukrQefV4BbutICakk1qgK6VIA2-ZaBnmwEjrnBXKDsngkU5oybg2kNRrgXgGmQ==&p=4&sk=&fvj=1\n",
      "https://au.indeed.com/pagead/clk?mo=r&ad=-6NYlbfkN0BBhZYZZ7bY_Q2-fWzXB8nQYCzWpr80zNz3fSsAHgtb9kSWSTCEDVtJC46uuzZ5ixTjDGxB2VpVenB8F7nctnF1WXIB4omisiIT-AU6HKGdIDBGlq9iThKk-k-YzMDAqmif9OS5M7JYLkOMc_GmCUCdBx7EQXFPAv0QyfylMj3i4nW6_rXaSfTSBalr8c3oRXur52SmQU1_EGPFYCcltueISBwpT-ilyJ3avo9lldIncTGwK0v6uHwLXPKX61UAqGLTfNUIzDWLhfnkEOI1GJDeh2FzYZJdmR_FXtQQrQs52HzF1VghKq69syU6U8PqJk3zBlJDQ1U5plpedLhkze-Mp-MjCFgpvmspcN78SwxdR-rxnwW3On1wMSfDPENxU7H5ds8KQY54cBbZQuGRN-RACTGkH3onGHND6PRC6GQ5hPF1Qud5f55raDEME3E6zMgb44uM7Ai3fRPq8C7ZiM44SqyiFf2ebcpw4sn_ZFf6Rc_U-epuiXHWSnpHdnq1MWF_UEt32qAWWye7HVmkQEw6qTm8y0AO4VuPrfOanPR6XFfqd7IzFZiyzLsdJ66ok4qKkoKYffpMjA==&p=3&sk=&fvj=0\n",
      "https://au.indeed.com/company/Spriggy/jobs/Senior-Python-Developer-2e557b9b67a7e61b?fccid=57dd78434512d50d\n",
      "https://au.indeed.com/rc/clk?jk=72121770e6bb6b84&fccid=c70fbb69945c84e0\n",
      "https://au.indeed.com/pagead/clk?mo=r&ad=-6NYlbfkN0BBhZYZZ7bY_Q2-fWzXB8nQYCzWpr80zNz3fSsAHgtb9kSWSTCEDVtJC46uuzZ5ixTjDGxB2VpVenB8F7nctnF1WXIB4omisiIT-AU6HKGdIDBGlq9iThKk-k-YzMDAqmif9OS5M7JYLpFH3pLMFjlUjINtaRFMYpnhB1s0vsV2KWJtvcmKUU2qwAZeToapEEAIuP8U1qt3hF47oLlITe2JPyRsjK0lKE_GlHILdySPJZSS4GhgtkrZXPc9B4YGoz6IU35uKuOyx7xWyvyN3T71NTpEAeRp7bUyWjcdYfbQP5GgnSU2OeXLEJ6uOWkdKSqpUWhS81fOP7lUloD-n0B9xMMEV315XnV5uZau9uhBpqkXy8pPKnktRWzy7FJQjf1FQtyCR8whCpuZ0W8b0rO371i5Z93cF9ZACSM5WSVVMKxvs28IYilb6FJn3W-un_P43c0m-Zk40qdoO80jAYSUvN205Owu_pGaWL_dqTYEUVNZDC97GIafr-7gZP3H1MJ9DugYn9HMRm37xaKjtp5BQrPh4V3oQa-gzl8JEBtn2we2YUO0Prmu88CD7gw8HdRKamzEL3vqZQ==&p=4&sk=&fvj=0\n",
      "https://au.indeed.com/pagead/clk?mo=r&ad=-6NYlbfkN0BBhZYZZ7bY_Q2-fWzXB8nQYCzWpr80zNz3fSsAHgtb9kSWSTCEDVtJC46uuzZ5ixTjDGxB2VpVenB8F7nctnF1WXIB4omisiIT-AU6HKGdIDBGlq9iThKk-k-YzMDAqmif9OS5M7JYLupgID8Fs5zQM8OIN0gsfoYPuJXuHgYNQdqBgF4yatqQmygZPnSu55PW-6Q6X8GTw9IUIs0MxIxZ4ep20d8zVf1bNYoMNhhAqXV2UwG7J7StnSmKBM48jR9TBw6dW9vDRtxFGCZ8XkwGhEQRJg4KEUvpahas3WSRL9o-yyJ9uvWgJg7NnOi066kZLFyUrRJIZWebVe95pIBYmVP7ZcN4ZS2zgzLSKeoDVoBiaIIJ77euhPpgZ0T3LF1uY-YTkIz77aHSHkZDmpWJA2VNOYPuad9VSH6Y-hiwNfl7kUUzNzQ8-Hi1WKP011iKx2ujds3Lzc0ms9ysYXPtGuQDa6jE31WOOX2tVLUxToFKbhx_cSYzBf_rmZt5GqvasWMIjYN0frRd717LwJkws0DCotn3bIXCfHMmtiBit0mcesmVENhtb2Cc7JkbBhiZdDGHwnK_nA==&p=3&sk=&fvj=0\n",
      "https://au.indeed.com/pagead/clk?mo=r&ad=-6NYlbfkN0BBhZYZZ7bY_Q2-fWzXB8nQYCzWpr80zNz3fSsAHgtb9kSWSTCEDVtJC46uuzZ5ixTjDGxB2VpVenB8F7nctnF1WXIB4omisiIT-AU6HKGdIDBGlq9iThKk-k-YzMDAqmif9OS5M7JYLi84xHhMKsmqHTjdCo5v2XMv9Uog3aC0O0FxnmHTJ3toeMP6wRfKTTbNUoVV-PXmz_rdiIwpzMKEklycP3WyneGhb3GOmXP8sPUPoIfZ4OOFYgYoRIyHx0PbFMZsQTyMJeU8HT_xuw52-SYbVgBepF3AfaAmCEmv3fuwa7zvV0D8WlNiHnOsptSFPKeHFK8kgoQIVYsM28_caOhYq0BQh0PKkgx-zGQmLV0K96ufbKsyYSqtZ5nuSs76t8MfQt9Q49VUWk-wM9f7CPtCK30rQCp-OVSOPwgck4XWCFZ9r40nTEPCL2HG1-Fy4mbo-KOwuU4dnC5oQTGEHV4sA9yMh4EPA_EhOO3Yg6NpmSGlRwKVfuPVY6PI5sGdonjFIomrme4a5n7G3LccGIMk1Lw72nXvmvOAJIbmqPfA4x1PEhMKThJa8SN6U1rZGrrqUiselQ==&p=3&sk=&fvj=0\n",
      "https://au.indeed.com/rc/clk?jk=c262f98774bc5269&fccid=734e88fca63788fc\n",
      "https://au.indeed.com/pagead/clk?mo=r&ad=-6NYlbfkN0BBhZYZZ7bY_Q2-fWzXB8nQYCzWpr80zNz3fSsAHgtb9kSWSTCEDVtJC46uuzZ5ixTjDGxB2VpVenB8F7nctnF1WXIB4omisiIT-AU6HKGdIDBGlq9iThKk-k-YzMDAqmif9OS5M7JYLjahuOeflL6KyWvO_0L5c61uR0Jww6ZTEgcUgVyQcTX1uYFo8SRuK3ym-HWVJdTDsoOdlRFWp1iS3AYqW127HooMd2esZ1TQ8rYCeuFjjN8vk3UOGnv1nIWUNC36kEd35-EqgbHFQlgCpJwqHllmreVx6MYwNmDnqCVR9dR_xHFKnw9hTlmeaitMXuqg4lXO9LvezvH5i6KwsncwYRPY8ECd1AoaOUOse922tbnQqpWDGhj-grZiPljABBsUhWRcnSyFWHbvz4WXErHIjOEfJ2piO0YdbEvIUnEQ1C6ZhFgqOcW7Q5cS4KRQYZKhcMIZw2jWXIB7CQDr-dZBnOnRn6rKpHWnvlV8XzvudgEYakTM5vRuRHKoz7ZoGcRpfmB2aBGk1CCbzU9S5-mR761uV8UlnELlUlKv__evm9nZwGcKJcvktGXVr6vTDWTNRrY5Lw==&p=3&sk=&fvj=0\n",
      "https://au.indeed.com/rc/clk?jk=149bbf2e195c78c4&fccid=c70fbb69945c84e0\n",
      "https://au.indeed.com/company/Medius-Health/jobs/Software-Engineer-26b28aa393c3a1a1?fccid=af556f994a25b908\n",
      "https://au.indeed.com/pagead/clk?mo=r&ad=-6NYlbfkN0BBhZYZZ7bY_Q2-fWzXB8nQYCzWpr80zNz3fSsAHgtb9kSWSTCEDVtJC46uuzZ5ixTjDGxB2VpVenB8F7nctnF1WXIB4omisiIT-AU6HKGdIDBGlq9iThKk-k-YzMDAqmif9OS5M7JYLsTiBOm6mTE5GbyZ_J40ulr99oNfsoRFTY-qgfSRO4czXsgcmRNZaYvROXzDlYmHIOdkk7nKgswAV1k_7hd-_pTYhXTKdvba6bW3w_C6kyxtlRcRZnP88FitD793j0msvhp3h2IZhKTaO01IQ6IaYzOmwW2m4wbwG5MWbBZi72N2HbDMwUcb_tdPWJlTh70rPv66LqumxYOiL9lJbd1Bfq1_wYo2Ypg4gfJiiffE_CuoUZHmmAi8yIlI_8B54I9ybQKQjZAMyOTC6bv3ZhJtSpK8HOcb7p8L3JRrd6ogqCOBkA8IKBtGQMDc4lYnh6-o206cYAMDnXcRrYUS5coCFmdjPIhB9_4_DisEY6fmjQNtfGgTkWDieXXsvnv4a8dJ8dscqhv-nNMtIMvogbp2EoSRRHh83mt2VLBPhYQFFFPOlSm36j56D5G-RlUBomeHZQ==&p=5&sk=&fvj=0\n"
     ]
    },
    {
     "name": "stdout",
     "output_type": "stream",
     "text": [
      "https://au.indeed.com/company/Globalmind-Technologies/jobs/Senior-Java-Developer-2bb8912afa8a8395?fccid=cc3c401d4f84352b\n",
      "https://au.indeed.com/rc/clk?jk=69b7ef9b0946f9b6&fccid=f6e6c4d709d8e570\n",
      "https://au.indeed.com/pagead/clk?mo=r&ad=-6NYlbfkN0BBhZYZZ7bY_Q2-fWzXB8nQYCzWpr80zNz3fSsAHgtb9kSWSTCEDVtJC46uuzZ5ixTjDGxB2VpVenB8F7nctnF1WXIB4omisiIT-AU6HKGdIDBGlq9iThKk-k-YzMDAqmif9OS5M7JYLnvHWytcvkBSdhEs6Ol-JfPHj1AmpHf49YFb8yX__pVhnnGqoeJl79DBgB-VahzTsuLnp3jL77aMeahRSymiz1jn4U3PAH9zhuZw-jcfdai1E4JAmowvn3awNIoLzIDeCSAZyi1hr4xX_o6pM1yGKvJGpPXefpyFpza8REUn64FXJUsoM0QLGdmEDk8pnmxne_aPa1qQLbQ6_pif0ot-jgFIPhTRvKLVJux_TuKJCu2ebygDjYcRr5Z-5uaxsuOp7YRaquRllwPY6EzmmAaDk0k38ofq1W8M5fQ27yDLDgVnXuhs6yWBRltJbVU7Yo_7JyC81xiNM9hq2PrRCUnym126p_Xp1Ws3UGFO44qJaMMLz5pkWrenJLg3W6BUTmwiHpAwhOrn2iZzoZzpeC2973Ulm4bghhtffus6VWoz5T7yBy7ru9-nH5jsecZT1O5fMQ==&p=4&sk=&fvj=0\n",
      "https://au.indeed.com/rc/clk?jk=7724bf6919938eb9&fccid=f5ea592e52f5385b\n",
      "https://au.indeed.com/pagead/clk?mo=r&ad=-6NYlbfkN0BBhZYZZ7bY_Q2-fWzXB8nQYCzWpr80zNz3fSsAHgtb9kSWSTCEDVtJC46uuzZ5ixTjDGxB2VpVenB8F7nctnF1WXIB4omisiIT-AU6HKGdIDBGlq9iThKk-k-YzMDAqmif9OS5M7JYLgdLbM7V9ykeXLtde6l1dhvrgVaXNUVujAfH-Y5IfoZdwemhwb9Y93Yeo3DVF68jRXuT81E8nmv5Fu9lF-qRPF1aAXFK9perZFYmUWqMZ_Y2WE-89nEbDb231rOwCA-RkNzrKhjGIO2DXIc3ppS_GSAML8A-6MMO8uMo4XUFc0E56S2r2aVdvH_yXgwYHEuClsgUCnAvfx5qYJkZlGFC_2hy8v_gIKTRPkwoesxWiyVo-saDqP4ULY4mp_dPP7WmWmYZEvtbJOJZSktn8BBbA4LWuOmNs0ZcAYi1NVVURNOG_w87ANl15qhFvoF5AKz7h5Ex5cPddPHJg4Yg1Mv-8xmfXFAFERoK2O8y_iegr-CMPxuzrdelObyc-MqKTOxY21ebfyZi4xm7Y4kBGLcz1Ty1ASMXPUiGSfZeKxI1mCYKflnXkgf2W3UHXnFxgh7Buw==&p=6&sk=&fvj=0\n",
      "https://au.indeed.com/pagead/clk?mo=r&ad=-6NYlbfkN0BBhZYZZ7bY_Q2-fWzXB8nQYCzWpr80zNz3fSsAHgtb9kSWSTCEDVtJC46uuzZ5ixTjDGxB2VpVenB8F7nctnF1WXIB4omisiIT-AU6HKGdIDBGlq9iThKk-k-YzMDAqmif9OS5M7JYLunjiae77HhuAwK42xZMXcqlYzL8t4BCaL-n54G1NZWeliPy0TB1nOvxB5tH6SKd6lupEmWS8aWLTsx43Aj9WhqlvNwagjmRxUnVmLpVtoIWazbycFo12iEGpZVz3iqHMfXydeLawocxpOyWpI0-uHsps0QUC8vcVj64WnFlKuKpIAywHelsGtZX-1OZbOk0ROExoS0ZLxhrm86aCFfrLoruZCMxy15M1FFYL04llEszfMDWJgLqyYhM0HA2rBxrZvXYF_lxgFgNVlSz0W8dDRpAhggqXntJoeEdH7i8n3lctYgxoPSxMHJh4aCusLre81AiIiJZ_5K3sOsOScQQJQNAFBxnh0ZuPmBoRu_ONrthYlVqaai3_46ZmbZsqtboa9l-fsUU3dYQ2dSAYzJclFvv5rsPhwQkufAasWsXZGlqmOuhkqmXDVUqf2NslCAL4A==&p=5&sk=&fvj=0\n",
      "https://au.indeed.com/pagead/clk?mo=r&ad=-6NYlbfkN0BBhZYZZ7bY_Q2-fWzXB8nQYCzWpr80zNz3fSsAHgtb9kSWSTCEDVtJC46uuzZ5ixTjDGxB2VpVenB8F7nctnF1WXIB4omisiIT-AU6HKGdIDBGlq9iThKk-k-YzMDAqmif9OS5M7JYLh5_tiCnpG28eVIZosUYTG1wK5ncvsJwqzG64YWNX9mfJl29QaQ1i7VCgexhfDy9prQHzVHVMdbGBr42FbKBqJ2bldSBsDKStLgg2HOA1zqylvOZ6Xx72Uy_Lddc9jYoRudyYmWj2ocfngQgrADyJ62cgW8P0_31LwNVLyqnEsCocURKa88UpwVfe3O1nMfAn6wAC4LBQsflRbuisb0Ti1t-7ubRZyODQhWzFdK1a0Z6rpj0-3BFR-nDw9vgxSTDph4LKbNAjqqKJqvyQgf_gwGzsKva7VAHDzA104LPWsnerP1gg6plu51exD0F5HZwkvajRX3mJW5UAU-7_2po9UoXyMLGpeqKgrHPRxJKFwbTydcLvAzr2_hO6gU5PP9-SXQiDX-NoZHuWK1JldJwWrdcXoTP5hG6jyBxmi-kNZ9t_jfbjEbwvjENYd-7pm310A==&p=3&sk=&fvj=0\n",
      "https://au.indeed.com/rc/clk?jk=7b27ab4ee3c766d9&fccid=cecc042b0fc4b8b9\n",
      "https://au.indeed.com/rc/clk?jk=6c55722e0044723e&fccid=c70fbb69945c84e0\n",
      "https://au.indeed.com/pagead/clk?mo=r&ad=-6NYlbfkN0BBhZYZZ7bY_Q2-fWzXB8nQYCzWpr80zNz3fSsAHgtb9kSWSTCEDVtJC46uuzZ5ixTjDGxB2VpVenB8F7nctnF1WXIB4omisiIT-AU6HKGdIDBGlq9iThKk-k-YzMDAqmif9OS5M7JYLjuLPaHceO1ri6RNo0TyzFirNG1FBjKCSdbWy2Om5WG8C1vrLbvJWZdZfu5QeKlc7U4rjVtcQD2fTnfskJLNi2n4k_I4vTwoQ2k9wH3rPWPJfldc_edZpUIubNDAG708TwSyAv3P7amMpmsChiIEXuRRI7Fyq-BBqpxgf4sDbajWmyaAy-ea4ppXEu03IqTGb1HRuQIN-wV9MtYnQ5_x7x4Rx7RHxkZ2GlVsiXNOu-Tz-kNZIO0j4Achsp_iCczRAxNpp7xfZMtp9ISgQ8Aib_xILfO4ITberELNgtP-COAQ7ZD1_lLXDoZqJdETzh8R3XpKI9qMAKRsvdW4Opn4izJVnEiQ3gKcN38Ir0jupxhGqnbBaGgZrF_riaE_U1FQJgBVC6VRjkpbMI4FSAN6JuOfxuHAl7lHt1VxkeLf4Ju9m8Jna9NK0PV_wG8WycMwNg==&p=3&sk=&fvj=0\n",
      "https://au.indeed.com/pagead/clk?mo=r&ad=-6NYlbfkN0BBhZYZZ7bY_Q2-fWzXB8nQYCzWpr80zNz3fSsAHgtb9kSWSTCEDVtJC46uuzZ5ixTjDGxB2VpVenB8F7nctnF1WXIB4omisiIT-AU6HKGdIDBGlq9iThKk-k-YzMDAqmif9OS5M7JYLoTGUslulsIkIkBOPjshMAgXibkmBJKLtlWM8l0pwcE7xsXWIMvAFgrLUSZySb9WGLpcAb-8N1w8D9mWaFj6IUmGconQ4nYrhmnF6BVDCrUF2m5gJCdV9L6oMFduvoqORaxC_Fns2Fw_7SLNCCKBqrtYKx0CQs8bGmcKo1mYxCYM_vzE6e7k7Vt6VCwjiUmJKRLPiUz20tUnFgmUThZC6G7z2ZBX9930-hxUCUoQlf5uacQVnOJshnK0TDfPsx1wJXSJcklD8pjkroY3o7h8V1n_Xz_IciRgSoFC_mUNvVAaJUyEBhvuHaWR79ewk200IX6R9kcc1TEiRmN1NixLmOp79Wh-eUWN4_nbqzLx8o0UxMD84JDMeB8_cF3thIuOCNr4Uh2Oy3lpEA56j1h-vwgKtgXMNYc2B3-lXXbr2R0T5MY3IgXxOAT8zjSfb6mOWA==&p=3&sk=&fvj=0\n",
      "https://au.indeed.com/rc/clk?jk=08a5784867050953&fccid=e8e73efb8504b651\n",
      "https://au.indeed.com/rc/clk?jk=7eb76b33f4f3e421&fccid=ce1396e5b88f438b\n",
      "https://au.indeed.com/pagead/clk?mo=r&ad=-6NYlbfkN0BBhZYZZ7bY_Q2-fWzXB8nQYCzWpr80zNz3fSsAHgtb9kSWSTCEDVtJC46uuzZ5ixTjDGxB2VpVenB8F7nctnF1WXIB4omisiIT-AU6HKGdIDBGlq9iThKk-k-YzMDAqmif9OS5M7JYLtCbTVqSAalCHR6vpFjtDxCBCZZmgQ5ZOUhe96MfVD1vmmR1mgfE81xX4QH3xX6A6LF3jEkYLxST9GiFJPKQG1l5arObkwMkJJ31rMbb6_xaKRL9yoBErj8JL56xwCasRlunDSbmw09nTlGwHFeYTLh4IHRzjnSFcpAbD6Aoq-YhQWe_00msLMYHLx-fOzKflV12NTO4AvTilknC95SSt-7JFkf4rvRG2XHiPywH9KG_wssn7c93rqhpnwOCry2Si63TFwRSH-xxCstcwYEfoUdBOGGzBtE8inWB35x42X0kjVFkzQ0ZpKKEysHUX5NTgMt2CtPcrWpPDpGu41LHHNK_dgZx4kA6ZvM1FEoo1MMnU2eDfbsp6_8gbFadv76_ZtjLa4gHGuliO_-ibVUGvpt9HzrEhM2VRu-6vQkt-cvOT8Ab6dd_iO7UQhImX_3a3w==&p=4&sk=&fvj=0\n",
      "https://au.indeed.com/company/McHenry-Norris/jobs/Mobile-Developer-e8f88792460313da?fccid=d553a6a1dac0727a\n",
      "https://au.indeed.com/pagead/clk?mo=r&ad=-6NYlbfkN0BBhZYZZ7bY_Q2-fWzXB8nQYCzWpr80zNz3fSsAHgtb9kSWSTCEDVtJC46uuzZ5ixTjDGxB2VpVenB8F7nctnF1WXIB4omisiIT-AU6HKGdIDBGlq9iThKk-k-YzMDAqmif9OS5M7JYLnSZuqBqRv48zbsuXA2cWl4hyI7s-lqjQ_Lr-a4Ztg2H_5_BrVH-5II-UXdZSjWZv0Yj9FJaTdrqroZL-27I6zRciJtN3-BivArTSP2mScWzk3t5UhAe4buxdjwHPDABYDUgDRL7ndwe1Sfu5QkaOcsakW9Muv7HX0tkAwnPrZRaD2PlEkyknPkLarSq_zjAjA29qavRtaQH8rdhEfUYJLt7OuFnxzkAVzVT8uPRHbg1clpGdrxGH179sGkrkk9h0XYVulvM9r1cGTSXGRgD5MLDeB22gRaZjSTVh1yRu6g2krXcIWHGBE3FvCh4jUG6aFy3PCQp_Reumoph6FM79CjiFd0mfr579qAIOLvFOdWw4-RN5k7BA_tUwErnqBzX3UqzEYKaDKZDpeRx0L3HnsXoaYEzU1f1i1GB2Jm_V2JnTY1cR7fe-vLcwgpcT8G8kA==&p=3&sk=&fvj=0\n",
      "https://au.indeed.com/rc/clk?jk=ed0d5a855b03921b&fccid=9f624360ccbdfaf9\n",
      "https://au.indeed.com/rc/clk?jk=0be25e1dd912cebd&fccid=893f9f3cd9fe4472\n",
      "https://au.indeed.com/pagead/clk?mo=r&ad=-6NYlbfkN0BBhZYZZ7bY_Q2-fWzXB8nQYCzWpr80zNz3fSsAHgtb9kSWSTCEDVtJC46uuzZ5ixTjDGxB2VpVenB8F7nctnF1WXIB4omisiIT-AU6HKGdIDBGlq9iThKk-k-YzMDAqmif9OS5M7JYLrplGFmUqGmfbkZXHjAs-FUOCvsxYJ9MgbvzZcLCGKigws7tSys82XfMa9UBPb6ddGsC-eWSRgrLuE9MV0piGPe3ZNVihJo5SXyFYGbaKobeE0hZigqg0mmhCKcvuLckWS1jVwRSFPYmOBufI8g4woKwCrsEUsKTSsKK9AZIYTKN2rjZZ1a_9q6_yY0sC8yLscturqttIsZNr2voukXgxNw1Rgc8A_eZ2UAe05VBPTol_nL4jztIlV-qbIUtkzf76_2Pkp5C8Q5K7qChp-dhXPANiRrh_5bBBrfXCxHTWy9n3db9ANZPip85dG6dW8MkzNuri-AvwksYxSdSx3PB-ypaG2g1V4YmiVbZ_VVyiDqDbDM0LOXxwVlxlr_zZo9t5HHrCRDZje412sBcMyTBljA2WlUpIjfGD4KxR3eOO3zHy5jpHhFM5wZJBz3CwUiKgw==&p=5&sk=&fvj=0\n",
      "https://au.indeed.com/pagead/clk?mo=r&ad=-6NYlbfkN0BBhZYZZ7bY_Q2-fWzXB8nQYCzWpr80zNz3fSsAHgtb9kSWSTCEDVtJC46uuzZ5ixTjDGxB2VpVenB8F7nctnF1WXIB4omisiIT-AU6HKGdIDBGlq9iThKk-k-YzMDAqmif9OS5M7JYLt9AIM0UwBTd29GnG_gW-xeRp6tVVmrLDBTs3CQ2Trz1XWAFKKzd0DzLDlLzGZz_uju52TpZeJwjosEJ4HK0T634Frsw2CzefjYIoXyYdxNLe3OmPTq2zpzet9X_uHsnfQlKplSKxpgP1g0mGPu9Usc9c4vbH_L3VJIx1ra--dxvOGuotKIItgpILcG0H9wBhnb5lF9ZomWUtpk6j0aPfinI66buPnBgi8mziXNoySvspsNIQY3rFziVqOAWpr9WyvsAMIHh-6uZiymHV4h9Bs5jWVMC95uXPD-TJX0oGJH-F98s-LpimwjtGCgR70EcHEAbsta3b4fZbj-6ACowh-DK-VgRNvMDjJKH9PhgvVihECSsr1V8eVpLCltmapvfK66D9kc2EqTXr91umjqFbajDi54LHMlR2RAiF_LOSmBGE1fBsSp4F6hTlacAVdDiHA==&p=4&sk=&fvj=0\n",
      "https://au.indeed.com/pagead/clk?mo=r&ad=-6NYlbfkN0BBhZYZZ7bY_Q2-fWzXB8nQYCzWpr80zNz3fSsAHgtb9kSWSTCEDVtJC46uuzZ5ixTjDGxB2VpVenB8F7nctnF1WXIB4omisiIT-AU6HKGdIDBGlq9iThKk-k-YzMDAqmif9OS5M7JYLv7FV3vVUTaT2Lspd2G1jSMnntrq6DRIzgqMThcI3dEPpcRK2VWcQ1XSxqaSprp5fqJ55CB8pIWlyCqbW42StzO5JwOVLu0L0gOCgSV83xFrBnEXvJY9OY5ZCKkgc31N-kCkg_76JQfiyKcvho1NEH7b6lxANu66OC6WBc5ND7qEBAPdvXskeeOdqQMwoifeU4VTEfoopNQjf8z-sDClOI4y5TzF4tGd5BDnezrVnt_acmP2s7F4pMU01SvvUqTqqtQaZQ-9p8TTNLfknNl3NSRzKSml2Ka1OfbvhkK10FAt8MvyiSuajAuTGrDtVA6vcrSo0mg5Vm_H3_3PRc8L5Bi7kDpcbVV4PWcRabfYfD-QKkfiHhVybzEBhI1T0mhDlk7N5zE5scEIrI9Vs77y9qFV999-gCYvXQBj-Dxl05D8-iZktGN-9c_0h1Q8TjJnTQ==&p=3&sk=&fvj=0\n",
      "https://au.indeed.com/rc/clk?jk=934b23977efc4a36&fccid=768f64b26159eb20\n",
      "https://au.indeed.com/rc/clk?jk=1fcf3f89e852a90c&fccid=06921d11c91c117f\n",
      "https://au.indeed.com/rc/clk?jk=0acc7dcd918b8883&fccid=587a90c72514ac83\n"
     ]
    },
    {
     "name": "stdout",
     "output_type": "stream",
     "text": [
      "https://au.indeed.com/pagead/clk?mo=r&ad=-6NYlbfkN0BBhZYZZ7bY_Q2-fWzXB8nQYCzWpr80zNz3fSsAHgtb9kSWSTCEDVtJC46uuzZ5ixTjDGxB2VpVenB8F7nctnF1WXIB4omisiIT-AU6HKGdIDBGlq9iThKk-k-YzMDAqmif9OS5M7JYLkez7h5T76JNnu6bV1USBTp-KO_tIBHqH0EvjCTyEoF_2fGK-rtOdejvzy689oh79cRWICC1XPF4KDj6CYht2aFgDf-swaj9Bbw3eyg5KsVpMQc9CdzlB08XlxUAQpjJM1XqcpuGGOIm85yjv2CsV8Seye1MF1NTg8XUkOm5pCClv7FEuQO8KGSEUMXlhjSHkU3dhQPStMI6TN4KxE2mc28YWyqXXjD6Qb0m8-lTSIzp2UbMTiLYM6pXfib6IjllbJBk2ihjjIY95VudP5Y2f3v418gXQn1XIfbZePHVeGCBs-w3YQWsEahWRY9oTN7MbEwf5tQp6iNa2BIMs1zAcJkhhWkhSbXHaFYUrPJQnYN9xJBPefFQ9cK_a52YvH840jVF9Joz1JGkor7OAGfSrgqlaxjrRIe3EiwsJ_by7m_msluT6GxOMz5ll6OErJCGOA==&p=6&sk=&fvj=0\n",
      "https://au.indeed.com/pagead/clk?mo=r&ad=-6NYlbfkN0BBhZYZZ7bY_Q2-fWzXB8nQYCzWpr80zNz3fSsAHgtb9kSWSTCEDVtJC46uuzZ5ixTjDGxB2VpVenB8F7nctnF1WXIB4omisiIT-AU6HKGdIDBGlq9iThKk-k-YzMDAqmif9OS5M7JYLhwqkhqraUARY9vEId3fb6ArpNwguNRT_CBmI9p_kwIdO0iKgRRgA3bvlnO_A3RF-HVhnp4zf_sJrEczjaw0rg6zCQBNTtEyo2ZkV4Wq1bLaSS5fW9x9qPQJIjD16vQvtQ7Cm_xbWbyZtCNSwuGzkzXYA5hzMxg7lXCgmoqL-fjwwPmnM2iondsE2CfCM7ehz57zmdKCgbNz_lsXhRMIWptn-d9pEwW5AFzPXLfI77NmibL8asHfJHktXCwJw5KTWV3FAF5g8NfgPMjMfsUJLAo9btHmFqlr1lf5TVataW_ulbJk96hl1vkSzJiMkbwe-r9Q_sRsrdz8NQpSiEgfUOVyGyNgoEJkufPP_rSC7LOY64CrH8piLQKCc4tP34Uw5VefkCVq7cEosQupr149UVf7332CrqQJZoQfUupig6Sg4fsawX1NlU8dBvtcSz0Ayw==&p=3&sk=&fvj=0\n",
      "https://au.indeed.com/company/Silverlink-Technologies/jobs/Devop-a91a7a59e84b1d72?fccid=baad127acc1ee599\n",
      "https://au.indeed.com/pagead/clk?mo=r&ad=-6NYlbfkN0BBhZYZZ7bY_Q2-fWzXB8nQYCzWpr80zNz3fSsAHgtb9kSWSTCEDVtJC46uuzZ5ixTjDGxB2VpVenB8F7nctnF1WXIB4omisiIT-AU6HKGdIDBGlq9iThKk-k-YzMDAqmif9OS5M7JYLrrlwU2fWyNk_AAK60OmLkqzRYgDMnuEKM-Q8dhoiyMQOE-0xa9C8wOYHWEB5gqji3wRtACDtxVPFeFm9xK9QEuCPgKFAtznfTy7x7evwKHAWA8CKbQ_pGkDqgKfnH3B-R8YWDlBm0u_mda4LiotvecOhmWY5S1PXWiG7PTMadNX81gfXNQfN67uTbe0iX2_R3hivoEbsmnZcnQnZEJp1XkCA85gQV8_jGt65g4AHZ4WOROWzzx6DVZFuh8Qjn3H1n-XBW2k8PSTfAlOQz9FVJUnoccQUdLs1u4RsME-Y6QpRcxvGTNXHGL6fxRJACVCRGOVfGBv7qPRmS4LVHzrxAgFOGQj9CNeADudYBKNmHmWkFX-IDRkO8I8gA8RAd8ZL5X-cebC6QM6W39r1Q2Erj-eDy8bpn-qVsGqmco8G8LgD04r79BQWpriHcuQM-ONYA==&p=4&sk=&fvj=0\n",
      "https://au.indeed.com/pagead/clk?mo=r&ad=-6NYlbfkN0BBhZYZZ7bY_Q2-fWzXB8nQYCzWpr80zNz3fSsAHgtb9kSWSTCEDVtJC46uuzZ5ixTjDGxB2VpVenB8F7nctnF1WXIB4omisiIT-AU6HKGdIDBGlq9iThKk-k-YzMDAqmif9OS5M7JYLkfePvk1a5qHNHcz8f_57YfGYCeBadxPLJu06tSrRpKn7ULemPyR0FS1wsnwkOlQhuQ5AzGYA_gCeHRN8HFS-B1D8gXix22RATQ4WJjDTvoyTy5oo8LFySbm920f_yYL72je73kxkyvHr0PwEU1ebKOl9cI3lqy_XfHubpEMYDBGJR36qtk_Zd_8dUuHgcgs5-kxT0yQn2BnYSu7jGdramlwULeWF2vJcmDFsZwovNdWqJ1FPRKikUUEhjI3FAObvyyBZtni0wIyzp3X13IlR0K2e6-EOWuaJ-_wFDruq00BcXaQGBz2joslLChXr-hGtCXGrCoNwMoteUvCtpLnqEhG7uH-s_WQeQDXsOmSiEsh8wyoPXvjt33LVDYZnf2NKfB7BxXeEr_oEHMt7ucNjOVJk9hwZ--ftqJozqBkb5vDVpesl7MUDroJpBTuPdso0g==&p=3&sk=&fvj=0\n",
      "https://au.indeed.com/rc/clk?jk=686b5dfac5718964&fccid=343ce1b7b903994f\n",
      "https://au.indeed.com/rc/clk?jk=82099cdf7bb3e7e3&fccid=d35f6b081e467c24\n",
      "https://au.indeed.com/pagead/clk?mo=r&ad=-6NYlbfkN0BBhZYZZ7bY_Q2-fWzXB8nQYCzWpr80zNz3fSsAHgtb9kSWSTCEDVtJC46uuzZ5ixTjDGxB2VpVenB8F7nctnF1WXIB4omisiIT-AU6HKGdIDBGlq9iThKk-k-YzMDAqmif9OS5M7JYLgxrFqYhk-Jc7Ea7wST5qK9j7sTya1DWb4trKEWEZpajBi_lJVNTepKFPD4lxPMMJ2WDrgakRugjubzHPFIObmB-NtBm7qcOB4takklHjuCVW1V7DUDpIiXel86W6waQOruUftEbQe14McKti3LkWamCce94i9aX0j6s_yEl7oc0VFEOYFgVCnxCGzS67uICnRFkvFk2UVyGy1l2Mpxe94_b8vDQb5Hwn4a6RVhxtrZLXG272xHRrl7ISCd-Rd3uYSVHRjGN-sXzzdrGlsWNmOhixQnUAD2d4gIKEphd-W7QvviAR3c8Kxb_6taedSGUMA-rafqBQXrdW0MX1SBsMonA5IUf3z73_Itr0q9bsC-RID1UbjAT0CwWOIz16av7MmtWNGDGZUKbROZeJ2elmAAOQ-_jJ0SyAshNFqFkYeCBQztD6_auWOJohS2GzKZpxQ==&p=5&sk=&fvj=0\n",
      "https://au.indeed.com/pagead/clk?mo=r&ad=-6NYlbfkN0BBhZYZZ7bY_Q2-fWzXB8nQYCzWpr80zNz3fSsAHgtb9kSWSTCEDVtJC46uuzZ5ixTjDGxB2VpVenB8F7nctnF1WXIB4omisiIT-AU6HKGdIDBGlq9iThKk-k-YzMDAqmif9OS5M7JYLhU6VMnc-W6oh_eEPMvRY_29KoOGZ9dFDEzFjHPlFb5eYcj26H4P-CF1dgqtp1_RqC3bdOKMMlZ8MR2GZDNcXe9tFjY-ARMkw-cPxTU6ZWI2GTjAn4DZy1UfAgDMpjW9jP7XB9Rpcgz3-Ug5tMZTISmbpfacSzVUWdkQsNYgDUpJURPDsfPi0Il3Uvb6adKEfxBcMIkmmPQJZHmCvLdkEqr0swux-z-GJcx1LUlZEYwrvdOWm4MaPfX5KtVjkdUsWDRmFwC_Q6gMW_gZxRAME_5ci2f6X4GOOrBwE1mfZM-cBV0CQ3azUowqQ7IykKGYNukjoL07Xv0BmS1Rqpt-eVyaoVQfUWyzdBrOy3ScPK4FFSmYumiph5sn7yrg5TmqJgt9xhuAdIjR-l5R0xUiM2ROOlh1O0NxCGj7vIl_nZs4c99OxuN_hCdfyHtXNW5MTw==&p=2&sk=&fvj=0\n",
      "https://au.indeed.com/rc/clk?jk=752ee20a79504e68&fccid=893f9f3cd9fe4472\n",
      "https://au.indeed.com/rc/clk?jk=0044947bb1645def&fccid=d35f6b081e467c24\n",
      "https://au.indeed.com/pagead/clk?mo=r&ad=-6NYlbfkN0BBhZYZZ7bY_Q2-fWzXB8nQYCzWpr80zNz3fSsAHgtb9kSWSTCEDVtJC46uuzZ5ixTjDGxB2VpVenB8F7nctnF1WXIB4omisiIT-AU6HKGdIDBGlq9iThKk-k-YzMDAqmif9OS5M7JYLuskSZfK2z6p4QKxbiOmKfpZgCfGq7ubk0swMKx9QB4q47q8AAClmTZNyaUgvnFkQtAgFm8CZOOVnm9rS-fiqOeEwLGOo_NilzfsvfhYHfk-oCYz2v8MtT01BS6GC2Vi-j05PaiKSxzND3k5C1aPs5nFEGlGI6_Ii8Nlsry_wedI3k2TX1WUoqSJQE8yGOHoFkXs22aS8VefvQCkZip8UmIzjDrDyliCedXzdP2UnEJ-0_TFUIIEdDaDDyzYaDnepEdfKoUOAp3dLSxewzsZSaF-6H4vxeM7mIDwNLDZN5I4ZwSC10A6fhEOYWCM3SNXVcXns5UHpwH96NGr9JcYLMRIakbShWnhvKgfOqs6Drq8_QpiAa4RiR1nHIlJAL_PzHvZGSAKWwA38FQ4ti1BCgKW5xEqUHuyhpK3NXUYv7OGtOzqzy6MmznBm8IOtcrcUQ==&p=1&sk=&fvj=0\n",
      "https://au.indeed.com/company/Vault-Systems/jobs/Openstack-Cloud-Operator-f43ff0881399fa10?fccid=f6a6823709c49fae\n",
      "https://au.indeed.com/pagead/clk?mo=r&ad=-6NYlbfkN0BBhZYZZ7bY_Q2-fWzXB8nQYCzWpr80zNz3fSsAHgtb9kSWSTCEDVtJC46uuzZ5ixTjDGxB2VpVenB8F7nctnF1WXIB4omisiIT-AU6HKGdIDBGlq9iThKk-k-YzMDAqmif9OS5M7JYLo1cz0fH3XBtqHnmlDabFvNc5ZMjLvwpHdTO0q4G-TOJfyIZO2nwD-4VUoPK1MCs-wsPZOBBO3_rL_QVyd_PgaYYar4fl6G_8_ia-gKDeUXftxTu-BapniHTUVZZ1QrIF7O_zm61qJl_MyzAyzVQqt38fHsF-2zgVURYPJlri1RPCkPzU-hyWBAZVT9I1ihHYGlPz2a1fIOq425O4Hj1S-8PbGaLtBYq6MLKXLCD3m7kVEE5V3YLWxOWSiFfcIJmpFfCU_LORwUv0Lq-9N79NXzr0JwnmqX-_-pSOZhbq4wvBdq1C1dlOcmwdTJOzeBZjMQ5_nxhwQu6RqaGLoq1x1LQaHPQzgPws28DkeDcIyEVsZUKljXA7bejP3qbzdEVYziMbXQZh-2gTqXbej5xk9XCbprhFNZAEOovyGBuLcqNCqqNBkru7CP5y8vCVe5nnA==&p=5&sk=&fvj=0\n",
      "https://au.indeed.com/pagead/clk?mo=r&ad=-6NYlbfkN0BBhZYZZ7bY_Q2-fWzXB8nQYCzWpr80zNz3fSsAHgtb9kSWSTCEDVtJC46uuzZ5ixTjDGxB2VpVenB8F7nctnF1WXIB4omisiIT-AU6HKGdIDBGlq9iThKk-k-YzMDAqmif9OS5M7JYLv76DXciJslcaQmrev3aT-u20W8XbV1vs2mJNi-WJq6MsJvFrmPmse8vnruKqtL65fgtdxNfgEm4fs6JOTAHU0D-OwHrDmsSs8E1aA8T2d83srEkB5GAC9VPaWYB3L6faQcfgG2OBSBk-QvAR1jZfP8_v15ZB7JD-edidEzGWyXvCq9KlumJYWGbPGbDkdNAYf79eB4vfh8PUysdYh0r0Pdej48qnUtiSl-yVnum8q2yXOKwYJJNHCYoDXJ4z1FMYTSgAJPO7s0jGruzg66XHIPD4TtRoibTOw_L1SLSN4pdeHxbJR1MWYs2QUNrvetkXLmRzIoce3Tb9pkKDpP1AHhjNTvSJr_SbSIE_b4kOJswIStDK7Nr5p_psue35fevwiZMTcfyAx50zcZfOb7ePAp3WnEY_1-AtifyTKUwsupU7T7A1g9SfpiDIX0NZNCqvA==&p=5&sk=&fvj=0\n",
      "https://au.indeed.com/pagead/clk?mo=r&ad=-6NYlbfkN0BBhZYZZ7bY_Q2-fWzXB8nQYCzWpr80zNz3fSsAHgtb9kSWSTCEDVtJC46uuzZ5ixTjDGxB2VpVenB8F7nctnF1WXIB4omisiIT-AU6HKGdIDBGlq9iThKk-k-YzMDAqmif9OS5M7JYLruUlE8ukdtQUfOVs3f2WdYyPeqoichAIQHnKF6nRplxuCMulLzvZAOKdKJNIZdU0FkaKsGJRcz1Pg1FzIuVYHjsGvoMem5muVOEDQthnp4SauyZaE3OH1QGvnwP-GqUu20UMswWfdZn9j8BvkqMomKPLRLjZaBqM26jt_9-3MXpuvpISUcavHV8sW2gO9ohxkfoXHhA_T1Obig1r_ouQmx4jMNzjFyt3jLu3XspCDWlXYZO6tTg9W12BZ0DVFuI_l9s7MFHuTrXa33kdXHaW5rCcnDq-FPjFykN-iwyiSOy05bzyAfMhlrWPw3Zorl34OOM9A-qnpBbU5Q5ApcaIEykYFBrBfX-tdsCrxwtMcKjpN26LhJHQx3vkETayUYvrcYO1x5EbbQcOcMdlr3t4pddrTsEJimnM437IcnkOaeFPhRsn7g7P-izTOhYKtqXig==&p=3&sk=&fvj=0\n",
      "https://au.indeed.com/rc/clk?jk=ff83d1fc05ade464&fccid=e7a933cf888bdc68\n",
      "https://au.indeed.com/rc/clk?jk=a17d2177a53b1b64&fccid=52ab4e240fc35a6e\n",
      "https://au.indeed.com/pagead/clk?mo=r&ad=-6NYlbfkN0BBhZYZZ7bY_Q2-fWzXB8nQYCzWpr80zNz3fSsAHgtb9kSWSTCEDVtJC46uuzZ5ixTjDGxB2VpVenB8F7nctnF1WXIB4omisiIT-AU6HKGdIDBGlq9iThKk-k-YzMDAqmif9OS5M7JYLmOwiqwa6kOJFEHkU6gvTZlABtXReNw1mMQEK0B-S5T6HsiLz9CMNIPYcgVZp2e4Ea1WRFoT0SRyErV9cZZIJTCTKM-2RSFs-OAUs8GbvQwIehWcQrNk1NKjc9uPnBbVIhnubl5MQlBZt7H5b_QnT0of7s4fypMun749UyOmjZHJ5c2jQ5aXp2LQ1ijk88RdrKQS6rPSBm9j0TZ_L2VvvKEBjTDgoEspyPQ1dfmxSE06_UXMiSrwMWOTKaR8ZguOpo7y_72MCyF37RN319y15x2qQluG2N1jcLwYZYteQ8NBu6jJAjsrdnQmjapelq6u7HJN_62cJUgfKtJ4ZEos4ZlzA6fmrPvpVN7jDiF2l4jsmVvtVi3K6M1TMDKiIP9fC2n-wfB2ND8AtIlb5IKfSkuVKms4pwWJ5S-InbXE7-MxocvJuXaHMgsfelh10gZWGw==&p=5&sk=&fvj=0\n",
      "https://au.indeed.com/pagead/clk?mo=r&ad=-6NYlbfkN0BBhZYZZ7bY_Q2-fWzXB8nQYCzWpr80zNz3fSsAHgtb9kSWSTCEDVtJC46uuzZ5ixTjDGxB2VpVenB8F7nctnF1WXIB4omisiIT-AU6HKGdIDBGlq9iThKk-k-YzMDAqmif9OS5M7JYLga9rhi887e2a9jbpLS4QcY6DtaGh81TkeKD1gk-BNxzQFS2Ah1L4kBSPo9pmEfc8ijsLMjgVGp6CkQ0IiPjNJ6oQwudDGrbCx4oz5KZFivH1iXT6biH6Ap-JbCzEDWzMAenpKqeXUw52sIngf5RZTE83VbsPnQmQxQnxP4YgrnV2ojyKH8NNR8jqT0ldL6O5lbSojuMS-bR8QotNf6DAQ6XfFXhpUDaTEWSi7RXrJIUmAid_V6NFJdKcF_XTnWX8D3kUjUrC0OgLcbJbb6JIkziRGkTwGuwHFRj9oj6866ypNf10Jh7w0EmZMBiYv_djChi96yNtqzJ6TsHGO6YsX5PgzlbKTZlCLY2ZYmhAVywjkGCoAmDUEhn_G5RE7TmBKL8YTRJ8DK_sPcjt_u5glz5NXLBbiCdz2gTXSxAuH8Q3GBw61OgUseE52i5pQGT4A==&p=1&sk=&fvj=0\n"
     ]
    },
    {
     "name": "stdout",
     "output_type": "stream",
     "text": [
      "https://au.indeed.com/rc/clk?jk=20cd7bbbef921b30&fccid=f01c2f55ec3054bf\n",
      "https://au.indeed.com/pagead/clk?mo=r&ad=-6NYlbfkN0BBhZYZZ7bY_Q2-fWzXB8nQYCzWpr80zNz3fSsAHgtb9kSWSTCEDVtJC46uuzZ5ixTjDGxB2VpVenB8F7nctnF1WXIB4omisiIT-AU6HKGdIDBGlq9iThKk-k-YzMDAqmif9OS5M7JYLgJRrXOyVggvl5VToznYU6pZjgHQZL1GQt7i_pS9o6SznbDE4ovJI3CSyZf69Eq81mOC1j4g5GsNGSkUAm4-BLFYCDw1MCwgyd01V4z45YYSW6fQTnFMXptW0nafWGjA5O2pBALuyann_aufSiWjvT8Sjspwd56RGMpXr9RGREWa7l-hveDen4Ra10bew_Q40Ve1QQUC0S9JFX6OT9MU3_JlcsiHVfqQAiTGEnbNlNtnHeUNbjQkHxprGUOdBhs6gQFXblJmIqaFxjBBzQ6XGxO9txvxiKwO6IN4eErpI_0dt_wr-R9odU65Sa-uTSRHpP5go2ZhdpviTgx9Xsbf4c3vbelneBUT9MXFkSpiNYreRcBTOV23hqkeb9WdHN2xi5e33Brjm1lbhDyoeTcueV2o0LAKRCBWG6eplDRY2avfrQ7gftaf8usgg-2Onnrm1Q==&p=1&sk=&fvj=0\n",
      "https://au.indeed.com/rc/clk?jk=708f616f0b13e147&fccid=587a90c72514ac83\n",
      "https://au.indeed.com/pagead/clk?mo=r&ad=-6NYlbfkN0BBhZYZZ7bY_Q2-fWzXB8nQYCzWpr80zNz3fSsAHgtb9kSWSTCEDVtJC46uuzZ5ixTjDGxB2VpVenB8F7nctnF1WXIB4omisiIT-AU6HKGdIDBGlq9iThKk-k-YzMDAqmif9OS5M7JYLrZgn5V97FjZQKzCGPuVw5MJfuHar4HjBFwfCOzvEDIrS8jhPcLzfxZfYYM-vj8MK3DvW4MUL3B6M1AuW6wZ-8vOzvfLpHMFrJ8nJbSSLjwsnCHxeji_NdRn4GVsHF6JXaKKMvZScGPFUpsfwbW6-Br1c4WKz3fBYiJJadX4wIyZZ8kJNQkokhtISGm-8sorUKyBK5NpuwYi3jtU1pFFFDbsfHZAYf268csk5OhyQoHWCTAjH7lyCJl-MtQn0mWHTY0IPXDCPxB1Alhh10_sIBt2Dk7nltWchUZv5ObZWkeV1qbPcxiJiHDYJ2tcNmZolm5Nj2ihlMQJFzHu-M1Z-RSq2vI6Rp8NU_Vha97-SZv8Iq2ip4M81j7lY1-daGjbjgStNa8quAREzk6L7JU6n-IUTyS4KNZ0f6aS0k7uk14t5yGe9pNcsKXvPadqn-FzeA==&p=2&sk=&fvj=0\n",
      "https://au.indeed.com/rc/clk?jk=078bb3422649699a&fccid=0d3a3c9e16872169\n",
      "https://au.indeed.com/rc/clk?jk=b1a4a17f82545182&fccid=dc74152593865f5e\n",
      "https://au.indeed.com/rc/clk?jk=3268f5ce603f24c8&fccid=0d3a3c9e16872169\n",
      "https://au.indeed.com/rc/clk?jk=381dc4f22bd47c29&fccid=0d3a3c9e16872169\n",
      "https://au.indeed.com/rc/clk?jk=2d36e2b8bac5dd04&fccid=431d2ca6de573e38\n",
      "https://au.indeed.com/rc/clk?jk=6e51f1bd0d2e240c&fccid=1f129dad7c6d035f\n",
      "https://au.indeed.com/company/Virtual-Knowledge/jobs/Technical-Support-Operation-Manager-3850dff55e3c2bd9?fccid=c50134d7508bf118\n",
      "https://au.indeed.com/pagead/clk?mo=r&ad=-6NYlbfkN0BBhZYZZ7bY_Q2-fWzXB8nQYCzWpr80zNz3fSsAHgtb9kSWSTCEDVtJC46uuzZ5ixTjDGxB2VpVenB8F7nctnF1WXIB4omisiIT-AU6HKGdIDBGlq9iThKk-k-YzMDAqmif9OS5M7JYLtUKOO3owA2aePUaiSdu9D9aqqMPhtdWtHKFQJhMj6rE57NlJkoJWiT1A62viTVfO603pIGV57PYKLBwee5PdNEbqn6NE5cUAvBZomwQ4_dqcTzrUrc53aOUhQKOhhpyOTJ8Pf_skjokuo1fgFPS1WhkEy30FD2Ze41bJdnvZBJ22P31iJgqf5EBjlbY0hcj1mnXDt6QQrRY3g48XJPjTF0OLrPZ5cqMoMvVEc5TRdbtN9rZbRFGS5Y2VcE4cEXKvLrPteXxkPVa7kCe99BCZhigtPn1h827MP2LR5AydFck4TKRmMRygRB7M8TJ4fiX3onXOZe_TEtCaqSsNY7QcPHGbUXbxJcQH-HXB5_a2I2z8Ha_NbBfLfiDbyaV8rL0GBv8DXh0WNd-x9EtRpowfp4WIul0-ojC7OaHxucWQPmI_WfGH5XwRz3Uj-cfKJdh4A==&p=3&sk=&fvj=0\n",
      "https://au.indeed.com/rc/clk?jk=c8c64dd2217b1bd3&fccid=06921d11c91c117f\n",
      "https://au.indeed.com/rc/clk?jk=3a567ee566258737&fccid=0d3a3c9e16872169\n",
      "https://au.indeed.com/rc/clk?jk=8c00ed1fd16e08c2&fccid=d35f6b081e467c24\n",
      "https://au.indeed.com/company/Shoolin-Consultancy/jobs/Devop-Linux-Based-System-Administration-db31c63c0ed90129?fccid=fcbb1115b726a2a6\n",
      "https://au.indeed.com/pagead/clk?mo=r&ad=-6NYlbfkN0BBhZYZZ7bY_Q2-fWzXB8nQYCzWpr80zNz3fSsAHgtb9kSWSTCEDVtJC46uuzZ5ixTjDGxB2VpVenB8F7nctnF1WXIB4omisiIT-AU6HKGdIDBGlq9iThKk-k-YzMDAqmif9OS5M7JYLm_IsubtPLi1dCLOSvq50nD55mhyCfxIdQB-eoZZLFMiAz52DQvAtzJbhquEr7hkeZDVPilG6uzfU07Czt9Kp8juB7Jea2OtvjRVfCFwn8T2Yv3KV5cDP1I7D8LPOpHmBTK6ldi11dXM41lzhH4NZs8MQjSkg1XN-JYkb1vbFNG0vD4NOaebwNmeBzXbfV17x0PPALaQOPUj4CLYPSz8mhv0ICGY-3sW678oKVcM_XtyZkZr3XKLdpCyu0PAnwnTCiX2VDMUSAo1U6jyw8boN38dxwu7bDFqbMpogivGgNZlqsljPpPCI3dTgX-u85G7ZuNbaDdO_0BrREqFjQqwAtOlOgXHUKvNWo7GXFZdfkuiQOUntxqKgTf1Gyte233LXL6WEio-UoNh_SlYCdZ7gHFfIYwfb4QK21sJa0masPZcbEWhpfoN_7r1TbXj_LjMww==&p=3&sk=&fvj=0\n",
      "https://au.indeed.com/company/Affordable-Recruitment/jobs/Technical-Support-38c17f1220d95554?fccid=b001a6e0fdcd20dd\n",
      "https://au.indeed.com/rc/clk?jk=b8a05b529268e6fb&fccid=c90e910978217fed\n",
      "https://au.indeed.com/pagead/clk?mo=r&ad=-6NYlbfkN0BBhZYZZ7bY_Q2-fWzXB8nQYCzWpr80zNz3fSsAHgtb9kSWSTCEDVtJC46uuzZ5ixTjDGxB2VpVenB8F7nctnF1WXIB4omisiIT-AU6HKGdIDBGlq9iThKk-k-YzMDAqmif9OS5M7JYLi5xvLd4vv-ppjT6YMFo4hDsYtCmA6brk2yacrqCY8Je2ceDsSdlFnAXnjwRw01t6JmcaBTHOclAj3F9uIXVuLqosFHxjhlpA4SCqyZW848NiadFztxI67ZEMTCpJgIENh7ohP1Wtq42jQ2nyv3_u1D2sbPbmw6urVNJXjDPek9q2NY5nyCyiMNq0lqkjHJ1-nVcOYGWB9nqWW87b6ZjJp8KR4VWtYySN4pTHxhbrinf_iHhqEJ6PE7ea4rQIamCMwmhGMK2g9yD5OTSsreRCMZKcx2GM8vPTuM6X5IuumBTEQhaKPbRDLsZQPcNByLao5HSxe4-mF15hZ_I2z4hKUCLlMo2-5Rvh_0lugDhuW81grXlXSJPffxTrpmUCWj2-MiKxDHAoKjUkFJtkH1_QcdXkRrIUfwJ1LmVfAIcbq51NqgVUUXPiGiEJUCV6VsdPA==&p=3&sk=&fvj=0\n",
      "https://au.indeed.com/pagead/clk?mo=r&ad=-6NYlbfkN0BBhZYZZ7bY_Q2-fWzXB8nQYCzWpr80zNz3fSsAHgtb9kSWSTCEDVtJC46uuzZ5ixTjDGxB2VpVenB8F7nctnF1WXIB4omisiIT-AU6HKGdIDBGlq9iThKk-k-YzMDAqmif9OS5M7JYLvmRBHH13WhMSdoLrDa0gBdWlJDJTo2lQYBw1zAjzhsVRqbdDU0eQ1sZMs0J6neMj39KESd6dbDVpBSe8Dx_WYl92_neQKFitgdjpa603sOxBNGzj8iMRspxfNamYyo9bdIklcKcJJsfZArtHTQ6rW667vqvXKkzjk1zcTg0jgFS7dWh4-oP6rSDANbK-fcQQ6CMU4Ejbj-rM3HW73BR1y2tIr884plYS7l53IYpEl9FoahJlHuoRL7VdlAW56-lPaMqPDXLVwwNbY666Jv6OVO_DBXl482xdrvEtJdRLdCouqw2kwNYm1kLNplPtmgk9wZaU1Zuk5-X9SEKfD89bk8Ma4L0H9N4D6Is4XrZYaL20p1WXE-A0SFJf2Xc0Okj1ExFH1Z4u37Pd9ecWQVpB7CCLEdXQl834ZTzyejBKn19q5mqOWyxdZbHNNJOWAy53Q==&p=2&sk=&fvj=0\n",
      "https://au.indeed.com/rc/clk?jk=8df2fd00f1c132d1&fccid=d35f6b081e467c24\n",
      "https://au.indeed.com/rc/clk?jk=db27d96df0d01476&fccid=86fd58bb45436ba3\n",
      "https://au.indeed.com/pagead/clk?mo=r&ad=-6NYlbfkN0BBhZYZZ7bY_Q2-fWzXB8nQYCzWpr80zNz3fSsAHgtb9kSWSTCEDVtJC46uuzZ5ixTjDGxB2VpVenB8F7nctnF1WXIB4omisiIT-AU6HKGdIDBGlq9iThKk-k-YzMDAqmif9OS5M7JYLnUPhg6zXp7PGto569ALw-_byAfWHP2JOPHdFpjWwmYcPsIQycg0DTalniC4bCr_hE0JABZGMq4AYUt4cYR3aHqSYMj0_VlBs_vTv2P7btv9VHFiy5mvyzZcXUdhjNsRc8_wGsERR-8kO19DAWoyQwoOcNqalTkwkhddSWnB_cgNCzkcmTqXTyq1LkBl6FDCB1COGVDAdaI1VVbC5k1q3OnGmZylghbB9s7OHoBwK4MmY1JEWIqAPfRMsfJ4MsAlbWSVyLNUNWVWFWgKW76h3rc__Or7lM1pZ_KO6fTDDVpnxO_t9-g_L_NBRo2p3ixgh49qjYb2zVdU1PJpfGjPuSWGdZLKkZPRFnXFPRyzGBNWwzTSK7vEP8uYFU3Jso95WZUQrotzXu7FEqVX3cpUztYzC1bQjDCrObkutfYO-ZFhwrZD0DZQ6nN9y8toE6euIQ==&p=1&sk=&fvj=0\n",
      "https://au.indeed.com/rc/clk?jk=d5a87b6e5f9e1e69&fccid=36dc62fffdd2dba0\n",
      "https://au.indeed.com/rc/clk?jk=c75077b2bad1a2fc&fccid=0d3a3c9e16872169\n",
      "https://au.indeed.com/pagead/clk?mo=r&ad=-6NYlbfkN0BBhZYZZ7bY_Q2-fWzXB8nQYCzWpr80zNz3fSsAHgtb9kSWSTCEDVtJC46uuzZ5ixTjDGxB2VpVenB8F7nctnF1WXIB4omisiIT-AU6HKGdIDBGlq9iThKk-k-YzMDAqmif9OS5M7JYLr-tEEdRGID30pQo4bGHKH75tjKIUa-VRz5jP_vthJUvP9xylihKAmBCNojXnxVeYCKfw0rwCRGQ9pYv0HGuCJfR_glj4q_WgbBSYw8I0gpbGWscgUisLoUzt3IhgGbSykOoMLwymcrWsv91_1RUGb55lNkAnW1fWJYdUu25_7I7S4Rh5a60MmrohHj74NtRA501NVuf9ucg8FKp3G8fghfQMQFc_CgH1T_zAxLWN2Tm15o7eHDZNd7GAx48bp_7WsT3ksjtMNmmLM8wkbUr98p9tRBK47k7rOb0QjTQNJLzynVPLzuXNdsvE-jiNJF3mwHCso-e-yzY9Jqk3ea6_2OVg_P4ba5LxS0OeQPJczTFV3NONsbCDic6X-9ledD9FtrA0W98N3PmSaNgOLsG69cqBdWS5GpTo_WCKbHWb47k2X7pkxA5pVTEARLRpohZ5A==&p=3&sk=&fvj=0\n",
      "https://au.indeed.com/rc/clk?jk=2e7cf7de02fddd24&fccid=087fdafe1fd631b1\n",
      "https://au.indeed.com/rc/clk?jk=a86ee58625eb8207&fccid=17a48b7e52f0d901\n",
      "https://au.indeed.com/pagead/clk?mo=r&ad=-6NYlbfkN0BBhZYZZ7bY_Q2-fWzXB8nQYCzWpr80zNz3fSsAHgtb9kSWSTCEDVtJC46uuzZ5ixTjDGxB2VpVenB8F7nctnF1WXIB4omisiIT-AU6HKGdIDBGlq9iThKk-k-YzMDAqmif9OS5M7JYLuiH7zvGmE_jT39Xes3bZGLOyBad0S1pJjxmGPQhFctfDv-RXDnyRwhgWTtTXzv9NYvFcRZGhQnlC6PvGvSWsz13C3FVCgQRcZT69kOZXKgd4mOm-nP1bboRuXsxA_Q03bS6O3wJO1ZeQAGqb2FnUtRO1GQ6zf58os54vvRYPYO_RPmiyg4QXn2_Dscktkw4ZJCVxap0dK0Fs9GyMhAh7EzByejOGsc7a4gZXocnvcWNXgNdyurIy0Ep593ueBtO78wZFYVprYmmtqZ67_KRuaL-Xylfh85Vjc1kn6OOIfOTSuKHmIEpXbCIeVM9yvRmdX83fx4EQqFmZnxgrns-ockIEh35JKQ1UYWrt2nu3cekWIHAlfd9GNAhk03rE8Zho3bXVBIQeic7brVUUIvZ5YrWoqC2vVkRoMSi890coGEVfGrToIeacdwhanqqLm4zTw==&p=1&sk=&fvj=0\n",
      "https://au.indeed.com/rc/clk?jk=d8cbe4d482ae3a10&fccid=b97ea1bc648c6a12\n",
      "https://au.indeed.com/rc/clk?jk=acbb5d232763a099&fccid=0d3a3c9e16872169\n",
      "https://au.indeed.com/rc/clk?jk=f3efbf5e4063139c&fccid=0d3a3c9e16872169\n",
      "https://au.indeed.com/rc/clk?jk=0418b759f5bc1062&fccid=c90e910978217fed\n",
      "https://au.indeed.com/rc/clk?jk=0be1f9d8f0e239b1&fccid=d35f6b081e467c24\n",
      "https://au.indeed.com/rc/clk?jk=e16c16bf232972c9&fccid=14e73695f598a3ae\n",
      "https://au.indeed.com/rc/clk?jk=f00f300bc76a2b9d&fccid=d35f6b081e467c24\n",
      "https://au.indeed.com/rc/clk?jk=3555adec21225e15&fccid=f01c2f55ec3054bf\n",
      "https://au.indeed.com/rc/clk?jk=8ae85c4fe510a7eb&fccid=0d3a3c9e16872169\n"
     ]
    },
    {
     "name": "stdout",
     "output_type": "stream",
     "text": [
      "https://au.indeed.com/rc/clk?jk=73c160da9ca002b9&fccid=5d1d48d3b4342a6a\n",
      "https://au.indeed.com/pagead/clk?mo=r&ad=-6NYlbfkN0BBhZYZZ7bY_Q2-fWzXB8nQYCzWpr80zNz3fSsAHgtb9kSWSTCEDVtJC46uuzZ5ixTjDGxB2VpVenB8F7nctnF1WXIB4omisiIT-AU6HKGdIDBGlq9iThKk-k-YzMDAqmif9OS5M7JYLuqvhx_nlCeTMb37OHostiX9z20hFqwESjAfcTXtD3w2noUlasoBMV6mAnP5-95eRZ-ATHvCH7L9WDZVduA_OA-x32VWleK4S_hNripAiw4EBVhvvWw7eL2RDi2zWWZlqzKPio2CDU642hxD-GDs6t5GjMeYbjw-GHZLGcB7YgIPTLwt7OLL1z-LXbqn5tj0UIdVEvTniAGSTrf3i4ygNe1utJ3SU8EmssU8jSf8Bt9PoPCwwqeSv7IwNAesZz1nIMS_q8LgjHS4FAWl9JTtnS_NGz6ah_I5Uzf-YRXO3bveL4FOdGBuKPEoSp-0euiuiDTt_q0HhbbmAt93wMtqDT-7Uckl4dan35mj9iRXLQW-NRJFwucARmyEPfvwxtZ1yjqCzdLi5uYufnCHJ0meRqx7IAwlaiQIKzI9ZiTptXSQjJqaLy8UdG2hFxRJgwo5YQ==&p=3&sk=&fvj=0\n",
      "https://au.indeed.com/rc/clk?jk=a9d7bbc205585e8a&fccid=431d2ca6de573e38\n",
      "https://au.indeed.com/pagead/clk?mo=r&ad=-6NYlbfkN0BBhZYZZ7bY_Q2-fWzXB8nQYCzWpr80zNz3fSsAHgtb9kSWSTCEDVtJC46uuzZ5ixTjDGxB2VpVenB8F7nctnF1WXIB4omisiIT-AU6HKGdIDBGlq9iThKk-k-YzMDAqmif9OS5M7JYLny0kLkfGqF8HbtNXiS1JywwSDu_7zu7XL0FT-Iha2OvUlF1I1YNwfNxPgPnfFi9nDr2x6hY53NxFSGtA9Ma8ngJLLlx0mkVVccn92It2ofWR7fjTKgnJDk4ebKfyo1mV9NNooISqWgG6WicI1BlFb8WEjodiTK81Bps7CeHAJ9nHkK-UOzDO3YX-2XDTAbz8w4s9ym5UJmleUnlCR2SPIyhIoMFYmTHpod6sVfpj32NyNuKPdlSs5vbMukFB4iZ0MFxFXa-NOn3vbGmlIaFK0aXE6nc2_4lka25KqF0Zly90Mzlg8GVwwQgTMCPM8qRNc2t9SgsETcGQTNK5qXXGZ3TChRghZJ976hQzX8XHgHxerNCH0PF-TydCZPV_0rM9Jrtngf9bXTOaOQoPL7LnsvaNmNRCZNm-QnkNszjh9E-rmkp0tgDQXfW69AHWsP38w==&p=6&sk=&fvj=0\n",
      "https://au.indeed.com/pagead/clk?mo=r&ad=-6NYlbfkN0BBhZYZZ7bY_Q2-fWzXB8nQYCzWpr80zNz3fSsAHgtb9kSWSTCEDVtJC46uuzZ5ixTjDGxB2VpVenB8F7nctnF1WXIB4omisiIT-AU6HKGdIDBGlq9iThKk-k-YzMDAqmif9OS5M7JYLrzJ9O1lU-8SNbvUApm5ZKnQNP6SZZiXF3IQ6r_JhoN-Yhtd0kQ5ABtYkaSVtMoqEbO7GXA9ItaxsfeXI33tzxz722YHjS80Br7Gs_IcutinmDMULGSDkJW_qjuM05IyboCfcu3zUaj31xaPLLnNFcXTzj4V5jZA6rkvYlGro-_CgWrgl9rw0EB11WGBrUvHVZnnRAIUJWQwiIFLdzKhUVlwCMeW411odOXJjjzBSiZi1usg2_vwRt-snrZz1fStWWGXbSN8tMAZyoieeMVg1AAiHY4LAePVsmqdnRCbSRfo2yVED4B9VBGzr2nkzSSkN8mQJ97KM1G91WjxzJKnmoWuQmNAAOUTtObKt7vxNCBMIYZ6fZ6IV8CCrIiBRLNKXqJ0F70GmqxsiATwoM7t9sy3fVdn7YoOL5nX1jaPb-ZW40Sh2y2LXmtt4-TU8bW9cg==&p=3&sk=&fvj=0\n",
      "https://au.indeed.com/rc/clk?jk=0ed3a2ee0cd74fc3&fccid=22e6782d3766aa04\n",
      "https://au.indeed.com/rc/clk?jk=014aa9358597060a&fccid=a7700731b3d1495c\n",
      "https://au.indeed.com/pagead/clk?mo=r&ad=-6NYlbfkN0BBhZYZZ7bY_Q2-fWzXB8nQYCzWpr80zNz3fSsAHgtb9kSWSTCEDVtJC46uuzZ5ixTjDGxB2VpVenB8F7nctnF1WXIB4omisiIT-AU6HKGdIDBGlq9iThKk-k-YzMDAqmif9OS5M7JYLtTBVEC-PoSTQxuShfONBqiHOu43Ybc0WwD-Pcn3w6xQt6NkWdn9hWXoVp3QWyJInqnJ6RE14HmKBYa0LGEN-23wzhB5cxNeyKWmhxwWGc_d83LIBI8b7Eo-8zA7FDIPs1p-w8I-DnGMRZ0qyaUIFWEGMk6f9jewMkpMynPy-k0nVSi1lKRNzz__DgBiy2FcFrHeo9TMFCN5uRVx-EoefgQV9-a5j2cSa9NQXOqdgNaZxJxt0ufUI_oCaLOVzyRBjir2NwYC4EcgdpuEKnyQDQQSgkCSNeP8jUCjiGeEWTBVjC5R-cSjtLglCy7M9lp-GEKmFQsG7bzIs9WyjW4XUWjsUYFHnUhtRdJQ1-NQVq4pQt3faU8iEeTCNouJXtgaoW6w5BM6oJiUGF3WY8UD8mnH-s-Se4wE0Fn-ew5ZV8pvopZ_JX5qXtHvvQ4rai4EtA==&p=3&sk=&fvj=0\n",
      "https://au.indeed.com/pagead/clk?mo=r&ad=-6NYlbfkN0BBhZYZZ7bY_Q2-fWzXB8nQYCzWpr80zNz3fSsAHgtb9kSWSTCEDVtJC46uuzZ5ixTjDGxB2VpVenB8F7nctnF1WXIB4omisiIT-AU6HKGdIDBGlq9iThKk-k-YzMDAqmif9OS5M7JYLhcG0Xj-K4WZsn6V2p6IQwDfzdj-NF9W7u8s79RJBAA3ePb_0w1MriVl3BLgtkqszK-R7gIkBuKFCu0VKKVuZFTSod1eU0ubuHL7AuRDX62cwNwUg6AE2Yxeog1kBZg2fRoS_Ptfl6a5s2Wws7cViVR17m9oApdoru1Kq8SBlY2VzXcdgVIkOcSby6H2vsnIRpDBVzscDn5i1VAA-3a0riQ9QC_6-fPEMJ1_dcSGcoavL1DDHNHzo_E6tUrD9sqRl_XryOluSKW1U45tQPlkTZwqgMKMNUjtAeqvL-cgcu-i2nfrH48qMLjdlPlsttpFD8n_HVZwULXv1BPpL8UjDT2gN4Fjcj51UST-1EY73gCZuzUZiccqhl-PasIiNTlrIt5ACN3BjVrNN_ChtoWFV40gYs8zO4AyTa2MKlpOT3BUEF0cbJWTFKGbfPVZ7SH0Cg==&p=3&sk=&fvj=0\n",
      "https://au.indeed.com/rc/clk?jk=5923e6dfca92428c&fccid=251eba8a83187770\n",
      "https://au.indeed.com/pagead/clk?mo=r&ad=-6NYlbfkN0BBhZYZZ7bY_Q2-fWzXB8nQYCzWpr80zNz3fSsAHgtb9kSWSTCEDVtJC46uuzZ5ixTjDGxB2VpVenB8F7nctnF1WXIB4omisiIT-AU6HKGdIDBGlq9iThKk-k-YzMDAqmif9OS5M7JYLm4b72JacaB7pfVgwLDNWK2175ddFcsrXdLYKhJ6hSxUIvKOK9XkWNLOMNiBvd1j6cu-4amYh_ThPDWimwOUxfXktxOUceqJhizEYi6BBsLuxLpbIqX2gphiIh74gC3A0uibMHcKqJMTodoV8g1wksAEuO6-ZTJfcVz2Pt3iRRi3i8-2Dkjm0YBPHQMQiMtMgg_PbggSk3YyNni_DxfNDUWTYeYXa3JGzJhFstzndN9C9lx_yIVHwK_LswvBWvDhNw_XRaOsvu_dU22eFDVYqE7q21v1Z9miheqM6GArYVPOskz6ob4qNfhFkaVAfmhF5Eoi7FMd5YtVhTO0cGjDAMb-2JoiGd9NehkbpI4uAbWj3L_M1TMYYBGQZ0XG6_pDCL7p_ozoJCu0eEXuA2XgshhhN6Z0_GAz79UERllwvSirE62d6xil12S6X5Yz98Cc8g==&p=3&sk=&fvj=0\n",
      "https://au.indeed.com/pagead/clk?mo=r&ad=-6NYlbfkN0BBhZYZZ7bY_Q2-fWzXB8nQYCzWpr80zNz3fSsAHgtb9kSWSTCEDVtJC46uuzZ5ixTjDGxB2VpVenB8F7nctnF1WXIB4omisiIT-AU6HKGdIDBGlq9iThKk-k-YzMDAqmif9OS5M7JYLgxBtZzet6J1zSK8mBCR_Do6yGqXsfjU-3ewWVGhCUuRlX9Um5-c8cUkWNR58eYhfdgLNPyRH1aDt1gc0ASY0Ev7HRgb7qBOajPoWzd6877-iylv4ZXR3_KF13zDP5D3NbmhqZ4J5ig3yisHTvcUWNzoKXFqG6QesYEXkl-dQwH3vX2aBLus3irtcrh3QWvn-UbeWqMDdkO2i0xai_yfSb6NBt0bNqxCBAoH1nKMf88rAZqyYp44Ta7BcDX5uPu_p-Y6T8XNQmFoulOGj9BhNWLffwIE4GOvzAMhc8RCY0G76SVhB31AquC5TcPVDVc3Dn6kZgIrCUdDqyh7JYqqQLQ-0QTMaWWL3C2_xeiZ-8kNCwU1yTGf93de49Sw84E75j8cqqCCq5TaieFt6YF1a9VFq0SQFeI2IJDZrfu8xyaDE0cE3tmsNSyVUy07i2QOHw==&p=2&sk=&fvj=0\n",
      "https://au.indeed.com/pagead/clk?mo=r&ad=-6NYlbfkN0BBhZYZZ7bY_Q2-fWzXB8nQYCzWpr80zNz3fSsAHgtb9kSWSTCEDVtJC46uuzZ5ixTjDGxB2VpVenB8F7nctnF1WXIB4omisiIT-AU6HKGdIDBGlq9iThKk-k-YzMDAqmif9OS5M7JYLtvfacV4itXfS1Td9TIJYWXsSEXdz03xYAqxm7CfXamu6Usn2AZg_BMMqJSKncTujGzmobU0WZ3-JOYPG4LeLhPMwAqVsBztnofPsRpVRPEcSOw9fPXmWXOBV701MKahoyhfMvO9VHpTk1vNQjJyJBa22mPVAt3WX9yTa_Z12KPbTxa86b4EVzgJUQtDAZXJf5uyXToAaJivHaXXoCAWwUCsv5m585YalgHB296FURDl3xgG29EeagRj0tJhRq2tq8aUwxg4CSSJqL8izmbmCCXpA8S85bd2R6hZD3a6vKU_HJyJN9OGrY93KYiexdyR1mGydYAJ6l7gjgYLn1RYE5hkx0b3y6T-jaUtMtPoYxa-iatxqSq71n1RXeLDHqJoRtNLQb1QMsvimlbXhEEu_7jFQZS9GsP2-ESLXrW0MKJLkj-8Ch0Rsw6dJwgt5vXAQw==&p=3&sk=&fvj=0\n",
      "https://au.indeed.com/rc/clk?jk=317dc7eca463cc00&fccid=d35f6b081e467c24\n",
      "https://au.indeed.com/rc/clk?jk=d669f11680e798cf&fccid=0d3a3c9e16872169\n",
      "https://au.indeed.com/rc/clk?jk=2adf0ec6ef671b3d&fccid=331341a561cbfd66\n",
      "https://au.indeed.com/company/Affordable-Recruitment/jobs/Devop-Database-Admin-ba51b5604c809f4d?fccid=b001a6e0fdcd20dd\n",
      "https://au.indeed.com/pagead/clk?mo=r&ad=-6NYlbfkN0BBhZYZZ7bY_Q2-fWzXB8nQYCzWpr80zNz3fSsAHgtb9kSWSTCEDVtJC46uuzZ5ixTjDGxB2VpVenB8F7nctnF1WXIB4omisiIT-AU6HKGdIDBGlq9iThKk-k-YzMDAqmif9OS5M7JYLkbHk9NIhdKJrVuGKOGeFLQlzMjbW1VjKdwarwLIkWVD08ln58qJs1AyDpPWzmsY887P0617BPtgGub62ttk99XE_As8PEFKRS1cdY0qa3OCjthPsXw4mab8A0P_BPquXheO9RgIDVQ_U67uukVjrFkfVBqE3b3En_nKZaZsgKizXImNPEXqzE-LSUhfZ2voeMVbA0Nbf2jLcAgEva7SUkc_VG5t9J4H_13ix5H4McVDqaz_9a3NCFyBRY-x37V4d7MYRlfc9oYOvLxxbBCTP8BK0PVTanL3U3tgn_9wKc9lVIGjtpd0n7l5wJXN4ncqre7KEuE3cdCIOe2vPgFo93gOp2Gp0yaa-gkz7wbHxaIveB1eP5N08fxU3uT14YEqMYSNKZAOnAvnVZKjY0GOv_zVE54Zw4FlOKPPFhlMsUIcvL8Im7WK49wRugXyyBL30w==&p=6&sk=&fvj=0\n",
      "https://au.indeed.com/rc/clk?jk=ebafeea5887da02b&fccid=14e73695f598a3ae\n",
      "https://au.indeed.com/rc/clk?jk=91cad833019599e3&fccid=f5ea592e52f5385b\n",
      "https://au.indeed.com/rc/clk?jk=f9b248110b594682&fccid=0d3a3c9e16872169\n",
      "https://au.indeed.com/rc/clk?jk=115a289d0c8e55a1&fccid=9c6791b8384c6002\n",
      "https://au.indeed.com/pagead/clk?mo=r&ad=-6NYlbfkN0BBhZYZZ7bY_Q2-fWzXB8nQYCzWpr80zNz3fSsAHgtb9kSWSTCEDVtJC46uuzZ5ixTjDGxB2VpVenB8F7nctnF1WXIB4omisiIT-AU6HKGdIDBGlq9iThKk-k-YzMDAqmif9OS5M7JYLlDt4HaPmDWI-A3wKONpAJfNER8vcTAfR1Q3AIT0-3YOkO1sp0h6WWq68vukGtD4J5PcK9E7rBsEYRvmgXhjuuACG5Lvu7IuD690qAVBt557Lm3iRUI6XpRu1rIghpIUShy-cVfpHOdyLai7EFjOyNa7Q-0ARs3X0LpLBwsEtUogkm4GpTOx-LN6-MqLGvQLLADb5EQL4NNV0mtikZu2SsbhXrwH-6DqLLSiIAm_pPJMnL0WeBhGptvERWymX_vryZ0UXuf1UNABegiEMK71DMr8B2YoQPU6lUwp6UEXrGGhVLUzG14lMu5gP5UbTS0_i6Cxfj8l2d9g4wdqWpETmOtgwE3uvlQEupHfqYeM43LW9i7JQ_3L33L19kYjA2urtUJVzMO4HZBqFpE2uUktytbhKXFAIgk-LjOIA9YGf5_zq1dqCDAIFEqqlgKZ4Uwllg==&p=6&sk=&fvj=0\n",
      "https://au.indeed.com/rc/clk?jk=640543033dac91dd&fccid=431d2ca6de573e38\n",
      "https://au.indeed.com/company/Affordable-Recruitment/jobs/Database-Support-Engineer-128fbcb002467170?fccid=b001a6e0fdcd20dd\n",
      "https://au.indeed.com/company/Affordable-Recruitment/jobs/Production-Support-Engineer-226346d689cec91c?fccid=b001a6e0fdcd20dd\n",
      "https://au.indeed.com/rc/clk?jk=d451345a64618593&fccid=0d3a3c9e16872169\n",
      "https://au.indeed.com/pagead/clk?mo=r&ad=-6NYlbfkN0BBhZYZZ7bY_Q2-fWzXB8nQYCzWpr80zNz3fSsAHgtb9kSWSTCEDVtJC46uuzZ5ixTjDGxB2VpVenB8F7nctnF1WXIB4omisiIT-AU6HKGdIDBGlq9iThKk-k-YzMDAqmif9OS5M7JYLvtvRSWfXtXBOqXzAwL5ztoqHV0lUxJ7j38fS0xueSJs9aK17hFFZZwG_bOCU172B5Z5qNn4t_lnNJctBIGH5iUzP4oWJlajGSlaTad3cG_vduzqzDAQHAO2PF4fCWkvE8-YfzTmjKP8H2ddycC-sn8aN_QvL-9TdQIt-Kfj-MCKJ6TBvK14fCD2EV2eI-WnjcwN8DSR0GabnYi8eVy8WJ6ecWRJfoGRuDT81dtGknAef7O0qG9WcpGT_aGafZRsi5BsxckgrWrsdy7CSaCdmdO_RHW7vMh4IY3WoGkUemhiDawPNO0i8A3mFiAW1SqdhS7fmZuNjnoa2xRGD1HWWZHhUXdV2gDQaEApav760uRo-RsEkZjF-yMbGqQvewO84jGtC-W_UxUd5YUSZ3mLNHqn039xcT3c8rkxP_H7atYXhtM_msFRBv2k6_IGGPDn1Q==&p=6&sk=&fvj=0\n"
     ]
    },
    {
     "name": "stdout",
     "output_type": "stream",
     "text": [
      "https://au.indeed.com/pagead/clk?mo=r&ad=-6NYlbfkN0BBhZYZZ7bY_Q2-fWzXB8nQYCzWpr80zNz3fSsAHgtb9kSWSTCEDVtJC46uuzZ5ixTjDGxB2VpVenB8F7nctnF1WXIB4omisiIT-AU6HKGdIDBGlq9iThKk-k-YzMDAqmif9OS5M7JYLtT2TvpZY2mWte4qTH1kFxVLBrjf0BtOhkyHFnYCWmDGvI1QPUdOhuOQGbIclDbnnnXzXysRqjyQDNAh7zvX0RBmKjbqiYP4kUrHrYau8myagrKkFK_ZWoyoDxC-8zM3EcL2xkT-rNSsecZp96fQ8uA0MA3ZQdTAZir2_vXJS5HmQ8PCqkmsPi_cU0GJX1A3Syn6ScBYqQ5dZiqVc8FLI8aPod_lXyEK1xRMYQZTXgYLu3A-yrqn0gwiKuoYo-JbHcUt9VI8f55oJNIg-7pqyDrxUxXeXGieyUsg9HEli8Z7cSqicCqfT5nLSuznhJvlIHz_iS_1Op0WlVFP96nsriiMsQvvO-CVAIs4BTs1w4Bz7dyIG9aDk3mEus4iIo_Ro3ZDKxefpmsq3gFgzEpw2icP-4zO6kCsDHY_QG3ty5CkWIZ-szLxjSl57vfk6y9LaQ==&p=3&sk=&fvj=0\n",
      "https://au.indeed.com/rc/clk?jk=c4f7015e7f319311&fccid=0d3a3c9e16872169\n",
      "https://au.indeed.com/pagead/clk?mo=r&ad=-6NYlbfkN0BBhZYZZ7bY_Q2-fWzXB8nQYCzWpr80zNz3fSsAHgtb9kSWSTCEDVtJC46uuzZ5ixTjDGxB2VpVenB8F7nctnF1WXIB4omisiIT-AU6HKGdIDBGlq9iThKk-k-YzMDAqmif9OS5M7JYLhJrF97ghgeBeovEOlm4zquBJ6MVhA8sWh3xR3Dfg3gQhIax-uVF6UqIa1H1kWIT4H-EJV4W-KjgH4c-ke5jdsschvAZZgkdAc30sY89On1mopwpGx9teTD92YNonOLQDrJ-2maOejbF0gbGxkr4Ybt1Jue5zzYdTL8H62w89otcSgluQcTXSx8CwnLXg0dpRMJsLT-rKXYEVqDTnBnaFXHGzJVW_CgyhlYMlpRpChp3O7Mtya-h-O3XYKRXLwBS1WJQ6j8avs_BeOngik-dzuN9aMGO8MZohnUqMj0NzFj_kxusC0b-cWJw05o1W89WStJmNxjBT7MtiCHzR-tN2CABD9bCU0XA6_t41MPyxnAXaLuY6EVcg3E4X2IwVu7RYLtiw_kDmw_DXxc1mLynmeC3L5wFxN03GhZn71S5aPhKCUBGx93-fGXd9GjUZBublg==&p=3&sk=&fvj=0\n",
      "https://au.indeed.com/company/Avenir-Consulting-(Australia)/jobs/Investment-Bank-24859b1f56ba3e77?fccid=5f5ebb2e0b62c182\n",
      "https://au.indeed.com/rc/clk?jk=18dd3742978db22b&fccid=9f624360ccbdfaf9\n",
      "https://au.indeed.com/rc/clk?jk=5110572956d951c7&fccid=6b091152b6497714\n",
      "https://au.indeed.com/pagead/clk?mo=r&ad=-6NYlbfkN0BBhZYZZ7bY_Q2-fWzXB8nQYCzWpr80zNz3fSsAHgtb9kSWSTCEDVtJC46uuzZ5ixTjDGxB2VpVenB8F7nctnF1WXIB4omisiIT-AU6HKGdIDBGlq9iThKk-k-YzMDAqmif9OS5M7JYLqmX4S0soiqQBcq0WioMEcpdYk-O2fmrHT2Fhn7Xh1btv4kOykhYQ5Fwc1DqaiMHgFpX03AhML7D4cPlZt0N-90RRVar6y6QtPi_15iUVQQqDm8ViJy1XqHrQG6AfXNxxeYkjXeK3oMApcjDSIfw80LuttgyBx4nmDhdZ2fy4Ni8QCHuHvGL-cKh-iPH_KqLzRtXoigj8Dn2MC7XdRsmX8v-rL8KzE0tg9xaQtkb8KGiAaClwWz9dDaMIu9r_sFKIH0Y4nkoJ65JoujKPGT7XnxNCnuw-dzYimLEMGqxSZoWSYDv0IvtjazYcE1qMS3PYq8OxmemsEx5kG9CxSJlMyE73ElyhDa8TD5Z8UDtl5WsDh3c3ucD-vwHoHWr0DeeuSAD3DY7c2TTsLmZppBWlGyS28Z554eMcI_iy-xwgqiBYm9glRCBApbnH7znX0UNDg==&p=3&sk=&fvj=0\n",
      "https://au.indeed.com/rc/clk?jk=a441db3eda48ffec&fccid=86b33657c5f56739\n",
      "https://au.indeed.com/rc/clk?jk=bd4040316ad7ef44&fccid=2e66c863123e8d81\n",
      "https://au.indeed.com/pagead/clk?mo=r&ad=-6NYlbfkN0BBhZYZZ7bY_Q2-fWzXB8nQYCzWpr80zNz3fSsAHgtb9kSWSTCEDVtJC46uuzZ5ixTjDGxB2VpVenB8F7nctnF1WXIB4omisiIT-AU6HKGdIDBGlq9iThKk-k-YzMDAqmif9OS5M7JYLjMU-E7lIf_E-BNeQ_JlWjmfkah8QJDBaMCCmJClUW_0VeY8PW8LCIn_czU2HTLiQJNcG8CyoyrwYunwA5qdi3h6Oz95OtSXT5v3zMjPPwrsREw2Q3cE77RurBf1tjBhkuVO-8y6796INs7RMQXNEu-UxjFhdNjnEBwFJJ6n10q9VvRgnju8YnZwhqrxTo1G91a_2C88GSGup-hVaHBcgh8LNAoRoTWu7ZmJ0ziUENRM95NEPUNSTCZY7xn1yuLP0fwyv4W4ES5XAqHYvfHqXQWvs1weajzTBxhWFFnWP1oL_oJXLLUHY7HHVxhas5YNbBTfHj2hJ12hkN4mFEIWi0jCv5BkKuIL-rr70fPNzHH6KoKwCppzA2aFpyKm4se1AqrnAXs-VncI9Y_4vZ8MgKb1UdSc8ble2bL_7J_CP3bf-CeMP3Vndg8vMkLUcVL-4A==&p=6&sk=&fvj=0\n",
      "https://au.indeed.com/rc/clk?jk=008f81d20b121962&fccid=e77e8a3336143f1a\n",
      "https://au.indeed.com/rc/clk?jk=ea670d543b47b53f&fccid=22e6782d3766aa04\n",
      "https://au.indeed.com/rc/clk?jk=86e11b39b8127aab&fccid=867d82af62a0e5c1\n",
      "https://au.indeed.com/rc/clk?jk=c8986b8539ebf2b1&fccid=ce1396e5b88f438b\n",
      "https://au.indeed.com/rc/clk?jk=b112966ffa378b8e&fccid=f5ea592e52f5385b\n",
      "https://au.indeed.com/pagead/clk?mo=r&ad=-6NYlbfkN0BBhZYZZ7bY_Q2-fWzXB8nQYCzWpr80zNz3fSsAHgtb9kSWSTCEDVtJC46uuzZ5ixTjDGxB2VpVenB8F7nctnF1WXIB4omisiIT-AU6HKGdIDBGlq9iThKk-k-YzMDAqmif9OS5M7JYLnIAEqzWzG3jeXE_AMBJ81haAJ1NvO5Pjc8Drdd84BRG05xg3y7frNTvdiD7YioN6wUAK3CNxJrXA1DxxDZgFgAHOzikIeHcTFC8Qn3PwpH6aEH5lqtAEx_mTxQ9rEcSitXaiO4BJr9Ma4UqE3d7SwHjW4lPjY4_285NoUItnVfo1UFeOir9eJxOGsMWEu83rXB8_RRZ1MXw6sUCVBpYbiM920WPJbympKSkMY9kNi3B2oG1ddDomZS5NZi1UL5JzW30SO-ZHIuyAlyvHw7z8eZIRme3Yo3_QQad2QC2PEry3XoNwoddzjCyTjcfvWWkQNaYlT_zM_nPXJmv143MB6ih0FR0q5KfK5GwrxFBfbvZZD8y_Gm5VOMLTculGlyecPBsc8InSXCEaKcRbvSuXjHwAd09vmlDo2JJkYv_baOTzyzA9b_LGrGjsvd5L0CETA==&p=2&sk=&fvj=0\n",
      "https://au.indeed.com/rc/clk?jk=cea5753bf102f877&fccid=407ea6d32ec79eeb\n",
      "https://au.indeed.com/rc/clk?jk=e47fc09b935c1a32&fccid=27989f7cece3f9d6\n",
      "https://au.indeed.com/rc/clk?jk=a5eb4987049f51f0&fccid=407ea6d32ec79eeb\n",
      "https://au.indeed.com/rc/clk?jk=b40db952f8cd298d&fccid=407ea6d32ec79eeb\n",
      "https://au.indeed.com/pagead/clk?mo=r&ad=-6NYlbfkN0BBhZYZZ7bY_Q2-fWzXB8nQYCzWpr80zNz3fSsAHgtb9kSWSTCEDVtJC46uuzZ5ixTjDGxB2VpVenB8F7nctnF1WXIB4omisiIT-AU6HKGdIDBGlq9iThKk-k-YzMDAqmif9OS5M7JYLva5FAknA52SLz3X-fXgXcMliSnfzNq26FuiIM83HbiIlmt4K7etuBExv8n3abXiH7OoP6542192J6hnTQ56koKB4VgJ-hBQ9pCzNZKfPqmv7NbB4mXq29J-dmL1bGrYoAxuEYPuZ7yl34o-DxQtTvyFHWDHx6XH1m0PdDiGz0NlgKcXXhQfCFw_4VFhr0pQwiAi-Aa3cMoJ00zQEQRuZXamdNxZvzsE4N66oLGdgkeZ4TjdbYqqY03PiIIePjUXm34WL0ZkWVVBFb6GhD-IPbIUHqGsiSjoT5YGYh4CYZcCdsIpdnxwnHQ9U1Oz7hpSdk6uxj2cL-t9KqUiTDVZmwE_fMOuK-Z3jKWC-pJgB5PefueuoFaY_6tkC6WBkc9Wq8ZvEJtcxVuGpaOhJ0LrQodOYy-0TRuPRyzDIWjMVQTCoNhc8shf-c-HLVsfe9nMnA==&p=6&sk=&fvj=0\n",
      "https://au.indeed.com/pagead/clk?mo=r&ad=-6NYlbfkN0BBhZYZZ7bY_Q2-fWzXB8nQYCzWpr80zNz3fSsAHgtb9kSWSTCEDVtJC46uuzZ5ixTjDGxB2VpVenB8F7nctnF1WXIB4omisiIT-AU6HKGdIDBGlq9iThKk-k-YzMDAqmif9OS5M7JYLpnsW6v9RjA00EgzRz6UAUrXDaxiopC76nx4W160IzgpqPubQAWFvf1JHNs5wQDkh4vluLaH6YXiF0vq1tmD7y_2DJcFyH_CyXyT8589F0_25Og8sD-QEm7EnQTlBFsiLXKqdRvpUhJySlLs1VgqHCyMh49RqgAnDNzayldRY3oHqjxAw6mRTFis9AzBUTaIgFr0iPfQS_VULtounvZQvdQ2tz8a8eddlNS9iRl8o0vz9YTjfTr5pXUSR-c6vuEcYHQPtv6IeNfBqt_H7solj_7Oz8FhW7sX5vxSaOIvbt6P2EMCqLMXquWNizyW9iz7GSmAcUDzXnZjMElslwLKwcH3X-ngJ493hY_GvZqGDM_XLfPKoJohJAhg9ozonauncRLO-Pt3ABi7CviYzNnPYYivEkS4UbeH7cxihg6w76lt8dyexZktc3PyApOw_w9lcg==&p=3&sk=&fvj=0\n",
      "https://au.indeed.com/pagead/clk?mo=r&ad=-6NYlbfkN0BBhZYZZ7bY_Q2-fWzXB8nQYCzWpr80zNz3fSsAHgtb9kSWSTCEDVtJC46uuzZ5ixTjDGxB2VpVenB8F7nctnF1WXIB4omisiIT-AU6HKGdIDBGlq9iThKk-k-YzMDAqmif9OS5M7JYLgB9wnw3poSKR88i9u89kNVgmSd4DQtD0K16doEdNHgRQRP4Sn-ibUUZldvKnuwkqXK_CyUw87Q7gesuzjjArHbaqgpAoMTxyGdsspGXY55rAC9v8XApV_Lvl3bnP27z25Bg1QyI51FDDAGdkY1UfgLqEwyJB33m8JB1Sg2oohakJz4NYccaK7xHz6gcDzwY0sCuKCLliNcbjnLNIX7QMIEzq2EF27VyNDQYxSkn1tdOY9L7Me8om7ZpCBlhwcweCVenhNRqJkOp-ZO5cVH3yL9oF1PjmIvURsYd1_RCwliPQK-ys22wUZdM0WbWoR_wWNqfN2TlNaULgjK_M8tsafjC6dt0CLl6jHf1vizXz8C16TTjqG2J4hoRiAB7SySp8b47Nl3sGyVpj0SViA6462Ar0-4NDqZ3OCfzeXDiFOAfUYW5wv0Y7FDy2TIa2XKZ2Q==&p=3&sk=&fvj=0\n",
      "https://au.indeed.com/pagead/clk?mo=r&ad=-6NYlbfkN0BBhZYZZ7bY_Q2-fWzXB8nQYCzWpr80zNz3fSsAHgtb9kSWSTCEDVtJC46uuzZ5ixTjDGxB2VpVenB8F7nctnF1WXIB4omisiIT-AU6HKGdIDBGlq9iThKk-k-YzMDAqmif9OS5M7JYLhBL3guSYMlcPSBPzIcuQy83R3jbsxgnd25-KAoiblhF5OmVDJr7bumxhUgniz-I3u43dc6hO5Cs17FOPGFA-17pFc5MFQ2qUcDKXf8tmeJuY8GLYyCGyymh6Sy08DNGzmZ6ECxDiNW6gPlTCl0peUPEY1FiUhPcSJR-bPn84WMmqIM-6D8zWOMlXmLpW99ia23jcysyx0KhkQFUJfsuU6XsqUbMFr0inzuPWiw0Ia2Ws7hq0YB-1XV6f9JjHLgSr8lAhBz5orc2B5CojXbK6DvAWnvxQ5yWu0pAd9y2yE6rji_kBOHMiOp72tF7kLtg0iQG83mCH6tPRUBD3If0iSdtO2XW7h8WDKgw1wVmC63ehJShEoqn_FWCaQauc09r_8uZKg2A2DTdp8Y_OPYOpPf2z017CwB9sbHdUeiqNsBk7vXudprW_LIe06wfHNiaCQ==&p=4&sk=&fvj=0\n",
      "https://au.indeed.com/pagead/clk?mo=r&ad=-6NYlbfkN0BBhZYZZ7bY_Q2-fWzXB8nQYCzWpr80zNz3fSsAHgtb9kSWSTCEDVtJC46uuzZ5ixTjDGxB2VpVenB8F7nctnF1WXIB4omisiIT-AU6HKGdIDBGlq9iThKk-k-YzMDAqmif9OS5M7JYLqIDWzywVWfGUSD9f91OOwrlF3L15_pWMM52mljvIyAgS7ozCO675og5Pqz5apl2l5NqGCn4_h1LfxLp5i_q021fD63RxgX6DfkYuPIhlpzPmbgmTBn5ghwkhFhi6L4_5Ck7mZtVWq7BQjpPoSK8wM-sn5Tvw8diRu_UGcjuCaInuThKpw7-k14Ndi1QJ-vNEHoWMzrBK1hnHB9ozgcfzB7BNICQlEw21X2uSCyzrRqB0122Hk6xR_L0JUnJMQJg26Lkz_qMXApCndJPnOv_n44yTAfim--QbCPTL7A5HdeBtOk42RZQasEHlTQbOo476HFvptWMkVVpU3kmdpgEx5AsdsfzeOHuWtPRye6xF0sH4EeQ1xdWbtvRMjjShIJnhxT6mt5iSKutSf8kc55iNl2gxwI2WCFH6fO4SrOyAzoLyA9mra-WX4IbjqsiosgAaA==&p=4&sk=&fvj=0\n",
      "https://au.indeed.com/pagead/clk?mo=r&ad=-6NYlbfkN0BBhZYZZ7bY_Q2-fWzXB8nQYCzWpr80zNz3fSsAHgtb9kSWSTCEDVtJC46uuzZ5ixTjDGxB2VpVenB8F7nctnF1WXIB4omisiIT-AU6HKGdIDBGlq9iThKk-k-YzMDAqmif9OS5M7JYLgs2g3D15NqjCXm21ZqhB55YxA1vtk08g8nuKfHoo3zk7xOEoJrn61GwMV_UmcTe4uK_AHag7FR7xchiHx8pAOUKjBzgE0ymS_OTM8XYJO-Sj5X3g6BtXg5W8c7lHx1tHGkf4IPeV26oLy_w7fWa3J68dq5wZZ-WGD5r4Dy5-9LDgjPfdpKlRtXUsxKz-OLuYH7xka0hxqyiJql1nB5087w4yDlHIwqayVk8YRC5B_rp8tjF7cgMbJxndAi2Iv8KHiTDPlIoYlQaU8ZubMXys6F0g63204NJOVWRpRK1WQNudPCL8S8cHgDs5pasIpr-_wusJdOVMGdBMcnpaVJ9cy51wzfiwUMaPhpcRsOLORXFsrk06TOD4vR0qjGvzKKhQ5sf7s7xU12_ad4vw9mNPq_V95iKB1QVAJq3kVNFU6Ni6_oJkpMesmFxnAzxYXnCfQ==&p=5&sk=&fvj=0\n"
     ]
    },
    {
     "name": "stdout",
     "output_type": "stream",
     "text": [
      "https://au.indeed.com/pagead/clk?mo=r&ad=-6NYlbfkN0BBhZYZZ7bY_Q2-fWzXB8nQYCzWpr80zNz3fSsAHgtb9kSWSTCEDVtJC46uuzZ5ixTjDGxB2VpVenB8F7nctnF1WXIB4omisiIT-AU6HKGdIDBGlq9iThKk-k-YzMDAqmif9OS5M7JYLhF96QtUY_riZqhZHTIgW49hfijZw3-ldqONQhXjTQWP4UBTDA8ADr10ef5BOqA4mEx2On0JBW_QLBOOPtfkYS69ai50hs78uQlLX7nqDAOP-l0rLbNP9elAaIz6_Gy3U0ZLXMqfsi-pTT928BGCbKr9MfuFMv2txHFFmFHFXOAzm2jRbBJdpcHkI2OHJmBcTUdwHw-VVde9dzXu1Upx0EkdBPlVYIOw9GEu07ftsC2L9vNm6qS0Ssahyb1gT7t-kQ0gdukDpoSnKvtBJiur0mdwF8hijk-0RpwrKOkXoLwCofRGi8nC2_LKavYSTD8WDgSNEKFkOZ3kCH833bjXSJs_xmUlGS7lovmDj4p18EB8K-X1Gdb7gCkY4Q87ag8SAg8dEp6k9urcdHnC7cDqvDlKLnS1ApifE4cMWSk-c8j0o3Yu2fXuiPgFLsoiB7TKXg==&p=1&sk=&fvj=0\n",
      "https://au.indeed.com/pagead/clk?mo=r&ad=-6NYlbfkN0C0JJUhbQVgzgDGx-dsYjlRJhHO4kZNv2z9s6LVeGBT1zOpjKM400f8vs6t0tYbmeIvHFb0emIq-feFs4GJsa3zrc0wSvK3EX17LvzGdwir2xXFeOsdN6K4PHWmeveDifbADLhLd84sOBmvFtUbGBlM6blwjOZqRGoIKvuiiws3XlGIZad8K6oGVdrbWFQpeJ7gbn9UU7XcPoBeD6gZIXpjMpRHMjR8kbv0k5-olsAAuEr9jI0YBfCBtDpnmKK3v5zWfWm-cgRl3K3K6B9EsT_0pG4zTL39sHMd-oERILrjLfpkVERKMYKPf0shrmCGUFu7LDRxhZVGLQCpA1UH9i9zDF8byiIOKgQ8A8h-fLfP89Fcoc825jsSa2JZwySMdwh8jSUCXt0AHRXDIdEO-LZV-BkOk4bh4_2fPFPQHoE7GqL-AnHzwI9Sv8HqGSNz-IQOLBGaf4BaNtisFAdJrJW1fVgIEAvihGU--V7l3GnvbmNmd0w7UNlKSUwMR6hEDQlBZW6rz5RO_9g9kIeKvT5qxSmJrfuhZ3tsBVkNYz_IJCZa36DOXvYhwkNbdIc4wHAy_cvC3HhGG_d4CzBpyufbZmpPHuSMUjNasdkAjqkWLFVQ6C9cDXVK&p=1&sk=&fvj=0\n",
      "https://au.indeed.com/pagead/clk?mo=r&ad=-6NYlbfkN0B-i65Vz1NE2ltaHzTGFhVZlLsj7U06fPnKQvZm_GfHDX4xoIyjarUr3DdUgZQ8EGpVPrtoH0VKnRybN45FED3dgQX9VpQPi76YzHApgeD8QoJQdONcrk884D0C91hsdAzlwAW68K2yvqPBND4BfOojGTIM-MxkoF8Ke_Y-sqJyG72QlI-5G8PJcfvzGXG_1MOUbli888BL7M0m8pnbt85Lut4OHXWT75oe_JGcYqRw-rH5PoapiFLHXaNKB1G7FveXyVPwY_kntWklX1MhH3P-5dElUqeIVHb_f7rkpDHRJgLWQTY5kfkGbh5btnNZTmJOtaXZVGk7wbTgOZxuvGX2NX4e1rkWoVKGMwIgJJhICv6MCVgvzB-k8H2NTfr6J-NzQUENTrO_jS-fwNZaWYZTNltNNdMLcfukixXv4sbUIOXyIgajaYvyhFws6PTwguruIvZhQidApoo0DEYN_jTepXW0LdfFpcLVZJSPZIwCMA==&p=2&sk=&fvj=1\n",
      "https://au.indeed.com/rc/clk?jk=9645930545b6f59d&fccid=c9746c30e449ed55\n",
      "https://au.indeed.com/rc/clk?jk=df9b54e0b8d25732&fccid=9f0284b30110d75e\n",
      "https://au.indeed.com/company/Momentum-Consulting-Group-Pty-Ltd/jobs/Labourer-ba38eb7cd198f38d?fccid=91baf7303f2d8a17\n",
      "https://au.indeed.com/pagead/clk?mo=r&ad=-6NYlbfkN0A59wcYcY34xyza-tGHHvoFi9VmmQCxgEiiRlhSWHWwxeJmlODOL-n2iN0W3blsGCfOgT_PNkmY89NwZpCPjswSf2V-6OxXz3wXks0pa_qCSEDJbu71buawfvM_xVeB81rdqQ8Iv8HaZ4rQDB5M82yAEx3BjEbvCJVmYBaZWvwwsni1v_xUAn716y9Dh5HwyJ3kCEEWq_UDeB2OMqjWA0BNLWXbB3Tam0XrQatxXzBryX56kb2rTW4XGE081UvK7fE7zxMIPQFx2ySmVJzUtVfBaWVixvGNsj09bES6XTDND2Uqp_ORzuYBP9GAV_Vn778mvGdqQtoP7gy_UBCymdE9gY--IWFKSoMVP9eIepLdhpw7-WS13HSEd73k2cNLZYS8ZCqppPVx6JLGVNY9puWnUYrsYSYBlQJYg4FBkBMqAg==&p=7&sk=&fvj=1\n",
      "https://au.indeed.com/rc/clk?jk=813f5473ded56937&fccid=64dce27098c1f264\n",
      "https://au.indeed.com/rc/clk?jk=d8a4369976fad8d2&fccid=d5a1b2a143b1538c\n",
      "https://au.indeed.com/rc/clk?jk=04feb8a80006d320&fccid=e2039ebee26cb230\n",
      "https://au.indeed.com/company/Quality-Flooring-and-Grinding/jobs/Carpet-Layer-b0a9ce4d3ed74d69?fccid=5bcdcc7f1c44c4df\n",
      "https://au.indeed.com/rc/clk?jk=b5ca657bcd34a84b&fccid=9f0284b30110d75e\n",
      "https://au.indeed.com/pagead/clk?mo=r&ad=-6NYlbfkN0BwQOinhhjytFuGzOalMzRs2-0HuZwQVlOp6LTq_X3BOplot1e9n7ywxrqIo5Eo-2gi3RO5YYY5DsHMLeE9KtYH56TzkdJUkbPdQQqb9o20jVxgBb7rJWcKTymd1E14eYwBy1bYT5avmrvsMAFqbRQ7L-a-t0Qy4q-ekiYBRxU-wgQHHx3IgalbvvOYGAIcDWtdsGAO0vClkLNKdShGfzqNvLvoCLHDWNHxFTrLHUhZXTjj_R81pO7XJZ2PGll5TZfF2IcTC4m8C_SO3-LurJgI7089Wt89FrL3C4vdMnNTaOqbgO6HmyotmxvQNAUPXakvWbbCkTQMgdt6vbEE90iDW7FH4uX7WaCT2TeaN6gm0aLAEmBc85V97N6mC8AonLi4qKdo6Q0EF5gkpWi4Wt2hMcPZBy1FwBg=&p=6&sk=&fvj=1\n",
      "https://au.indeed.com/pagead/clk?mo=r&ad=-6NYlbfkN0BwQOinhhjytFuGzOalMzRs2-0HuZwQVlOp6LTq_X3BOplot1e9n7ywxrqIo5Eo-2gi3RO5YYY5DsHMLeE9KtYH56TzkdJUkbPdQQqb9o20jVxgBb7rJWcKTymd1E14eYwBy1bYT5avmrvsMAFqbRQ7L-a-t0Qy4q-gMZFayW8pM1G1aiBheoPX_2aRxsGYvgXS388XXIwHdgZNlVg07p_n2oM-3AQ9_k_DavqBVX5B2ua74D9DqEuLa29roCzpRskemZdLejMGc5B4CJ99iF0Cxc2dr7wii3W4zqsWLdanJ9BuMPMhmYiixhRsq25YOuE-nTvrhElLszCaO8hNCi0yaaYp0fjgqUugDUHCZk6KFxlcxHH2zc2jtqbjcdGJYbNrvms6c62dh8AdyTKpxRkcWnNxGMYsHZI=&p=6&sk=&fvj=1\n",
      "https://au.indeed.com/rc/clk?jk=81a065726399d114&fccid=9f0284b30110d75e\n",
      "https://au.indeed.com/pagead/clk?mo=r&ad=-6NYlbfkN0B-i65Vz1NE2ltaHzTGFhVZlLsj7U06fPnKQvZm_GfHDX4xoIyjarUr3DdUgZQ8EGpVPrtoH0VKnRybN45FED3dgQX9VpQPi76YzHApgeD8QoJQdONcrk884D0C91hsdAzlwAW68K2yvqPBND4BfOojGTIM-MxkoF_FH2wYBzA9tpe5Y4KWs4pIjLAJUbaJfZG5Dt8c23Xa4FS_28AHciQfktaCXbxHoIWJYxvRuiyNtI82txi4_LyEYBE8CA-IpiKfJ62S7ZfN-pYWM3jb5M4q27WUwmHI7RbcD_u8W7hFEYDdM7RshoG8ej3B9N_2BGwSTBqU4xkasduLq98mWlVBKr2nV0wLz9Tml2uLp2a1aVSYPTrz_ImZOfo6ZR218wR1x6FE3b8woKhFIjXJ8onF4geJCaxJ2f3VneAnXU_hdWMOwyFbWno_fjRMc-mUu0xi93BHMtS2NkjmlWLjB-c52UKF8vJhCuBqBiPxiGxqNw==&p=4&sk=&fvj=1\n",
      "https://au.indeed.com/pagead/clk?mo=r&ad=-6NYlbfkN0C0JJUhbQVgzgDGx-dsYjlRJhHO4kZNv2z9s6LVeGBT1zOpjKM400f8vs6t0tYbmeIvHFb0emIq-feFs4GJsa3zrc0wSvK3EX17LvzGdwir2xXFeOsdN6K4PHWmeveDifbADLhLd84sOHb2r8MoQZNilK1Ik-7R60PyYA2h1Nt2t_qm9HmEz_vHEn-svYAbLMIluLSoZTSYESCU-sN-edJSyTZLn3ySEJ7-UWZ6my-ndAmrUOQ6ox2rcYKFH9794TNiTsF4YzKovvD9Hy62pRpkrM2k5XUczsBqz5TT89hP6MvYFRKkPTA71GQLEuJrpXl1mJQjV49B2BFWUKDOr0Z_uXK6YwqRefV5leKCogqaptITtiPb8SN58USIDwVJ6jts6WMqvHtnuGYDMj-gz2AX3G9agVtq-HRAfoCkDAA--Pdf8fYXgtS5VflxiLB-1NNPDGhrPRUJH6zQNH-hK-YTyaEpLbWq85v5g06T6tJF1I9LleYx6QzK_xTvGiG_60LKThwM-lih2cx_P-JFnJ2LS9Y6Ng8DSMxXv4cTK3hmSt2sEkjSqzL8oH_8q70nrhjeP0_fOXFUyiL_B7N8JUz6e1VFKHIfl4UqL8KBG_FuR4hWjc3ru27r&p=5&sk=&fvj=0\n",
      "https://au.indeed.com/pagead/clk?mo=r&ad=-6NYlbfkN0A59wcYcY34xyza-tGHHvoFi9VmmQCxgEiiRlhSWHWwxeJmlODOL-n2iN0W3blsGCfOgT_PNkmY89NwZpCPjswSf2V-6OxXz3wXks0pa_qCSEDJbu71buawfvM_xVeB81rdqQ8Iv8HaZ4rQDB5M82yACzx_dGRrKoLZlRHGl8xllW_o-UmI0nXuJKN5axf8NoLe0suwL7DBOLkkiYtJAZl60MTWX3nQLsgeyaVzOum5ErbBj7I-XccxMz9qk72WOtON2V2zgJUBXwtkbSsCWfZnLN9xjSzqFP4WQ5amuAmWJTGpUyY22fv4AgQXD3djrE2a-Ui4sBRNVRqDj01MpyjQyy7nOIK4GzNnjcTbea9cJlxvES6dYG7JQNufOcZpWt4jOoeJpFNu-qTbq_yTvctNuc-7GWFipwbSXDCO4EzNRQ==&p=6&sk=&fvj=1\n",
      "https://au.indeed.com/rc/clk?jk=9503da027c94a2f9&fccid=19965887b12a9294\n",
      "https://au.indeed.com/rc/clk?jk=cbfbb480e432cc49&fccid=d78fa583838cce44\n",
      "https://au.indeed.com/pagead/clk?mo=r&ad=-6NYlbfkN0BwQOinhhjytFuGzOalMzRs2-0HuZwQVlOp6LTq_X3BOplot1e9n7ywxrqIo5Eo-2gi3RO5YYY5DsHMLeE9KtYH56TzkdJUkbPdQQqb9o20jVxgBb7rJWcKTymd1E14eYwBy1bYT5avmrvsMAFqbRQ7L-a-t0Qy4q-5TJitAV6IwSlnQJ8VyKBQKkTmfksBvPfd1YdRkT3BbH3GUctic6FnezdXj8ZQAbYfRlJLDYnficvO55PRnw-5beFE9jZfo5P7JhZBJc7DVCRqsmAjM5WjCX2OyMchicAD0GxwZo1782LbmQ7fHQuWOg5-mri0RaKwrWGdbmThhud5ZJJSizp5MU-TNtfCwrcys4PO6gSn8Kx0Wbx9wco1GV6AXkKgMl9DsI4Z0GdnOy8NwmHgJxAEhqDNA9qEoGY=&p=6&sk=&fvj=1\n",
      "https://au.indeed.com/rc/clk?jk=1a77908c0202e2ec&fccid=5859d769d6a12c72\n",
      "https://au.indeed.com/rc/clk?jk=d1f5dae8e1891bb2&fccid=d5a1b2a143b1538c\n",
      "https://au.indeed.com/pagead/clk?mo=r&ad=-6NYlbfkN0BwQOinhhjytFuGzOalMzRs2-0HuZwQVlOp6LTq_X3BOplot1e9n7ywxrqIo5Eo-2gi3RO5YYY5DsHMLeE9KtYH56TzkdJUkbPdQQqb9o20jVxgBb7rJWcKTymd1E14eYwBy1bYT5avmrvsMAFqbRQ7L-a-t0Qy4q8nKqI_fYRODnjNgjFxk4Ls_xeU3nWinlY6FMjuJP_WemiJcvNaQ8eSUp5CJejR01mZ2oJxRPt5j5QIZmVt_h5S6-2RULmT_7YKrhwm0BmWcINC9Jj4UlRD4_nYWf-9pcBaayqPU308WZNptfSfi9sfZrA04znpgytg6lyG2EP_WtjwU4P_PELABKNt7Egbwi2reFarFda7Ld4j3QLREz3f9jQ-s1tIJJdeVf6msTqRiEJWV8E89rX2arzh2OUm7Hw=&p=6&sk=&fvj=1\n",
      "https://au.indeed.com/company/Brix-Projects/jobs/Plumber-Wentworth-Point-e185fdd36d310d29?fccid=6157541c1d70692e\n",
      "https://au.indeed.com/rc/clk?jk=02313ffc4d4b4eeb&fccid=9f0284b30110d75e\n",
      "https://au.indeed.com/pagead/clk?mo=r&ad=-6NYlbfkN0BwQOinhhjytFuGzOalMzRs2-0HuZwQVlOp6LTq_X3BOplot1e9n7ywxrqIo5Eo-2gi3RO5YYY5DsHMLeE9KtYH56TzkdJUkbPdQQqb9o20jVxgBb7rJWcKTymd1E14eYwBy1bYT5avmrvsMAFqbRQ7L-a-t0Qy4q8BLzWHJgiMQI5NWFt6nF-1jgA_q9uAsdTt4xSCyjw2LaSH8BVNQAhzOM_n627i8hWAtgelUSnmM5IuaDgWJ8z9utorKM7jZK-FgOYdH9lWwLPjWXVvNAiPisnKlRTOWijSD8MtevrqQG4mV_PKPYsbYltWx8as8h7W9QoiJmk8yMabMe0K3AxgkyQOrdzWNJ4SV_HFG4DpNkErLFHob9gG6ZwnwrmNk71qNdV-Sx20Ro2vFWB5rQvInFeEkCgIB6w=&p=5&sk=&fvj=1\n",
      "https://au.indeed.com/pagead/clk?mo=r&ad=-6NYlbfkN0C0JJUhbQVgzgDGx-dsYjlRJhHO4kZNv2z9s6LVeGBT1zOpjKM400f8vs6t0tYbmeIvHFb0emIq-feFs4GJsa3zrc0wSvK3EX17LvzGdwir2xXFeOsdN6K4PHWmeveDifbADLhLd84sOKxvY1l887WTyIDpjVcudRFEIv82OBurDRE--gwKQsBqIQz_ELSAiAtfpe_MPBVVU08IxPZ7mKkg10SuF8c_N-GT62RhdHv1ocJIydqCGnQhgCidw4cvKaahR08E9CUAZ_rS6etIa1TFk_B9aUGFaAlUrZNLWrYVZkWcj5U8H9ZjILOui-lhGbQqbH9183DdUIdZVbt0KgY5uZI7uzHMqHXUM5XLFRMaEz9AYyLCHCChxeW7fJLEnWUrJDKW4C4_gU8D5cUHHOqkRfwHfAV0ZXuEojmdpjkOTjnMc7Pjp1mNt2Bv6Csw3lw3G_ooM_n9AZEVaoJ4_HYsfJRp3HUpgWHk2Ejy8PM_SfDHigHKRWljDw27E_pQhf8TbkaA7joL_RUuowJ4sgV-C9O-J7AQ3gNre5rD0ImwBkOtalUAw0ESyHowqCAGLKeApH5mDL7Qiwucl59Oun8knIuIWtQOxrRxFVfYvhKGxO64wRKfylzJ&p=4&sk=&fvj=0\n"
     ]
    },
    {
     "name": "stdout",
     "output_type": "stream",
     "text": [
      "https://au.indeed.com/pagead/clk?mo=r&ad=-6NYlbfkN0A59wcYcY34xyza-tGHHvoFi9VmmQCxgEiiRlhSWHWwxeJmlODOL-n2iN0W3blsGCfOgT_PNkmY89NwZpCPjswSf2V-6OxXz3wXks0pa_qCSEDJbu71buawfvM_xVeB81rdqQ8Iv8HaZ4rQDB5M82yAskKJtKRaACOO-1tY1iuzGumdVDpc_ZUaZ0uI7M-OR7-GLBZ0c0A4i4cpfqclEb1b6Jw7bYsutnnE7P3iLEysv2EEf1MftvA5CJjYRM1OkmhhzRclQA-298DwW5msRLVdWZm8XmMdh7Tsgd26ydIJ8Tmkm4RoLeoVmj8LBjMsTzd4Mhm1VFIIxTagrLbH3nlPJFZnXwC77NqYbVKeqpcVBPUnKq_ML5hTE1AZJe1YCd99yhpDViWOcMyxwqXmqpuMjlve5djtOj8D9uXjRz-DyA==&p=5&sk=&fvj=1\n",
      "https://au.indeed.com/pagead/clk?mo=r&ad=-6NYlbfkN0B-i65Vz1NE2ltaHzTGFhVZlLsj7U06fPnKQvZm_GfHDX4xoIyjarUr3DdUgZQ8EGpVPrtoH0VKnRybN45FED3dgQX9VpQPi76YzHApgeD8QoJQdONcrk884D0C91hsdAzlwAW68K2yvqPBND4BfOojGTIM-MxkoF-Sv682o_eaAbjEcapVNauUbdEYtw4Sbf--t6eYvFkTjP_ReFw4lMYrZUo5r9nQcrbYlHgUqb336v4cvPWS4EwPR4yPrF-XjWZvbYviXOgX2doFtJyMGOVH5kUJE97PNYzqtf0l_t6AGI7FRyZZfm6G-Z-MGqXekeyxrlgxJa1N9CBm-8Xs_7gp1OS3Kq4Ty1CiOnVi1YNEr57BBEcQNmTg58OHILCDmz5Xy1UEoKrOuokvT2yoZDgWntuWamC0QMf0WJv7G7qtwnVtGuyQbx-MCbP6NmVxu8zIr1K_uDPx5ReOlEYvoGygwqGmdi9Hx4a2EAiZN4ojAA==&p=6&sk=&fvj=1\n",
      "https://au.indeed.com/company/DESIGNER-IMAGE-ROBES-PTY-LTD/jobs/Cabinetmaker-3b9b681801b677cd?fccid=4c73b8960354fc7e\n",
      "https://au.indeed.com/pagead/clk?mo=r&ad=-6NYlbfkN0A59wcYcY34xyza-tGHHvoFi9VmmQCxgEiiRlhSWHWwxeJmlODOL-n2iN0W3blsGCfOgT_PNkmY89NwZpCPjswSf2V-6OxXz3wXks0pa_qCSEDJbu71buawfvM_xVeB81rdqQ8Iv8HaZ4rQDB5M82yAGy7s5VRPT9u10WSkYj26dN3yuZBpRjkTwIAbKMnDvwiMOJ1fa7ru1iSuzK25JOrWBzZOlha6vNp73nMI2h6Rn7b_Jm0Bxatd3iUpHdnHwCRfLMaE2F-yfwnus29VBSmjIKjAf9w1_93ldynMGodGcAr_H0cAZ2eaYTL31Gi5bMNgqx2-BU4kKtenRkWrYE5qf1p2OBT0CFpkDszfHdG2YO37o7oV54AykwyDS2lQmDJmAHys2JAs3Fs-_23_xdHLsfBZae73Gy1m3UliQ4fW7w==&p=4&sk=&fvj=1\n",
      "https://au.indeed.com/pagead/clk?mo=r&ad=-6NYlbfkN0B-i65Vz1NE2ltaHzTGFhVZlLsj7U06fPnKQvZm_GfHDX4xoIyjarUr3DdUgZQ8EGpVPrtoH0VKnRybN45FED3dgQX9VpQPi76YzHApgeD8QoJQdONcrk884D0C91hsdAzlwAW68K2yvqPBND4BfOojGTIM-MxkoF8xtZ2ygoUnqbboXPTHs4OrEytnllRxRT3KyXK4La_fWkxjhibSlB3h0Akh_i8WMoDhWELgCXi0Af8qcMp90tNx6fBBsxXeJ6d16RLaoLBas_NrEadxR_54TEqIZNPKOtQ5eYytszMS5n-lCtmGX1-CjqKc7umUw7NHUTSDW2d4i01Y3lrlS6LKCE0scWGMqfGLQvIycNg_iDzwK9raSzBQvFACBROryl3QIZTwRcsBiB6424ZWTNI0CpNjaejBTPhSRL5uwe2sqTkaYUdDQzGD5MrXnyDED1ZgTHrLN9iyORfGHJsid1lDhmqDFMD8HUehKWu1ANKCMg==&p=5&sk=&fvj=1\n",
      "https://au.indeed.com/pagead/clk?mo=r&ad=-6NYlbfkN0C0JJUhbQVgzgDGx-dsYjlRJhHO4kZNv2z9s6LVeGBT1zOpjKM400f8vs6t0tYbmeIvHFb0emIq-feFs4GJsa3zrc0wSvK3EX17LvzGdwir2xXFeOsdN6K4PHWmeveDifbADLhLd84sOG5y-DeJn8GZD-dnncMTqD8HS9Geg1MhQZXvDeaDyUCiEqmOmIV4GFXMsfePH4aIKJRLtnPyHpNIGfPPPgrVDol3Jf7BAAdy3opuJ-vnNYvmdG_EtDqBC_9MFHv5kRwOcFtGvd18OrJyfwzTnaXT9aTICBhw_cAg_w07shfmhhpWYWZnzamaI3jGKYI-j2G0QUIFTRTT5g8JbqLcPVJRFoz1GxyhKDiotWswIzXJ_I1r3HeT9b6fyAczXpQJey7TTqw-GfAeJiHTeaZfMEIiBpWuByTuJSAwkUPehJ04Or9dnbjmwOW55lBfHtD5fQhMuSRXR1n2opCtx-ymO7MCI8QB5uUbdMUZVA8x5mPF9-pLnbmTbFuZsRztm_lxF9ccypPHoECylUw2OhjvCrSdAwyZAA-E54a0KXQ0-m7Inkn-3yqkQ2NbLR5ximcTKioePH21BJKKzj5_Thpn-uSED7jtD78a3Fe70ZuKIcCTizSU&p=6&sk=&fvj=0\n",
      "https://au.indeed.com/company/6-Pty-Ltd/jobs/IT-Apps-Developer-4bc814d61c9c18ac?fccid=57f4ac671a3ddb46\n",
      "https://au.indeed.com/pagead/clk?mo=r&ad=-6NYlbfkN0BwQOinhhjytFuGzOalMzRs2-0HuZwQVlOp6LTq_X3BOplot1e9n7ywxrqIo5Eo-2gi3RO5YYY5DsHMLeE9KtYH56TzkdJUkbPdQQqb9o20jVxgBb7rJWcKTymd1E14eYwBy1bYT5avmrvsMAFqbRQ7L-a-t0Qy4q98h1_w26O52HJS8CyFIZjRCTvvXyYG2E7WCjaOZoF0w_Ba5z65L-R7A0iIZmeG2Ymm5PMOWqcvs8BAGVLfgH6SIvW1_Bm2OTjw-uoxSPqLMUB3XV_7l9RBcA_h3T5ScBihTjMMf79DObgHpytSIvDV0kXnhF8IZYQrPVFLEBhng1g3Rerciwt4G6WwwdsrgoQ9ofFTHWFF2kYDLppgQhf1fxpUXGofmoXGmAJMtldLMHkQrcdg73cIRNChW-BJkco=&p=5&sk=&fvj=1\n",
      "https://au.indeed.com/pagead/clk?mo=r&ad=-6NYlbfkN0C0JJUhbQVgzgDGx-dsYjlRJhHO4kZNv2z9s6LVeGBT1zOpjKM400f8vs6t0tYbmeIW1NVlb76yL68Bt2mP2zMYkgNNtvqzIZks9ungJ5BawbaHs5swAR3VoMlB4Lmvk9Fwd-ps4a2UiNICKbROXwdDek2H9OF1c4GPd7lkpfBNfgQ8gI-9QaOzClmNawfTN0BbtF1lTK1qv07PbK4FpyaGCK8w1SnktnPfbzJtMnWCMoUYN6xFEGPTQhIJdhIz1mKLwabdHlKW7ydZpOIMPRMqT95RRIsa7jAub-Tbp5Zp4sVGtR0z0imDwL8B3S7LFz1aqJnT6bdaWzuoRaiEl7mQjH7cb6Rga3-jkKD1MZpDn1qZc_t75BDSicDB_1c5-vzMhmoUZu2ATNe7rPU8gvHH-pAVD_S6cQNR61L1W5dPQQZQ3ynDaooZ_aiQ6dnl7pZ19dgvVXssDgiQp_NGLXpayvx3yRrY4QODV0lsszMzL4JlcnQM4q0czrlnwHDn79zG5hGSrASED1XpGn1eeIWtQ5ltirwHpHxB5dycKZQQnezUy8yCJkqr7BA9hnRZHYr3-gCP9JAnBgq4XGkQVrryvjh5EVQsI3Y=&p=7&sk=&fvj=0\n",
      "https://au.indeed.com/company/MCJ-Appointments-(Pty)-Ltd/jobs/Design-Engineer-3b37a71551b56ccf?fccid=b8983d06f14d3b30\n",
      "https://au.indeed.com/pagead/clk?mo=r&ad=-6NYlbfkN0A59wcYcY34xyza-tGHHvoFi9VmmQCxgEiiRlhSWHWwxeJmlODOL-n2iN0W3blsGCfOgT_PNkmY89NwZpCPjswSf2V-6OxXz3wXks0pa_qCSEDJbu71buawfvM_xVeB81rdqQ8Iv8HaZ4rQDB5M82yAUv1NZPMD7c-LuTJU0FoaGDXnioDTf7pzAUCRjLX-iWmqAv_sixo3--gLAtK99kEMd8tQYmur9GjR_UPtV_etF4geXQB8Nse1WraGQSq8SwEeFg--1xXicnGgqJ2GwzDjmSDiqOBoxrCJ_3oHBzPQexTKzs7Gf76ELz0hTMKl0bamSqrfQKSwiBjaB1KPjHwx5RFKZ1IURT6e6jugc7gMQpujrgD09L9D6eEHro0sYyZPseaVBsM4HzuU5jb5WJoKVeXC84CnXYAcgtv_Jvxbpg==&p=4&sk=&fvj=1\n",
      "https://au.indeed.com/pagead/clk?mo=r&ad=-6NYlbfkN0B-i65Vz1NE2ltaHzTGFhVZlLsj7U06fPnKQvZm_GfHDX4xoIyjarUr3DdUgZQ8EGpVPrtoH0VKnRybN45FED3dgQX9VpQPi76YzHApgeD8QoJQdONcrk884D0C91hsdAzlwAW68K2yvqPBND4BfOojGTIM-MxkoF9DgOOKdfw2L2ouUaTIb2Aod4oVqEuUqvf9S-pOQsMUGbUIIWBgwHx3OC8fcEpJElTcBZxGIBSxOYZ3qKc2vWDqg2CP1AT30Dq_E3UQkbMjzCfNfEamiyK6y1NlYs5Q8GVJXz0Q3cqGADfhClW5_gLLqEaAfYNl7of8lnISP0Ot7CUlRqHiZ73YTCt4IHRj156jyZaWIg3LDwxYtz4pYUN8joJj2YSu-13E0d-UeURg2SelydHP_ZHg78po0e0uNeame4aSFIhQJXVZFp7nqBPn4WcZeXJNdgbyprCLVwgO73T7fxXWtiNM1SEBk8Cxyrvgp5gZZeLFTw==&p=5&sk=&fvj=1\n",
      "https://au.indeed.com/pagead/clk?mo=r&ad=-6NYlbfkN0C0JJUhbQVgzgDGx-dsYjlRJhHO4kZNv2z9s6LVeGBT1zOpjKM400f8vs6t0tYbmeIvHFb0emIq-feFs4GJsa3zrc0wSvK3EX17LvzGdwir2xXFeOsdN6K4PHWmeveDifbADLhLd84sOCuGja4AE7Nb4zGePcie0ECpxE5urYYtGprxgs519JFpY2rcMKk6U4Rbcy4mYjjt8Yso6GqI-2dK50mngK8X6peVnnNYDoUBXfDocbt6j0dWPqMU23ToH3HcPF7C0IWvGElaPrLY0ccDSQYzWNS9dQudfDbNgYthYpVLMN9XRi3IxR2YLEzMm3aUpGeQGTmSFYYb_CZiHhuFzSnmVzPDiD0rnzxY3GK4eNz-ItsOjq9hip9Vctv7cn09Q_BrXNTLpQ7LRctHDbOLDn_PTS1MUBjPVFmfGoUsaA85NCyL4St-gXmjGhTXsA-avZBxq9A2OoYJmRmcgmTA9NVBh_5GMLCvzvDcvWEtEfYFPE3C-SRuLTDF7cJuUO-4QOP0TpIleR-fYgewkUEx8DMEJzXbMG1bLv4dxp3iOtD-rxLHSiNQdI7VYudBo2gwm0dyvT9NE5-xFRkaqYGjDtsVAWJqBVYNX7gS25xCAsuincnBSdCC&p=6&sk=&fvj=0\n",
      "https://au.indeed.com/company/10x10-Philanthropy/jobs/Digital-Marketing-Event-20c0c8cf83be564b?fccid=26bf1efede5bd1a0\n",
      "https://au.indeed.com/pagead/clk?mo=r&ad=-6NYlbfkN0A59wcYcY34xyza-tGHHvoFi9VmmQCxgEiiRlhSWHWwxeJmlODOL-n2iN0W3blsGCfOgT_PNkmY89NwZpCPjswSf2V-6OxXz3wXks0pa_qCSEDJbu71buawfvM_xVeB81rdqQ8Iv8HaZ4rQDB5M82yA_eCU1g9Y7VQG5xpjQ9MPKzui2CTGnTjStZygf_MiM1WEQryN4Kb8JAkj5nVOWNFWouL3QQv0W53dOHBhO0ozvlom5wcFKE-5JxAr2x1NWma38r3rjZsiYAzayUioFMiJwhwcCwNgiNuCbDXvvY38-V0hK6zrpZvRQvo0nCNgCulyw7syq47y5r2x8nguPNE_DV5ESXnzv8pg849YAyI2CBbJhH0ctCGgknStrJfyzKxw1X4_1C030S8NEDOeF5WMUGKkp7NIatBBBk8pJ3AgCw==&p=4&sk=&fvj=1\n",
      "https://au.indeed.com/pagead/clk?mo=r&ad=-6NYlbfkN0B-i65Vz1NE2ltaHzTGFhVZlLsj7U06fPnKQvZm_GfHDX4xoIyjarUr3DdUgZQ8EGpVPrtoH0VKnRybN45FED3dgQX9VpQPi76YzHApgeD8QoJQdONcrk884D0C91hsdAzlwAW68K2yvqPBND4BfOojGTIM-MxkoF853SQJgLa97Eu5P2YKvIANTseDPxRUY3LxngLNCIbu5U5vo-d3f1_HpGDwjVU9XBWswp_AM1fPLKXZhzNGSbE-gMQ5nUG6cticotuYexbvNdZVAmOle7v6d7ZN_Ebqj9OgOFwLrIUpOj2IoKUbJB3n5kP7qESJBU2lKyAAC6rsL8KfbiDgSEzn55irtYHoSvsj2RN7gslp5qEgi7Ig1Qf6Qc0jEO9IxGW5D_yyU43citcqUIiUEo44sJvOwprsl89z5hwIM3EkeWAjb6CrT5fByZEuarEtDOxiXYvFEumwPCknn-6dGWh6-mX5IgWqOjoChjyENo5t6g==&p=5&sk=&fvj=1\n",
      "https://au.indeed.com/pagead/clk?mo=r&ad=-6NYlbfkN0C0JJUhbQVgzgDGx-dsYjlRJhHO4kZNv2z9s6LVeGBT1zOpjKM400f8vs6t0tYbmeIvHFb0emIq-feFs4GJsa3zrc0wSvK3EX17LvzGdwir2xXFeOsdN6K4PHWmeveDifbADLhLd84sOIf2qb-g-QoNXa4BTvkLORZZUlWGdqXaSZh6ZI4eTpSK07nt-aEVKUHt8zmb3Lvk4PEUKmm4cKov4e0FJBxCP1sB2w4mPwdI1WqmYT6jD9xORD2cEZbOAuhGCeAS6pO6aPOAXEbrqY1agH7AufjDyhFZgTzRL7x3n5558pYpLnsvgce8Kb-cY43RPYNah48Qicb0EKpTPNONtbG4XUAiPii7xWMgL1hkrd7Z6K5KocwbWd84dn64vCumuVqEVhu_jLxp6QppOYz_qubXKFaVB_eibNn0LDiFmyQXwfr1Pi5HHCd2S08m4AQY6G4X9sXkxuNkpU1TAHnJXzRv6P1BF8gq_esa6kswFIhpu-qXSOt4MSxP9gmIqHeO9nk3S37NZxnj7RZMWOuc8Ok2Vbh4ESvyByBbhknT2K6sjzR344XcWbS9oP_GKX6QYkKgNqVFMlyWSp1M7xduz5mpANtgccUPeVNUbeNtNChskEYvBW9u&p=6&sk=&fvj=0\n",
      "https://au.indeed.com/company/Momentum-Consulting-Group-Pty-Ltd/jobs/Offsider-d5072edd093ca6bb?fccid=91baf7303f2d8a17\n",
      "https://au.indeed.com/company/Sydney-Pharmacotherapy-Clinic/jobs/Clerical-Assisant-32ea55775e75ff0a?fccid=3b848c11ec38e0a4\n",
      "https://au.indeed.com/pagead/clk?mo=r&ad=-6NYlbfkN0BwQOinhhjytFuGzOalMzRs2-0HuZwQVlOp6LTq_X3BOplot1e9n7ywxrqIo5Eo-2gi3RO5YYY5DsHMLeE9KtYH56TzkdJUkbPdQQqb9o20jVxgBb7rJWcKTymd1E14eYwBy1bYT5avmrvsMAFqbRQ7L-a-t0Qy4q-Ete-YJ-FjJprE3FdCpUv4IRmh1yxyeBaEqOo35it26hbNzphJl-HiQvJ7seeArQkWea23YCD1CtOixsVQgAf4ZaKzPcGlhy3-CkoXpewEp5iPrpIXixax3OcO5BPJX_lcD-47AoAQyIiPXxdrlKC93X2pW0Y8cENoBuyYWyj35VZu7iGxXVsCkpi6fCw93lVdEYEb_gO5SVnI7rCIt52z91RMoPjVPys2EVJtYcxzQECsZYzWoM7IkSgxeDD7wsU=&p=4&sk=&fvj=1\n"
     ]
    },
    {
     "name": "stdout",
     "output_type": "stream",
     "text": [
      "https://au.indeed.com/rc/clk?jk=dd9dbb503a47dff7&fccid=dd616958bd9ddc12\n",
      "https://au.indeed.com/rc/clk?jk=3f8bfa067211964d&fccid=f6aacd676612b346\n",
      "https://au.indeed.com/company/Eniax-Pty-Ltd/jobs/Customer-Service-Representative-be4004c237897a71?fccid=ed1b89b8e09adfa4\n",
      "https://au.indeed.com/pagead/clk?mo=r&ad=-6NYlbfkN0BwQOinhhjytFuGzOalMzRs2-0HuZwQVlOp6LTq_X3BOplot1e9n7ywxrqIo5Eo-2gi3RO5YYY5DsHMLeE9KtYH56TzkdJUkbPdQQqb9o20jVxgBb7rJWcKTymd1E14eYwBy1bYT5avmrvsMAFqbRQ7L-a-t0Qy4q-NW5fK-HOgFU4nIaqvtD-Kl_lWZ6t_wjYPjrM5Y_0z8X8HAe5yJ-LnvJs2U2CIzpCJOGyYtrZC5ZuHMPCsb4Nii4GfNoz-hdQg_GltnXZ624XslK_OmeXruhe-UFwAF82n39C-7FiR96izL-Wk3EvV6ZZ49pCjiR8x_-y2AwOV-xaCSQ6mVDPRFTXA6_guTSbfIEtRET4i7y58CkgNbakwCrakAQA3GK2g4d2FoeNaGNSTZPufR6PxWkk3YsypB6Y=&p=6&sk=&fvj=1\n",
      "https://au.indeed.com/pagead/clk?mo=r&ad=-6NYlbfkN0BwQOinhhjytFuGzOalMzRs2-0HuZwQVlOp6LTq_X3BOplot1e9n7ywxrqIo5Eo-2gi3RO5YYY5DsHMLeE9KtYH56TzkdJUkbPdQQqb9o20jVxgBb7rJWcKTymd1E14eYwBy1bYT5avmrvsMAFqbRQ7L-a-t0Qy4q-rBoG8ZvPr97hvLnjo9EWrMzYrLlf2iXG3T6b73ZTvDEbNRAe943yO-3M7PFo30ZPEcUYV6LJHi-28QoOh8JRSQDJhDLw5A3jrNIHM3FJk2JyuTcr7DXL6DssxqMw9yIoKnmaPOvCs8fRJvmsTL5fSa7BwA7brEzCgqRowP09-gBqy1ABsj2BYx2_UeTXvBKXWL_rtE6Udl1a0waR32cb_0wAWqYW9nK7wSMHYzlBiS2N7NelIxmnmnDG-l7Ew4-I=&p=6&sk=&fvj=1\n",
      "https://au.indeed.com/pagead/clk?mo=r&ad=-6NYlbfkN0A59wcYcY34xyza-tGHHvoFi9VmmQCxgEiiRlhSWHWwxeJmlODOL-n2iN0W3blsGCfOgT_PNkmY89NwZpCPjswSf2V-6OxXz3wXks0pa_qCSEDJbu71buawfvM_xVeB81rdqQ8Iv8HaZ4rQDB5M82yArMp09UMxBcelZXgFkihKCZneFvP5v1QbpRHfdqcRmXt7IPGh6pAXCZiW-WSxPMfB1AN0dYg6EPDgAaS1qKG9rYnq1Bfx3Bf9BM5CaC-a3jD-ctzfoIfzNHLzupYA1oX0vyrMSZbPpI-lwo-JLBr1S2FpG_DNIjUUQJMu-Ab-N2I-gW749uGX7Nng34e5US1uTqlw7ewozaMmxDK4WFpIqNueNnK5Ie9624ZIUmDHe055JWl7WCJ_jhuqGDwKVHScHHqL3kZ-oXH8eYBFQBevLA==&p=1&sk=&fvj=1\n",
      "https://au.indeed.com/rc/clk?jk=20d531e3bdc490fd&fccid=9f0284b30110d75e\n",
      "https://au.indeed.com/pagead/clk?mo=r&ad=-6NYlbfkN0B-i65Vz1NE2ltaHzTGFhVZlLsj7U06fPnKQvZm_GfHDX4xoIyjarUr3DdUgZQ8EGpVPrtoH0VKnRybN45FED3dgQX9VpQPi76YzHApgeD8QoJQdONcrk884D0C91hsdAzlwAW68K2yvqPBND4BfOojaZ-UxNX9xs315nYXQtMSa3ABpJ9QmWnfs1VnemrxH0NYmzVRzR4Lb2_TNZB0ISZjCl2p0Po_4P4veJ3hyoNUEilqZRfLzt0eAHX36Ybavu-DQ0TvKelfyWK4Py7CIR60VAjcX-pESBIiA9OTRAA4U-gT9zN9Hhg76CfHIHgGnpsqHO2eZRV0XBrt_WzmNBG8WOJZEbkpXMF5v2lyecpCufbUsc3JVaIZOm0lFnMOVNB3VcABgbg4pWYHOxBwD6g_46BGXUIvdunkOEe_fj3XWhbxhE0F86AfIGLfdHVsH9A62_6XONIkF-JIdQkz0BPKE4dU_NK9U45cMba4IrOzYQ==&p=4&sk=&fvj=1\n",
      "https://au.indeed.com/pagead/clk?mo=r&ad=-6NYlbfkN0C0JJUhbQVgzgDGx-dsYjlRJhHO4kZNv2z9s6LVeGBT1zOpjKM400f8vs6t0tYbmeIvHFb0emIq-feFs4GJsa3zrc0wSvK3EX17LvzGdwir2xXFeOsdN6K4PHWmeveDifbADLhLd84sOLg4HAJA05Cfug6qL0kgJupZq7UmntSMClNgNowiYp_Tv6GvEUUeblDm6PPE1NMFqlxMOLucoZn1FGRcnFhOwEMRIFryJv51Euxqe8XL32FQA0Grh3f6OLk6dVLv2qhCYmImL4GKaqUL9PmK5YsMyWDhQCt6H1BVdjkMzURAZeoZHg_nZoleAZvPpY6yk5-llHRE0-Z11-gOPwKqtINf6tz3p85lo12oer0fPLpbWy1iZvLG6Zwtt5NxsN6uWU-hcred0pYYOlHZz8IkWOROignT32LJ2RPuHTmsMGtOoCmoqcpLnsH74_mMRSG_Ii41hRSn60vlG7tjTyQyq2-hSIFZYsGtbxF3ldnqh-bL6YEQWC6BbY4qmy5Ue0Dadb5bDl9e4acGOQcbD37rnIYHxAlzyPEK5fiKNf30pO-J-u6huRK0q6Vs6ibGRn3K5ZAw4LFDOLQShBJXzbwssGL3x0DvskKGGskbTT0rH81gzEHj&p=6&sk=&fvj=0\n",
      "https://au.indeed.com/rc/clk?jk=6e053795e66e7252&fccid=c6087990a1c62897\n",
      "https://au.indeed.com/pagead/clk?mo=r&ad=-6NYlbfkN0C0JJUhbQVgzgDGx-dsYjlRJhHO4kZNv2z9s6LVeGBT1zOpjKM400f8vs6t0tYbmeIvHFb0emIq-feFs4GJsa3zrc0wSvK3EX17LvzGdwir2xXFeOsdN6K4PHWmeveDifbADLhLd84sON77WAO6-FGlrYvJW8iDKdBmLsARZQZ_S4yYEYDUvMeU_mdgDmoiAuL3o9skumakfwB_u6zQr77aUPIqFmGccHU9TYQToZOsKU_O7OwhlGyR2sk9bY-Lg_RmipEijz-7rHxVFixroL7o6WPd-FJOA78HMScwQ7KNi_9Z6aonATE8DikdXAkNawry_xJLombHHHq1yClmdLscDh0e7EYLY-OKdLh00t_wF8Wyt7B8FydgYNk_XHCf-EPeGQhOGrUVqy5s9goc9TPp5zTuAeasD05S_NEr8i3bZyAY9vUjDsCXwC2E1AB_VKBMdXqX3ftcK58ZphBQd5B4hvJZ4A7PBCvNWdf8PBg2eKtTeUIUtkclUrSYxm4XM3G9V9NBf3IzXO_wj37TKjd8rfwy2rkYL46qPUmkIoX0BtYRGOWolOohCpj8i7-7KHqZ_bXp3W0AbumHCxbANRvSpCfa8RESaqaKrAIrhk6fziMRTHa380K9&p=4&sk=&fvj=0\n",
      "https://au.indeed.com/pagead/clk?mo=r&ad=-6NYlbfkN0A59wcYcY34xyza-tGHHvoFi9VmmQCxgEiiRlhSWHWwxeJmlODOL-n2iN0W3blsGCfOgT_PNkmY89NwZpCPjswSf2V-6OxXz3wXks0pa_qCSEDJbu71buawfvM_xVeB81rdqQ8Iv8HaZ4rQDB5M82yAO-40oUA_vEE1ajQ7q_e32pk2a7yE04wHZM-kz5caqvYzTN_1aiwfbCqLu70FEMjjzjv_Yter1I_nsP-5m3gW5VkndK6SJ4sBl2ZLCJxEbM9PEpaV3xYivLNU7d7to42V25QCkLWLTAq0rvcy3RFYUf98s8Fvi4JCdHFvV2m4D2w7buN2vU8BtiECUncGEUKSodl6wyEp0TO_FPf2bx66w5x_mE2YVZrP9Y-UIbzf4VEp_VDKmoRTUIJVr92pL9cLMOzAexlYzkce4YjHEPWZfw==&p=5&sk=&fvj=1\n",
      "https://au.indeed.com/pagead/clk?mo=r&ad=-6NYlbfkN0B-i65Vz1NE2ltaHzTGFhVZlLsj7U06fPnKQvZm_GfHDX4xoIyjarUr3DdUgZQ8EGpVPrtoH0VKnRybN45FED3dgQX9VpQPi76YzHApgeD8QoJQdONcrk884D0C91hsdAzlwAW68K2yvqPBND4BfOojaZ-UxNX9xs01t6tlE9qSWuhbAdRp3_JzXhYNm0WsSiUhMA_jBRg0d_R31zGMXVkLkNIvrZefZrO-V45MUHvB7Cd68xqRtoONUfBgqpEITNZqcDuG9g7GqDWGzXyMd6I-oW2wMsXACC6XB92hMGx-4VmL4Ms8b34p8L13-FC3ixGw4dIuBY2kswX8HOwv_EFsHKU-AG682xb-ZD3A-LVxKQGmtg6OXsdJOX3kLiFdFaF2SnUG7Up4gTX5bZScIFUTXyMhoIsiSFtlqVLBm6rlJfMjAqQfU2lAAneLO-gQmx4N1NB8cXp899c4INJXiLJ7Ls19itnzZ4XdHGShrJUP-w==&p=6&sk=&fvj=1\n",
      "https://au.indeed.com/company/open-Systems-Consulting/jobs/Analyst-Programmer-06fb9ad880a6ff4c?fccid=e69657ca1ae90928\n",
      "https://au.indeed.com/rc/clk?jk=904047c3d179cbac&fccid=893f9f3cd9fe4472\n",
      "https://au.indeed.com/rc/clk?jk=7a1b84280659eaba&fccid=f6d0001cc5a58674\n",
      "https://au.indeed.com/rc/clk?jk=21d58a72e1402c1d&fccid=587a90c72514ac83\n",
      "https://au.indeed.com/pagead/clk?mo=r&ad=-6NYlbfkN0A59wcYcY34xyza-tGHHvoFi9VmmQCxgEiiRlhSWHWwxeJmlODOL-n2iN0W3blsGCfOgT_PNkmY89NwZpCPjswSf2V-6OxXz3wXks0pa_qCSEDJbu71buawfvM_xVeB81rdqQ8Iv8HaZ4rQDB5M82yAlWS4HNolVfkJopbW3XVV2W-hp0708GOv1eo7nSb8ONFrIaSSBV1zT8OY2jd0QXFDEQuGJYkS35m-Z78vLA9ea7eHoz_0RbmYljOx8Uhjp15Rq-ECyPG45kIoaLPgJr0S4_JpPLVU8pU9KU_q0Vizi8DAG52-K5lWax0NYxP_drjFGve29Zly1GDl4twXUZGz7deC_wWQxZlkzvoQThYx463RbhpOEZspZQQbei91-_f3UWA8SAzQFCJkm0rlw9IVMLvXcZL_zJkiIdfabVte-Q==&p=5&sk=&fvj=1\n",
      "https://au.indeed.com/pagead/clk?mo=r&ad=-6NYlbfkN0B-i65Vz1NE2ltaHzTGFhVZlLsj7U06fPnKQvZm_GfHDX4xoIyjarUr3DdUgZQ8EGpVPrtoH0VKnRybN45FED3dgQX9VpQPi76YzHApgeD8QoJQdONcrk884D0C91hsdAzlwAW68K2yvqPBND4BfOojaZ-UxNX9xs2yuJq7NtNKifaP57zRRjsoRN6uLwUO8zjmBljbk4593s07C5kLaTU71Kqv3vs83AApEn8v8Wv0eMhx019Ew6fmed5fIDqrGa8hOGzDZfgFU54fTZlx97y5Dobe7PPoYdOLuSct38e7I5yexDCnleC7EVOHJvs_-e8vFxgkub3fxQpjymHTNk_73zaLZP60km7hgqb0m64AnF8J3tSCyhi1UtjKQ7SLaPDVwHDYDwUSzmXfFCYu0ADi682g4N2decKJEIRgk0v-ePoVBNBokjxNsy0l3guQVPbYh3oBh2vBxdz_JKcbP9D8AEhPkAecVlFH_MAEcJZJlA==&p=6&sk=&fvj=1\n",
      "https://au.indeed.com/pagead/clk?mo=r&ad=-6NYlbfkN0C0JJUhbQVgzgDGx-dsYjlRJhHO4kZNv2z9s6LVeGBT1zOpjKM400f8vs6t0tYbmeIvHFb0emIq-feFs4GJsa3zrc0wSvK3EX17LvzGdwir2xXFeOsdN6K4PHWmeveDifbADLhLd84sODQhq4yyHUNxE48r72zHFLUnYg_NRYRx-pOXiZUsS5r9MIpwLnwLPY-jTeBfUTJtIcEp7onzRxkPeTYbEXjfGfcpDm_h5ZMaNCwDCrAIaAHFlcGR18GLfPGyLgsvAk9qb2kOKsrDVDGzz8j0G3kH4ZsMwqBk6ZwdQhh1baIDxJKI3IyWfOLV0id9yimdITvYdHRCPnMLLpAbGAdI5LDoARmvQN6SPvSkD6CskG4e3ABOKMUeE38Ywf6Vii_vuqIzUy2Z8ELBmeNBqi6SM2_EU4q0uAQ9_cG39x4A6M62kwdt17LaLMnSSgX2-rGgqbLMUGd13j-uQYEKaF_UhpcApI32VzpRLbW_aMgNzQRhWELZPfX98vBVq1ripfftDqkc-WZVMFxyw9pWcQCTxsfZjVUfvZWcvNluICOhWq6QKbEzNx3RiYEimoYbvmmi_21SzwYIMG3El_biL4J0dTOWTdCkBESF7LdVWdz1-JrMlB0p&p=7&sk=&fvj=0\n",
      "https://au.indeed.com/pagead/clk?mo=r&ad=-6NYlbfkN0C0JJUhbQVgzgDGx-dsYjlRJhHO4kZNv2z9s6LVeGBT1zOpjKM400f8vs6t0tYbmeIW1NVlb76yL68Bt2mP2zMYkgNNtvqzIZks9ungJ5BawbaHs5swAR3VoMlB4Lmvk9Fwd-ps4a2UiDjYtlzUl8wzEvMGfc1EYEFU21gjr6jNwzF4-1eTMe_G6hfOM1lOkanEti_qNUZ3d1KRcxXYvVksvAczTh2U8LJbA4mKBkRRZQ-vm6ZZ6f34Wo3tM8AM0nXhjWAq9g4N3MdIjy-UhXzAYWjmrHTAlBRTYh4B1RZS0ymgyel-ttiZ2-xrWg7GQDEqsnHRA1uTw1Nqop086yJFywbvHcVsA_z5XLqWzN3U6ZEsOFjQHe-qutUo31QNLKy5G27k-ApVyQb3kWoTKLUblPlXsOAJSJB4GLN5jged05KQmprGywuwN1hyb2b9e4q04UbMJj6zrsOJAJQ6hTCdJzsA3O-WRMZ4tbjoX37AztB1Jp0WD5nFV_1pxtaORyUaCxVhX55BIrEZ9W5RCdaARfB7mneWVMe5MDh9tuYQk5ZWBpCmq14zeayiw6nFZWVmVcvDts565IGKsOFKvjTC9QC9RUuDbeE=&p=3&sk=&fvj=0\n",
      "https://au.indeed.com/pagead/clk?mo=r&ad=-6NYlbfkN0BwQOinhhjytFuGzOalMzRs2-0HuZwQVlOp6LTq_X3BOplot1e9n7ywxrqIo5Eo-2gi3RO5YYY5DsHMLeE9KtYH56TzkdJUkbPdQQqb9o20jVxgBb7rJWcKTymd1E14eYwBy1bYT5avmrvsMAFqbRQ79lMsKlpFXjqGUWcjCo7eq49DjOnaY9rciYFFibWLJNCJJn4hCBYpM9qTV7-7TjdZhUU4z3OwsqdjwiW2EcWRU_qNYYkoZlGF1avAXbvnljdZi-WJkGI5HdYMmh4AN8UpJnvGu6qwVJ_gLPYs5AEMeX1DEGNI1nzt6NhZYvyc6pR747o94q8j-wp0ma_q_kSNO6E8ihyA26xwxAI2-ba5JMsDOI8CKhYCoOSfXOgz7ol4nnx-e2HIcQJxvR3IIauvagAOG2BTb84=&p=8&sk=&fvj=1\n",
      "https://au.indeed.com/company/BlueCHP/jobs/Contract-Tenancy-Manager-ca8775d813ab12a7?fccid=177769f5e7579715\n"
     ]
    },
    {
     "name": "stdout",
     "output_type": "stream",
     "text": [
      "https://au.indeed.com/pagead/clk?mo=r&ad=-6NYlbfkN0BwQOinhhjytFuGzOalMzRs2-0HuZwQVlOp6LTq_X3BOplot1e9n7ywxrqIo5Eo-2gi3RO5YYY5DsHMLeE9KtYH56TzkdJUkbPdQQqb9o20jVxgBb7rJWcKTymd1E14eYwBy1bYT5avmrvsMAFqbRQ79lMsKlpFXjq0t7Nxv7QSDsL2X-JoE0_Mk8l6PBBmkh7HI_3u4iWljBJeqzCUh7WXvGPh6VRyRWLZes2MuNY8AtL4nyy2d_J57ajudMVjhrZKQEv-sM7Aq8_8alu8bfyx1ubF_JnsWb6TsDTZawKPZJy4Twv1tJGn76sFyJ6fCEccJGgYijWhT8B1Jj80Td_DpdVGxXT_CtQCQimTPV-RjbOitPKCQQs96dwIVMTojCtBYsf4PlN0cWGGnHozGV-buQtlxyaelbg=&p=5&sk=&fvj=1\n",
      "https://au.indeed.com/rc/clk?jk=939b57eb4157e892&fccid=ea1f64b071408cc5\n",
      "https://au.indeed.com/company/A-N-C-LINK-PTY-LTD/jobs/Sale-Consultant-Representative-02588dc9fce03fbf?fccid=9a0f808d168af9ca\n",
      "https://au.indeed.com/pagead/clk?mo=r&ad=-6NYlbfkN0BwQOinhhjytFuGzOalMzRs2-0HuZwQVlOp6LTq_X3BOplot1e9n7ywxrqIo5Eo-2gi3RO5YYY5DsHMLeE9KtYH56TzkdJUkbPdQQqb9o20jVxgBb7rJWcKTymd1E14eYwBy1bYT5avmrvsMAFqbRQ79lMsKlpFXjqI9FrE0CYQEVLA0MW8qmpV4s3Ucldc2Z7wsPF-5K5IgESPMezUSh8ItTe1AuDmnCU4vt_aFo0e31xqlhRSBC_NRfCIo3aephXVQpPoMYSuOCuWeRLY4Dg27M2MLESXFxDFubJ9ar_9CFx4bNFEpYnr1aDTVR9Yv3STvmxAE8DpHDVXS-G-ILg4yeBAmJA0tl3v3_K8qFLptX8AfwTxOpiDyKm0pzCtnzzCpZYDnCybQls4REK93nC-OgbL6ldBWes=&p=6&sk=&fvj=1\n",
      "https://au.indeed.com/pagead/clk?mo=r&ad=-6NYlbfkN0A59wcYcY34xyza-tGHHvoFi9VmmQCxgEiiRlhSWHWwxeJmlODOL-n2iN0W3blsGCfOgT_PNkmY89NwZpCPjswSf2V-6OxXz3wXks0pa_qCSEDJbu71buawfvM_xVeB81rdqQ8Iv8HaZ4rQDB5M82yAZ39fDsi8Q6D_oX3x0D_Rs6T_oyvD9fw6PV2fVcJckzZGuB0FUIuMMkrUMwxrwYD6pier4i86oYAzgzsgM0xm_oLI6CpQ6gS-NoOY86EWxTc4GdWkX47g0fQ4L_jODvXgt3FWZGPQxPa-gtnSiKji87mxgpvVT8EaEYxgdOLHRCCs3zJlRKVLoKiEIjm70yWxpw9AGCv0sS4s0gitjCx7IwiIVK9ffk7oSbrZbzxH_Kwj94HFZeWrvYrSyDoNobgjtgE_bp39hvNC8F4qz6uxmw==&p=4&sk=&fvj=1\n",
      "https://au.indeed.com/pagead/clk?mo=r&ad=-6NYlbfkN0B-i65Vz1NE2ltaHzTGFhVZlLsj7U06fPnKQvZm_GfHDX4xoIyjarUr3DdUgZQ8EGpVPrtoH0VKnRybN45FED3dgQX9VpQPi76YzHApgeD8QoJQdONcrk884D0C91hsdAzlwAW68K2yvqPBND4BfOojaZ-UxNX9xs2DwX3d_sC4eStEhXfUrvVMTSutGrzCN8R__UQnEtX6tG1zOkRkqlgTfxPJBS93sVw7LRUucpsibmNlOMzw3FW3O2zGqnRarcDROHwlxv2XF3x01eUz5j0XnqNZaFXMYGXHzIG7qzSlFN6Cft_qIFoJBb5lBhaPN89uD2jTjs4FMpK_lLaFfUsB4j70yOF4wGwxocbtBDj1JnxMm48G05UhXiphyUYiz1FMfeiDbL5UoSWk4W-3Wdt97b04MeJHvk1nHufCP-kPUWum1dt3a8poB_fcY8G870iQ8MR5taHRg1n71TUdshgjeZ3M_svi12DmSiZmMl-L1Q==&p=5&sk=&fvj=1\n",
      "https://au.indeed.com/pagead/clk?mo=r&ad=-6NYlbfkN0C0JJUhbQVgzgDGx-dsYjlRJhHO4kZNv2z9s6LVeGBT1zOpjKM400f8vs6t0tYbmeIvHFb0emIq-feFs4GJsa3zrc0wSvK3EX17LvzGdwir2xXFeOsdN6K4PHWmeveDifbADLhLd84sOAOHbMNjCoevelCLV66gREy54lCAWTn9GSdPO74vgepUtAF7Xl2ffUp_2fTbQpb85ZNKQWZLqgKunuYScnh7hyNcqVglCcM98-oT1PdgSmGbAtFhdouQER2a1B2Hb6_louNJQNUNwqiB_gnQeH5dn0-x6XN-bxukTTG6AeJVPas3a0Q07LYnJNTIkUEfJy_bVSrffe-MSStJ6m5msAESDZHZYyIyZgXv1vTRLq34LrytbUEcxzaZ9JTW9QziM1wGPiWRNAB9yeTmr54boYu-ZosNMFmYqgjEFUokHajjujwTOHtNlpUaXxzHdItISdjmOo7_E23_RllBeBNzxQ0MY13kul-zZHPxtXAGJH2AMCc2_bW0JQcoIeW-UDKX_gB-UETpPjwIjYcwhKkC3IyDq0pgZYf6_sf_g-ckPwL5COLYAoOg4GvBdQXjF0z94PYkDyACzdIz-ruvUcdq-R-u0ntdIa77VwXamKzJVgc3Kze1&p=6&sk=&fvj=0\n",
      "https://au.indeed.com/pagead/clk?mo=r&ad=-6NYlbfkN0A59wcYcY34xyza-tGHHvoFi9VmmQCxgEiiRlhSWHWwxeJmlODOL-n2iN0W3blsGCfOgT_PNkmY89NwZpCPjswSf2V-6OxXz3wXks0pa_qCSEDJbu71buawfvM_xVeB81rdqQ8Iv8HaZ4rQDB5M82yAE5AZ3DJQHUXKi8vC1-oEXmLY1BlFgpnAouu6yA5apjJpEkqxACnW0YaOm-mFm9gKoaM_I31lMB7wLI-LjjkAn85uzM9YntHG0smT6l9RCYJ4xTMaDySphPGxbWUUH_-KMHR4rQz_07vgkDaAyuT8A9Ty4TKXUbmVl9MeE3Onvm-rZ2EVwft48yzyCxrv0t9CpE_h6wTf7WSsGZkCnCpsPXlEUeBrKdNiYheU19tTPOdn4KD7aB_NB4sCKR8jNOk3JeeXYOhKIrc5UDYDI8Vz9A==&p=1&sk=&fvj=1\n",
      "https://au.indeed.com/pagead/clk?mo=r&ad=-6NYlbfkN0B-i65Vz1NE2ltaHzTGFhVZlLsj7U06fPnKQvZm_GfHDX4xoIyjarUr3DdUgZQ8EGpVPrtoH0VKnRybN45FED3dgQX9VpQPi76YzHApgeD8QoJQdONcrk884D0C91hsdAzlwAW68K2yvqPBND4BfOojaZ-UxNX9xs0mOgeQrQwgBAE3pYuTyptytQL9pMmJ1fUH8G7eViDZ2ZRx8gKqossp85E5lNJOR7rBiyNYf8ob7mk1Cmk4sB11k7S-aDX1Idr2yQzqXLG6zumsFB8re3spbJYvnE_4ZglLYwDLd-qxK1a6ZfDeftBVMzVg-rzFOwZ4CvKXeZVsb1YJmfLOa39LYGwqUcMjHHxdrZZnpwLtuK63gH4jtQQJe5bBttck1oU6f95zkpk6x0lgcrZw4xzpk4l22y878VCAly7sX6hmDBA9lBEHFn-xlZpr-zAfdZql6uquYAOWc0sxiobmPQKyry9B99L5EJ8O3f8OKWjEtw==&p=2&sk=&fvj=1\n",
      "https://au.indeed.com/company/Brix-Projects/jobs/Bricklayer-Throughout-b286f8cdfb0ea178?fccid=6157541c1d70692e\n",
      "https://au.indeed.com/pagead/clk?mo=r&ad=-6NYlbfkN0C0JJUhbQVgzgDGx-dsYjlRJhHO4kZNv2z9s6LVeGBT1zOpjKM400f8vs6t0tYbmeIvHFb0emIq-feFs4GJsa3zrc0wSvK3EX17LvzGdwir2xXFeOsdN6K4PHWmeveDifbADLhLd84sOFi_GL98aXMIXWFA3usAyctHJDeSxpV6fkm7FUoOmjcp0ZBAJJ7mxfogowNUHmIgjO0d22N-FfY-I_fhQpg7rCnJ3GWlM778oGaUf0za8Vm-Wde-91drAFtXW0gUxJVcT0VroLHCEPOaH6yxP3gJKcxUkxd3OGzVXCfAF8gsUVtcxrZM5nI0DMbnlWaYNehS-RooDNGer7oBDyxHD1ARXCGrjEAkn0ipaKGBcd2ybUx_457KuwKS-NqhYLQu24TKSrPTDDOTDNbBD601kQXSz4TUrwx3ufBsZ-nHastIpIFV8csQK0XUg07yEmCllxg4Y8rM0LvUv2EIZBaTEpCg4uXbqZYPUNj6FjpCTIM6_B-O6W4drewjPddvy_bJ0AKNEfvQBzgUVwH3yHNNUAg-eLVfTb-O2Fh0SeUGD-xVHAXksFxLeZpBzt7eIzIc1J2sf9oRbCrsg7VuBvVpbAS7J2APWKki4Jhn2kzK39zFMjhj&p=6&sk=&fvj=0\n",
      "https://au.indeed.com/rc/clk?jk=972ffd2bbc59e1b8&fccid=c6087990a1c62897\n",
      "https://au.indeed.com/pagead/clk?mo=r&ad=-6NYlbfkN0BwQOinhhjytFuGzOalMzRs2-0HuZwQVlOp6LTq_X3BOplot1e9n7ywxrqIo5Eo-2gi3RO5YYY5DsHMLeE9KtYH56TzkdJUkbPdQQqb9o20jVxgBb7rJWcKTymd1E14eYwBy1bYT5avmrvsMAFqbRQ79lMsKlpFXjrSln6DtXGakOgETmVnd6hLy4Du1UybAhvr5fRkfyy2e-rEeJWXVerc-2Ogrqxt28JiaucCOslzY1CHY1E9yLZ7m3p85Nt_BGLUJHmmYk8qipuvDREJRUdHExemTQdPLIeBtJLV-SvJgglJ5xynFb8veeaVzPt2DSCw_WA18oQ8lkI_h33cnIDR-eSkOpaznclMDDK1XI0OfF4kkLN2mCIrt5Z2Vm0ejBFQ-7vMY-51bfSaPB2d2xVxA4l7m0JkWl8=&p=4&sk=&fvj=1\n",
      "https://au.indeed.com/rc/clk?jk=a6d57642ed94a772&fccid=bca6f10d73dbbf6c\n",
      "https://au.indeed.com/pagead/clk?mo=r&ad=-6NYlbfkN0C0JJUhbQVgzgDGx-dsYjlRJhHO4kZNv2z9s6LVeGBT1zOpjKM400f8vs6t0tYbmeIvHFb0emIq-feFs4GJsa3zrc0wSvK3EX17LvzGdwir2xXFeOsdN6K4PHWmeveDifbADLhLd84sODLo_cm5DFHgoZGqSZEQyQiZ3Gw4EU5DI3WBSMHyzwM7JaQeCCzLYOKapXwzkXmFhHaelTS6nmHg6SB2WPlixZPg8aiV3Ya-SCd4y40J4FS7uFRNCGcIHPaKKnRd_Gznv2YSDCPlWb2tUgBFKUym8GUbWy2gVXSukaF02E7GfnBH7-gEh2KrxA5fglLEUOgq_0awVgVfUmOSGAcPyW6r-Z2M4InyR7zuFCCZkBQyWn0m1nR41G8grf07DwDnRyZs3p00hN9RPMtF_qRv-dgoWPb9miYPOa21MMNPBhJuKOuhUaExl-ICw71jPN2gB44nOaPeWGkDPsOM_lf1pyNW63mHiuZUPSB6I7XXCtzDZwSClx3tAmppxVBz8w8vkUd2v-Vu5LHRIRRoSQ1az2rKJK50UhY3ZQgM3tZUiW1vpgy5IOcZUW-amsfzCu4xz0fI_hIgikGtH1lZ3U4MgFgJJ0kVPzKM_f6V6bIz1DhB9Elu&p=4&sk=&fvj=0\n",
      "https://au.indeed.com/pagead/clk?mo=r&ad=-6NYlbfkN0B-i65Vz1NE2ltaHzTGFhVZlLsj7U06fPnKQvZm_GfHDX4xoIyjarUr3DdUgZQ8EGpVPrtoH0VKnRybN45FED3dgQX9VpQPi76YzHApgeD8QoJQdONcrk884D0C91hsdAzlwAW68K2yvqPBND4BfOojaZ-UxNX9xs1_P8I3hY9T-aOaDMdxPbvQZblL_RwzCGUPbbWEuoiY-F0wUql4MfvMoqZgE50_0jy5bGQFCU6jAGsj47fe4V3zP3kjFRy5DLHZ7OGpopbpIrTEzgqpXVQhEZjVoyny22imw1MdpDo0ibR6edbhu2YI0Vc4QLNzexEkjC3XreYH4IsEYDiD2lGaBqnqB79OuD_D561y7m_prM2RF21Pc6kv8IaTUaYy-e99KbjwAnBMBPfmr5EqcYWyL1xyi9GWyglNQKvbe129k09D1rYYiY4rPtuMNe3DrVqKcM6uS4tvrEAz9PlOHvFXVuwKD6ZDTV95omqdXC9s4Q==&p=5&sk=&fvj=1\n",
      "https://au.indeed.com/pagead/clk?mo=r&ad=-6NYlbfkN0A59wcYcY34xyza-tGHHvoFi9VmmQCxgEiiRlhSWHWwxeJmlODOL-n2iN0W3blsGCfOgT_PNkmY89NwZpCPjswSf2V-6OxXz3wXks0pa_qCSEDJbu71buawfvM_xVeB81rdqQ8Iv8HaZ4rQDB5M82yAvKYyxVhA39V88G8SKX6_9zY1TbmdMB7AkqazbEJ8u1zbnDq1ixf2xz88XAALs_4zKmp0xMCTjQN5swLFZAfmdDrCoowAHmQKM656-GSo2YMpWBehosWYdCPpMZBpmJMwtgVm8mxlj51Kj2rg_sTM0-g-QvC6MiUIKSRn3Wy5aPKKNHmjU_kRGRv1aNFK6XezhmHe7ozAr8MGNkEEIeovsHzI-m10oaOR6HPIrOtyGViwlcsgJLycece7LpxKCXb_dGNdgVpsMYjOYYk4mhvM3Q==&p=6&sk=&fvj=1\n",
      "https://au.indeed.com/pagead/clk?mo=r&ad=-6NYlbfkN0A59wcYcY34xyza-tGHHvoFi9VmmQCxgEiiRlhSWHWwxeJmlODOL-n2iN0W3blsGCfOgT_PNkmY89NwZpCPjswSf2V-6OxXz3wXks0pa_qCSEDJbu71buawfvM_xVeB81rdqQ8Iv8HaZ4rQDB5M82yA5MoX0nKazD0rrx2ygWyH4t1gNOBFRuTtysp37khgMNxec32rITX-HGaRi5dFLjfJGkqkp_HL6nYYYcfT2s25sUDczTAQvurIJXKirf_R0WtufsU59jaQ2VXWbK558xVjiazEgVMaHeMKsonglTQXWxidkUAZWgZzVG5wfpU56bIkpa8WEXqT8S9tI-vZZTcLN0SwS8BqLdrcS2c8wyib1clTkLSElIN-6XRFg763JXQ6JIJcfHMq9ZexOdvNAyk0cGCjO6gRbg8BG99fcLUxZA==&p=1&sk=&fvj=1\n",
      "https://au.indeed.com/pagead/clk?mo=r&ad=-6NYlbfkN0B-i65Vz1NE2ltaHzTGFhVZlLsj7U06fPnKQvZm_GfHDX4xoIyjarUr3DdUgZQ8EGpVPrtoH0VKnRybN45FED3dgQX9VpQPi76YzHApgeD8QoJQdONcrk884D0C91hsdAzlwAW68K2yvqPBND4BfOojaZ-UxNX9xs149UvXbX_lYawYrpmP_rcNEDg9-VlBErUCapQ9_eSu-3yf2NGOyNpNVQc7n2-RAGjUlO-JUmb18b1wFAogbwIO6AKO5BBh7d0riugp6oLEwAMwFmJLYbS1Yl4B7Y0Q2CQvCXpsZ5gNatuRgJ7GTzazuFL8uu3D3-Xa8cqXagRVQ6PSpYpozEp5u9jXXCbHoeOjKHFaIdr0uJfkmwBMutOqrZPms6C09Kc7L03Cx2jpGMQXSt42Oa4qX6Csm_B_j2DyyceqegG5kPuZXrguJuut66NjnNVzj8gbMbVPbzykhjKOJd7YkP_wdSovBJg6N5nrWWuTIXVuDA==&p=2&sk=&fvj=1\n"
     ]
    }
   ],
   "source": [
    "df['description'] = df.job_link.map(link2descrip)\n",
    "\n",
    "df.drop('job_link', axis=1, inplace=True)\n",
    "print df.shape\n",
    "\n",
    "df.drop_duplicates(inplace=True)\n",
    "print df.shape\n",
    "\n",
    "df.to_csv('developer_output_add_descrip.csv')"
   ]
  },
  {
   "cell_type": "code",
   "execution_count": null,
   "metadata": {
    "collapsed": true
   },
   "outputs": [],
   "source": []
  }
 ],
 "metadata": {
  "anaconda-cloud": {},
  "kernelspec": {
   "display_name": "Python [default]",
   "language": "python",
   "name": "python2"
  },
  "language_info": {
   "codemirror_mode": {
    "name": "ipython",
    "version": 2
   },
   "file_extension": ".py",
   "mimetype": "text/x-python",
   "name": "python",
   "nbconvert_exporter": "python",
   "pygments_lexer": "ipython2",
   "version": "2.7.13"
  },
  "toc": {
   "colors": {
    "hover_highlight": "#DAA520",
    "navigate_num": "#000000",
    "navigate_text": "#333333",
    "running_highlight": "#FF0000",
    "selected_highlight": "#FFD700",
    "sidebar_border": "#EEEEEE",
    "wrapper_background": "#FFFFFF"
   },
   "moveMenuLeft": true,
   "nav_menu": {
    "height": "48px",
    "width": "252px"
   },
   "navigate_menu": true,
   "number_sections": true,
   "sideBar": true,
   "threshold": 4,
   "toc_cell": false,
   "toc_position": {
    "height": "697px",
    "left": "0px",
    "right": "1184px",
    "top": "106px",
    "width": "174px"
   },
   "toc_section_display": "block",
   "toc_window_display": true,
   "widenNotebook": false
  }
 },
 "nbformat": 4,
 "nbformat_minor": 2
}
